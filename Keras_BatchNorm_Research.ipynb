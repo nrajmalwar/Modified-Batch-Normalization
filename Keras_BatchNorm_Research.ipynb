{
 "cells": [
  {
   "cell_type": "markdown",
   "metadata": {
    "colab_type": "text",
    "id": "Dh0pHf2BI27z"
   },
   "source": [
    "## Check the GPU"
   ]
  },
  {
   "cell_type": "code",
   "execution_count": 1,
   "metadata": {
    "colab": {
     "base_uri": "https://localhost:8080/",
     "height": 306
    },
    "colab_type": "code",
    "executionInfo": {
     "elapsed": 5053,
     "status": "ok",
     "timestamp": 1568662444015,
     "user": {
      "displayName": "Zoheb Abai",
      "photoUrl": "https://lh3.googleusercontent.com/a-/AAuE7mCNJvhYXwg_iS9t23ZfVRItSbwrwzZaQF-KRTR8x9E=s64",
      "userId": "05378514542588697659"
     },
     "user_tz": -330
    },
    "id": "d2Jxr12YIcY1",
    "outputId": "4731ee00-4bdc-4363-f172-2c56372148c7"
   },
   "outputs": [
    {
     "name": "stdout",
     "output_type": "stream",
     "text": [
      "Tue Sep 17 16:50:26 2019       \r\n",
      "+-----------------------------------------------------------------------------+\r\n",
      "| NVIDIA-SMI 418.67       Driver Version: 418.67       CUDA Version: 10.1     |\r\n",
      "|-------------------------------+----------------------+----------------------+\r\n",
      "| GPU  Name        Persistence-M| Bus-Id        Disp.A | Volatile Uncorr. ECC |\r\n",
      "| Fan  Temp  Perf  Pwr:Usage/Cap|         Memory-Usage | GPU-Util  Compute M. |\r\n",
      "|===============================+======================+======================|\r\n",
      "|   0  Tesla V100-SXM2...  On   | 00000000:00:1E.0 Off |                    0 |\r\n",
      "| N/A   54C    P0    56W / 300W |      0MiB / 16130MiB |      0%      Default |\r\n",
      "+-------------------------------+----------------------+----------------------+\r\n",
      "                                                                               \r\n",
      "+-----------------------------------------------------------------------------+\r\n",
      "| Processes:                                                       GPU Memory |\r\n",
      "|  GPU       PID   Type   Process name                             Usage      |\r\n",
      "|=============================================================================|\r\n",
      "|  No running processes found                                                 |\r\n",
      "+-----------------------------------------------------------------------------+\r\n"
     ]
    }
   ],
   "source": [
    "!nvidia-smi"
   ]
  },
  {
   "cell_type": "markdown",
   "metadata": {
    "colab_type": "text",
    "id": "ufgKj9XXI55i"
   },
   "source": [
    "## Import libraries"
   ]
  },
  {
   "cell_type": "code",
   "execution_count": 2,
   "metadata": {
    "colab": {},
    "colab_type": "code",
    "id": "1wQG9HbAIsoD"
   },
   "outputs": [],
   "source": [
    "import numpy as np\n",
    "import os\n",
    "import time\n",
    "import math\n",
    "import matplotlib.pyplot as plt\n",
    "%matplotlib inline\n",
    "np.random.seed(101)\n",
    "\n",
    "# tensorflow imports\n",
    "import tensorflow as tf\n",
    "import tensorflow.keras.backend as K\n",
    "from tensorflow.contrib.training import HParams\n",
    "\n",
    "# tf.keras imports\n",
    "from tensorflow.keras import Model\n",
    "from tensorflow.keras.layers import Dense, Conv2D, Flatten, Add, Softmax, GlobalMaxPool2D, DepthwiseConv2D\n",
    "from tensorflow.keras.layers import BatchNormalization, MaxPooling2D, Input, ReLU, Lambda, AveragePooling2D\n",
    "from tensorflow.keras.preprocessing.image import ImageDataGenerator\n",
    "from tensorflow.keras.optimizers import SGD\n",
    "from tensorflow.keras.regularizers import l2\n",
    "from tensorflow.keras.utils import to_categorical\n",
    "from tensorflow.keras.callbacks import ModelCheckpoint\n",
    "\n",
    "# Renewed Batch Norm\n",
    "from batchnorm import *\n",
    "\n",
    "# Don't pre-allocate memory; allocate as-needed\n",
    "config = tf.ConfigProto()\n",
    "config.gpu_options.allow_growth = True\n",
    "\n",
    "# Create a session with the above options specified.\n",
    "K.set_session(tf.Session(config=config))\n",
    "\n",
    "# Image Augmenters\n",
    "from albumentations import (Compose, HorizontalFlip, Cutout, PadIfNeeded, RandomCrop)\n",
    "\n",
    "# One Cycle LR'\n",
    "from clr import OneCycleLR, LRFinder"
   ]
  },
  {
   "cell_type": "markdown",
   "metadata": {
    "colab_type": "text",
    "id": "jaE4OtKGIya2"
   },
   "source": [
    "## Downloading Dataset"
   ]
  },
  {
   "cell_type": "code",
   "execution_count": 3,
   "metadata": {
    "colab": {},
    "colab_type": "code",
    "id": "ltmT4KkZIvjx"
   },
   "outputs": [],
   "source": [
    "from tensorflow.keras.datasets import cifar10\n",
    "(train_features, train_labels), (test_features, test_labels) = cifar10.load_data()\n",
    "num_train, img_channels, img_rows, img_cols =  train_features.shape\n",
    "num_test, _, _, _ =  test_features.shape\n",
    "num_classes = len(np.unique(train_labels))"
   ]
  },
  {
   "cell_type": "markdown",
   "metadata": {
    "colab_type": "text",
    "id": "UaKxMqcwJCjM"
   },
   "source": [
    "## View Data"
   ]
  },
  {
   "cell_type": "code",
   "execution_count": 4,
   "metadata": {
    "colab": {
     "base_uri": "https://localhost:8080/",
     "height": 213
    },
    "colab_type": "code",
    "executionInfo": {
     "elapsed": 2027,
     "status": "ok",
     "timestamp": 1568662506478,
     "user": {
      "displayName": "Zoheb Abai",
      "photoUrl": "https://lh3.googleusercontent.com/a-/AAuE7mCNJvhYXwg_iS9t23ZfVRItSbwrwzZaQF-KRTR8x9E=s64",
      "userId": "05378514542588697659"
     },
     "user_tz": -330
    },
    "id": "DEJdu5TmJCQ8",
    "outputId": "f69466f1-ce87-4c09-fdf6-fa54d16db3f1"
   },
   "outputs": [
    {
     "data": {
      "image/png": "[encoded data removed]",
      "text/plain": [
       "<Figure size 576x216 with 10 Axes>"
      ]
     },
     "metadata": {},
     "output_type": "display_data"
    }
   ],
   "source": [
    "class_names = ['airplane','automobile','bird','cat','deer',\n",
    "               'dog','frog','horse','ship','truck']\n",
    "fig = plt.figure(figsize=(8,3))\n",
    "for i in range(num_classes):\n",
    "    ax = fig.add_subplot(2, 5, 1 + i, xticks=[], yticks=[])\n",
    "    idx = np.where(train_labels[:]==i)[0]\n",
    "    features_idx = train_features[idx,::]\n",
    "    img_num = np.random.randint(features_idx.shape[0])\n",
    "    im = features_idx[img_num]\n",
    "    ax.set_title(class_names[i])\n",
    "    plt.imshow(im)\n",
    "plt.show()"
   ]
  },
  {
   "cell_type": "markdown",
   "metadata": {
    "colab_type": "text",
    "id": "CZhuBJDxJMAi"
   },
   "source": [
    "## Setting Hyperparams"
   ]
  },
  {
   "cell_type": "code",
   "execution_count": 5,
   "metadata": {
    "colab": {},
    "colab_type": "code",
    "id": "9IHxGPKtJH9z"
   },
   "outputs": [],
   "source": [
    "hparams = HParams(\n",
    "    learning_rate= 0.4,  # fixed learning rate\n",
    "    batch_size= 512,  # training batch size\n",
    "    momentum = 0.9, # fixed momentum\n",
    "    n_epochs= 24,  # number of epochs to train\n",
    "    decay = 1e-04 # learning rate*batch size\n",
    ")"
   ]
  },
  {
   "cell_type": "markdown",
   "metadata": {
    "colab_type": "text",
    "id": "7mZnxDp-JUwY"
   },
   "source": [
    "## Image Normalization and One hot encoding"
   ]
  },
  {
   "cell_type": "code",
   "execution_count": 6,
   "metadata": {
    "colab": {},
    "colab_type": "code",
    "id": "Mr9ZbW9JJV5s"
   },
   "outputs": [],
   "source": [
    "#Image Normalization\n",
    "train_features = train_features.astype('float32')\n",
    "test_features = test_features.astype('float32')\n",
    "\n",
    "mean = np.mean(train_features, axis=(0,1,2))\n",
    "std = np.std(train_features, axis=(0,1,2))\n",
    "X_train = (train_features - mean) / (std)\n",
    "X_test = (test_features - mean) / (std)\n",
    "\n",
    "# convert class labels to binary class labels\n",
    "y_train = to_categorical(train_labels, num_classes)\n",
    "y_test = to_categorical(test_labels, num_classes)"
   ]
  },
  {
   "cell_type": "markdown",
   "metadata": {
    "colab_type": "text",
    "id": "Z1enpycyJe0S"
   },
   "source": [
    "## Image Augmentation techniques\n",
    "\n",
    "* Random Crop of 32x32 with padding of 4px\n",
    "* Horizontal Flip\n",
    "* CutOut of 8x8\n"
   ]
  },
  {
   "cell_type": "code",
   "execution_count": 7,
   "metadata": {
    "colab": {},
    "colab_type": "code",
    "id": "3bXhs6zHJYS8"
   },
   "outputs": [],
   "source": [
    "# Custom Image augmentation \n",
    "\n",
    "def CustomImageDataGen(input_img):\n",
    "    seq = Compose([PadIfNeeded(40,40, p=1),\n",
    "                   RandomCrop(32,32, p=1),\n",
    "                   HorizontalFlip(p=0.5),\n",
    "                   Cutout(num_holes=1, p=0.5)\n",
    "                  ], p=1)\n",
    "    output_img = seq(image = input_img)['image']\n",
    "    return output_img\n",
    "\n",
    "datagen = ImageDataGenerator(preprocessing_function=CustomImageDataGen)\n",
    "datagen.fit(X_train)"
   ]
  },
  {
   "cell_type": "markdown",
   "metadata": {
    "colab_type": "text",
    "id": "fUnIyzvfJoh4"
   },
   "source": [
    "## Network Architecture (ResNet 9)"
   ]
  },
  {
   "cell_type": "code",
   "execution_count": 8,
   "metadata": {
    "colab": {},
    "colab_type": "code",
    "id": "V8WSNeZsJlpC"
   },
   "outputs": [],
   "source": [
    "# PyTorch’s default way to set the initial, random weights of layers does not have \n",
    "# a counterpart in Tensorflow, so we borrow that\n",
    "\n",
    "def init_pytorch(shape, dtype=tf.float32, partition_info=None):\n",
    "    fan = np.prod(shape[:-1])\n",
    "    bound = 1 / math.sqrt(fan)\n",
    "    return tf.random.uniform(shape, minval=-bound, maxval=bound, dtype=dtype)"
   ]
  },
  {
   "cell_type": "code",
   "execution_count": 9,
   "metadata": {
    "colab": {},
    "colab_type": "code",
    "id": "c3_zNntmJwez"
   },
   "outputs": [],
   "source": [
    "def Resnet9(input_dim, n_classes): \n",
    "    inputs = Input(shape= input_dim, name='input')\n",
    "\n",
    "    # Define the repeated conv_bn_relu function\n",
    "    def conv_bn_relu(x, layer_name, pool=False):\n",
    "        channels = {'prep': 64, 'layer1': 128, 'layer2': 256, 'layer3': 256}\n",
    "        x = Conv2D(filters = channels[layer_name], \n",
    "                   kernel_size = 3, \n",
    "                   strides = 1, \n",
    "                   padding = 'same',\n",
    "                   kernel_initializer=init_pytorch,\n",
    "                   kernel_regularizer=l2(hparams.decay),\n",
    "                   use_bias=False)(x)\n",
    "        #x = BatchNormalization(momentum=0.9, epsilon=1e-5)(x)\n",
    "        x = BatchNorm()(x)\n",
    "        x = ReLU()(x)\n",
    "        if pool==True:\n",
    "            x = MaxPooling2D(2)(x)\n",
    "        return x        \n",
    "\n",
    "    # Stack the layers\n",
    "    # Layer Prep\n",
    "    layer_prep = conv_bn_relu(inputs, 'prep')\n",
    "\n",
    "    # Layer 1\n",
    "    layer1_part1 = conv_bn_relu(layer_prep, 'layer1', pool=True)  \n",
    "    layer1_part2_res1 = conv_bn_relu(layer1_part1, 'layer1')\n",
    "    layer1_part2_res2 = conv_bn_relu(layer1_part2_res1, 'layer1')\n",
    "    layer1 = Add()([layer1_part1, layer1_part2_res2])\n",
    "    \n",
    "    # Layer 2\n",
    "    layer2_part1 = conv_bn_relu(layer1, 'layer2', pool=True)  \n",
    "    layer2_part2_res1 = conv_bn_relu(layer2_part1, 'layer2')\n",
    "    layer2_part2_res2 = conv_bn_relu(layer2_part2_res1, 'layer2')\n",
    "    layer2 = Add()([layer2_part1, layer2_part2_res2])\n",
    "\n",
    "    # Layer 3\n",
    "    layer3 = conv_bn_relu(layer2, 'layer3', pool=True)\n",
    "\n",
    "    # Layer Classifier\n",
    "    layer_classifier = GlobalMaxPool2D()(layer3)\n",
    "    layer_classifier = Flatten()(layer_classifier)\n",
    "    layer_classifier = Dense(n_classes, kernel_initializer= init_pytorch,\n",
    "                           kernel_regularizer=l2(hparams.decay),\n",
    "                           use_bias=False, name='classifier')(layer_classifier)\n",
    "    layer_classifier = Lambda(lambda x : x * 0.2)(layer_classifier)\n",
    "\n",
    "    outputs = Softmax()(layer_classifier)\n",
    "\n",
    "    model = Model(inputs, outputs)\n",
    "    model.compile(loss='categorical_crossentropy',\n",
    "                optimizer=SGD(lr= hparams.learning_rate, momentum= hparams.momentum, \n",
    "                              nesterov=True),\n",
    "                metrics=['accuracy'])\n",
    "    return model"
   ]
  },
  {
   "cell_type": "markdown",
   "metadata": {
    "colab_type": "text",
    "id": "qkmHyQSeLnf2"
   },
   "source": [
    "### With Original BatchNorm"
   ]
  },
  {
   "cell_type": "code",
   "execution_count": 10,
   "metadata": {
    "colab": {
     "base_uri": "https://localhost:8080/",
     "height": 1000
    },
    "colab_type": "code",
    "executionInfo": {
     "elapsed": 21866,
     "status": "ok",
     "timestamp": 1567258153795,
     "user": {
      "displayName": "Zoheb Abai",
      "photoUrl": "https://lh3.googleusercontent.com/a-/AAuE7mCNJvhYXwg_iS9t23ZfVRItSbwrwzZaQF-KRTR8x9E=s64",
      "userId": "05378514542588697659"
     },
     "user_tz": -330
    },
    "id": "weUHTl5xJ0DX",
    "outputId": "b7fff8de-8dca-4415-a311-724c5ffd4164"
   },
   "outputs": [
    {
     "name": "stdout",
     "output_type": "stream",
     "text": [
      "Model: \"model\"\n",
      "__________________________________________________________________________________________________\n",
      "Layer (type)                    Output Shape         Param #     Connected to                     \n",
      "==================================================================================================\n",
      "input (InputLayer)              [(None, 32, 32, 3)]  0                                            \n",
      "__________________________________________________________________________________________________\n",
      "conv2d (Conv2D)                 (None, 32, 32, 64)   1728        input[0][0]                      \n",
      "__________________________________________________________________________________________________\n",
      "batch_normalization (BatchNorma (None, 32, 32, 64)   256         conv2d[0][0]                     \n",
      "__________________________________________________________________________________________________\n",
      "re_lu (ReLU)                    (None, 32, 32, 64)   0           batch_normalization[0][0]        \n",
      "__________________________________________________________________________________________________\n",
      "conv2d_1 (Conv2D)               (None, 32, 32, 128)  73728       re_lu[0][0]                      \n",
      "__________________________________________________________________________________________________\n",
      "batch_normalization_1 (BatchNor (None, 32, 32, 128)  512         conv2d_1[0][0]                   \n",
      "__________________________________________________________________________________________________\n",
      "re_lu_1 (ReLU)                  (None, 32, 32, 128)  0           batch_normalization_1[0][0]      \n",
      "__________________________________________________________________________________________________\n",
      "max_pooling2d (MaxPooling2D)    (None, 16, 16, 128)  0           re_lu_1[0][0]                    \n",
      "__________________________________________________________________________________________________\n",
      "conv2d_2 (Conv2D)               (None, 16, 16, 128)  147456      max_pooling2d[0][0]              \n",
      "__________________________________________________________________________________________________\n",
      "batch_normalization_2 (BatchNor (None, 16, 16, 128)  512         conv2d_2[0][0]                   \n",
      "__________________________________________________________________________________________________\n",
      "re_lu_2 (ReLU)                  (None, 16, 16, 128)  0           batch_normalization_2[0][0]      \n",
      "__________________________________________________________________________________________________\n",
      "conv2d_3 (Conv2D)               (None, 16, 16, 128)  147456      re_lu_2[0][0]                    \n",
      "__________________________________________________________________________________________________\n",
      "batch_normalization_3 (BatchNor (None, 16, 16, 128)  512         conv2d_3[0][0]                   \n",
      "__________________________________________________________________________________________________\n",
      "re_lu_3 (ReLU)                  (None, 16, 16, 128)  0           batch_normalization_3[0][0]      \n",
      "__________________________________________________________________________________________________\n",
      "add (Add)                       (None, 16, 16, 128)  0           max_pooling2d[0][0]              \n",
      "                                                                 re_lu_3[0][0]                    \n",
      "__________________________________________________________________________________________________\n",
      "conv2d_4 (Conv2D)               (None, 16, 16, 256)  294912      add[0][0]                        \n",
      "__________________________________________________________________________________________________\n",
      "batch_normalization_4 (BatchNor (None, 16, 16, 256)  1024        conv2d_4[0][0]                   \n",
      "__________________________________________________________________________________________________\n",
      "re_lu_4 (ReLU)                  (None, 16, 16, 256)  0           batch_normalization_4[0][0]      \n",
      "__________________________________________________________________________________________________\n",
      "max_pooling2d_1 (MaxPooling2D)  (None, 8, 8, 256)    0           re_lu_4[0][0]                    \n",
      "__________________________________________________________________________________________________\n",
      "conv2d_5 (Conv2D)               (None, 8, 8, 256)    589824      max_pooling2d_1[0][0]            \n",
      "__________________________________________________________________________________________________\n",
      "batch_normalization_5 (BatchNor (None, 8, 8, 256)    1024        conv2d_5[0][0]                   \n",
      "__________________________________________________________________________________________________\n",
      "re_lu_5 (ReLU)                  (None, 8, 8, 256)    0           batch_normalization_5[0][0]      \n",
      "__________________________________________________________________________________________________\n",
      "conv2d_6 (Conv2D)               (None, 8, 8, 256)    589824      re_lu_5[0][0]                    \n",
      "__________________________________________________________________________________________________\n",
      "batch_normalization_6 (BatchNor (None, 8, 8, 256)    1024        conv2d_6[0][0]                   \n",
      "__________________________________________________________________________________________________\n",
      "re_lu_6 (ReLU)                  (None, 8, 8, 256)    0           batch_normalization_6[0][0]      \n",
      "__________________________________________________________________________________________________\n",
      "add_1 (Add)                     (None, 8, 8, 256)    0           max_pooling2d_1[0][0]            \n",
      "                                                                 re_lu_6[0][0]                    \n",
      "__________________________________________________________________________________________________\n",
      "conv2d_7 (Conv2D)               (None, 8, 8, 256)    589824      add_1[0][0]                      \n",
      "__________________________________________________________________________________________________\n",
      "batch_normalization_7 (BatchNor (None, 8, 8, 256)    1024        conv2d_7[0][0]                   \n",
      "__________________________________________________________________________________________________\n",
      "re_lu_7 (ReLU)                  (None, 8, 8, 256)    0           batch_normalization_7[0][0]      \n",
      "__________________________________________________________________________________________________\n",
      "max_pooling2d_2 (MaxPooling2D)  (None, 4, 4, 256)    0           re_lu_7[0][0]                    \n",
      "__________________________________________________________________________________________________\n",
      "global_max_pooling2d (GlobalMax (None, 256)          0           max_pooling2d_2[0][0]            \n",
      "__________________________________________________________________________________________________\n",
      "flatten (Flatten)               (None, 256)          0           global_max_pooling2d[0][0]       \n",
      "__________________________________________________________________________________________________\n",
      "classifier (Dense)              (None, 10)           2560        flatten[0][0]                    \n",
      "__________________________________________________________________________________________________\n",
      "lambda (Lambda)                 (None, 10)           0           classifier[0][0]                 \n",
      "__________________________________________________________________________________________________\n",
      "softmax (Softmax)               (None, 10)           0           lambda[0][0]                     \n",
      "==================================================================================================\n",
      "Total params: 2,443,200\n",
      "Trainable params: 2,440,256\n",
      "Non-trainable params: 2,944\n",
      "__________________________________________________________________________________________________\n"
     ]
    }
   ],
   "source": [
    "# Model Summary\n",
    "input_dim = X_train.shape[1:]\n",
    "net = Resnet9(input_dim, num_classes)\n",
    "net.summary()"
   ]
  },
  {
   "cell_type": "markdown",
   "metadata": {
    "colab_type": "text",
    "id": "vfYSM_glL35D"
   },
   "source": [
    "### With Modified BatchNorm"
   ]
  },
  {
   "cell_type": "code",
   "execution_count": 10,
   "metadata": {
    "colab": {
     "base_uri": "https://localhost:8080/",
     "height": 1000
    },
    "colab_type": "code",
    "executionInfo": {
     "elapsed": 2715,
     "status": "ok",
     "timestamp": 1568662576107,
     "user": {
      "displayName": "Zoheb Abai",
      "photoUrl": "https://lh3.googleusercontent.com/a-/AAuE7mCNJvhYXwg_iS9t23ZfVRItSbwrwzZaQF-KRTR8x9E=s64",
      "userId": "05378514542588697659"
     },
     "user_tz": -330
    },
    "id": "4LUsuWgzFUDE",
    "outputId": "aee1adfe-0564-4b05-c72f-3159b3868230"
   },
   "outputs": [
    {
     "name": "stderr",
     "output_type": "stream",
     "text": [
      "WARNING: Logging before flag parsing goes to stderr.\n",
      "W0917 16:38:37.348544 139668422256448 deprecation.py:506] From /home/ec2-user/anaconda3/envs/tensorflow_p36/lib/python3.6/site-packages/tensorflow/python/ops/init_ops.py:1251: calling VarianceScaling.__init__ (from tensorflow.python.ops.init_ops) with dtype is deprecated and will be removed in a future version.\n",
      "Instructions for updating:\n",
      "Call initializer instance with the dtype argument instead of passing it to the constructor\n"
     ]
    },
    {
     "name": "stdout",
     "output_type": "stream",
     "text": [
      "Model: \"model\"\n",
      "__________________________________________________________________________________________________\n",
      "Layer (type)                    Output Shape         Param #     Connected to                     \n",
      "==================================================================================================\n",
      "input (InputLayer)              [(None, 32, 32, 3)]  0                                            \n",
      "__________________________________________________________________________________________________\n",
      "conv2d (Conv2D)                 (None, 32, 32, 64)   1728        input[0][0]                      \n",
      "__________________________________________________________________________________________________\n",
      "batch_norm (BatchNorm)          (None, 32, 32, 64)   128         conv2d[0][0]                     \n",
      "__________________________________________________________________________________________________\n",
      "re_lu (ReLU)                    (None, 32, 32, 64)   0           batch_norm[0][0]                 \n",
      "__________________________________________________________________________________________________\n",
      "conv2d_1 (Conv2D)               (None, 32, 32, 128)  73728       re_lu[0][0]                      \n",
      "__________________________________________________________________________________________________\n",
      "batch_norm_1 (BatchNorm)        (None, 32, 32, 128)  256         conv2d_1[0][0]                   \n",
      "__________________________________________________________________________________________________\n",
      "re_lu_1 (ReLU)                  (None, 32, 32, 128)  0           batch_norm_1[0][0]               \n",
      "__________________________________________________________________________________________________\n",
      "max_pooling2d (MaxPooling2D)    (None, 16, 16, 128)  0           re_lu_1[0][0]                    \n",
      "__________________________________________________________________________________________________\n",
      "conv2d_2 (Conv2D)               (None, 16, 16, 128)  147456      max_pooling2d[0][0]              \n",
      "__________________________________________________________________________________________________\n",
      "batch_norm_2 (BatchNorm)        (None, 16, 16, 128)  256         conv2d_2[0][0]                   \n",
      "__________________________________________________________________________________________________\n",
      "re_lu_2 (ReLU)                  (None, 16, 16, 128)  0           batch_norm_2[0][0]               \n",
      "__________________________________________________________________________________________________\n",
      "conv2d_3 (Conv2D)               (None, 16, 16, 128)  147456      re_lu_2[0][0]                    \n",
      "__________________________________________________________________________________________________\n",
      "batch_norm_3 (BatchNorm)        (None, 16, 16, 128)  256         conv2d_3[0][0]                   \n",
      "__________________________________________________________________________________________________\n",
      "re_lu_3 (ReLU)                  (None, 16, 16, 128)  0           batch_norm_3[0][0]               \n",
      "__________________________________________________________________________________________________\n",
      "add (Add)                       (None, 16, 16, 128)  0           max_pooling2d[0][0]              \n",
      "                                                                 re_lu_3[0][0]                    \n",
      "__________________________________________________________________________________________________\n",
      "conv2d_4 (Conv2D)               (None, 16, 16, 256)  294912      add[0][0]                        \n",
      "__________________________________________________________________________________________________\n",
      "batch_norm_4 (BatchNorm)        (None, 16, 16, 256)  512         conv2d_4[0][0]                   \n",
      "__________________________________________________________________________________________________\n",
      "re_lu_4 (ReLU)                  (None, 16, 16, 256)  0           batch_norm_4[0][0]               \n",
      "__________________________________________________________________________________________________\n",
      "max_pooling2d_1 (MaxPooling2D)  (None, 8, 8, 256)    0           re_lu_4[0][0]                    \n",
      "__________________________________________________________________________________________________\n",
      "conv2d_5 (Conv2D)               (None, 8, 8, 256)    589824      max_pooling2d_1[0][0]            \n",
      "__________________________________________________________________________________________________\n",
      "batch_norm_5 (BatchNorm)        (None, 8, 8, 256)    512         conv2d_5[0][0]                   \n",
      "__________________________________________________________________________________________________\n",
      "re_lu_5 (ReLU)                  (None, 8, 8, 256)    0           batch_norm_5[0][0]               \n",
      "__________________________________________________________________________________________________\n",
      "conv2d_6 (Conv2D)               (None, 8, 8, 256)    589824      re_lu_5[0][0]                    \n",
      "__________________________________________________________________________________________________\n",
      "batch_norm_6 (BatchNorm)        (None, 8, 8, 256)    512         conv2d_6[0][0]                   \n",
      "__________________________________________________________________________________________________\n",
      "re_lu_6 (ReLU)                  (None, 8, 8, 256)    0           batch_norm_6[0][0]               \n",
      "__________________________________________________________________________________________________\n",
      "add_1 (Add)                     (None, 8, 8, 256)    0           max_pooling2d_1[0][0]            \n",
      "                                                                 re_lu_6[0][0]                    \n",
      "__________________________________________________________________________________________________\n",
      "conv2d_7 (Conv2D)               (None, 8, 8, 256)    589824      add_1[0][0]                      \n",
      "__________________________________________________________________________________________________\n",
      "batch_norm_7 (BatchNorm)        (None, 8, 8, 256)    512         conv2d_7[0][0]                   \n",
      "__________________________________________________________________________________________________\n",
      "re_lu_7 (ReLU)                  (None, 8, 8, 256)    0           batch_norm_7[0][0]               \n",
      "__________________________________________________________________________________________________\n",
      "max_pooling2d_2 (MaxPooling2D)  (None, 4, 4, 256)    0           re_lu_7[0][0]                    \n",
      "__________________________________________________________________________________________________\n",
      "global_max_pooling2d (GlobalMax (None, 256)          0           max_pooling2d_2[0][0]            \n",
      "__________________________________________________________________________________________________\n",
      "flatten (Flatten)               (None, 256)          0           global_max_pooling2d[0][0]       \n",
      "__________________________________________________________________________________________________\n",
      "classifier (Dense)              (None, 10)           2560        flatten[0][0]                    \n",
      "__________________________________________________________________________________________________\n",
      "lambda (Lambda)                 (None, 10)           0           classifier[0][0]                 \n",
      "__________________________________________________________________________________________________\n",
      "softmax (Softmax)               (None, 10)           0           lambda[0][0]                     \n",
      "==================================================================================================\n",
      "Total params: 2,440,256\n",
      "Trainable params: 2,437,312\n",
      "Non-trainable params: 2,944\n",
      "__________________________________________________________________________________________________\n"
     ]
    }
   ],
   "source": [
    "# Model Summary\n",
    "input_dim = X_train.shape[1:]\n",
    "net = Resnet9(input_dim, num_classes)\n",
    "net.summary()"
   ]
  },
  {
   "cell_type": "markdown",
   "metadata": {},
   "source": [
    "**Less number of parameters than Original BatchNorm**"
   ]
  },
  {
   "cell_type": "markdown",
   "metadata": {
    "colab_type": "text",
    "id": "g-wUPrtYL9e1"
   },
   "source": [
    "### Without BatchNorm"
   ]
  },
  {
   "cell_type": "code",
   "execution_count": 10,
   "metadata": {
    "colab": {
     "base_uri": "https://localhost:8080/",
     "height": 1000
    },
    "colab_type": "code",
    "executionInfo": {
     "elapsed": 1588,
     "status": "ok",
     "timestamp": 1567800986887,
     "user": {
      "displayName": "Zoheb Abai",
      "photoUrl": "https://lh3.googleusercontent.com/a-/AAuE7mCNJvhYXwg_iS9t23ZfVRItSbwrwzZaQF-KRTR8x9E=s64",
      "userId": "05378514542588697659"
     },
     "user_tz": -330
    },
    "id": "CfHmCpTlMAtb",
    "outputId": "b0cbf662-053a-4b3e-80a6-45dc1a76a8a4"
   },
   "outputs": [
    {
     "name": "stdout",
     "output_type": "stream",
     "text": [
      "Model: \"model\"\n",
      "__________________________________________________________________________________________________\n",
      "Layer (type)                    Output Shape         Param #     Connected to                     \n",
      "==================================================================================================\n",
      "input (InputLayer)              [(None, 32, 32, 3)]  0                                            \n",
      "__________________________________________________________________________________________________\n",
      "conv2d (Conv2D)                 (None, 32, 32, 64)   1728        input[0][0]                      \n",
      "__________________________________________________________________________________________________\n",
      "re_lu (ReLU)                    (None, 32, 32, 64)   0           conv2d[0][0]                     \n",
      "__________________________________________________________________________________________________\n",
      "conv2d_1 (Conv2D)               (None, 32, 32, 128)  73728       re_lu[0][0]                      \n",
      "__________________________________________________________________________________________________\n",
      "re_lu_1 (ReLU)                  (None, 32, 32, 128)  0           conv2d_1[0][0]                   \n",
      "__________________________________________________________________________________________________\n",
      "max_pooling2d (MaxPooling2D)    (None, 16, 16, 128)  0           re_lu_1[0][0]                    \n",
      "__________________________________________________________________________________________________\n",
      "conv2d_2 (Conv2D)               (None, 16, 16, 128)  147456      max_pooling2d[0][0]              \n",
      "__________________________________________________________________________________________________\n",
      "re_lu_2 (ReLU)                  (None, 16, 16, 128)  0           conv2d_2[0][0]                   \n",
      "__________________________________________________________________________________________________\n",
      "conv2d_3 (Conv2D)               (None, 16, 16, 128)  147456      re_lu_2[0][0]                    \n",
      "__________________________________________________________________________________________________\n",
      "re_lu_3 (ReLU)                  (None, 16, 16, 128)  0           conv2d_3[0][0]                   \n",
      "__________________________________________________________________________________________________\n",
      "add (Add)                       (None, 16, 16, 128)  0           max_pooling2d[0][0]              \n",
      "                                                                 re_lu_3[0][0]                    \n",
      "__________________________________________________________________________________________________\n",
      "conv2d_4 (Conv2D)               (None, 16, 16, 256)  294912      add[0][0]                        \n",
      "__________________________________________________________________________________________________\n",
      "re_lu_4 (ReLU)                  (None, 16, 16, 256)  0           conv2d_4[0][0]                   \n",
      "__________________________________________________________________________________________________\n",
      "max_pooling2d_1 (MaxPooling2D)  (None, 8, 8, 256)    0           re_lu_4[0][0]                    \n",
      "__________________________________________________________________________________________________\n",
      "conv2d_5 (Conv2D)               (None, 8, 8, 256)    589824      max_pooling2d_1[0][0]            \n",
      "__________________________________________________________________________________________________\n",
      "re_lu_5 (ReLU)                  (None, 8, 8, 256)    0           conv2d_5[0][0]                   \n",
      "__________________________________________________________________________________________________\n",
      "conv2d_6 (Conv2D)               (None, 8, 8, 256)    589824      re_lu_5[0][0]                    \n",
      "__________________________________________________________________________________________________\n",
      "re_lu_6 (ReLU)                  (None, 8, 8, 256)    0           conv2d_6[0][0]                   \n",
      "__________________________________________________________________________________________________\n",
      "add_1 (Add)                     (None, 8, 8, 256)    0           max_pooling2d_1[0][0]            \n",
      "                                                                 re_lu_6[0][0]                    \n",
      "__________________________________________________________________________________________________\n",
      "conv2d_7 (Conv2D)               (None, 8, 8, 256)    589824      add_1[0][0]                      \n",
      "__________________________________________________________________________________________________\n",
      "re_lu_7 (ReLU)                  (None, 8, 8, 256)    0           conv2d_7[0][0]                   \n",
      "__________________________________________________________________________________________________\n",
      "max_pooling2d_2 (MaxPooling2D)  (None, 4, 4, 256)    0           re_lu_7[0][0]                    \n",
      "__________________________________________________________________________________________________\n",
      "global_max_pooling2d (GlobalMax (None, 256)          0           max_pooling2d_2[0][0]            \n",
      "__________________________________________________________________________________________________\n",
      "flatten (Flatten)               (None, 256)          0           global_max_pooling2d[0][0]       \n",
      "__________________________________________________________________________________________________\n",
      "classifier (Dense)              (None, 10)           2560        flatten[0][0]                    \n",
      "__________________________________________________________________________________________________\n",
      "lambda (Lambda)                 (None, 10)           0           classifier[0][0]                 \n",
      "__________________________________________________________________________________________________\n",
      "softmax (Softmax)               (None, 10)           0           lambda[0][0]                     \n",
      "==================================================================================================\n",
      "Total params: 2,437,312\n",
      "Trainable params: 2,437,312\n",
      "Non-trainable params: 0\n",
      "__________________________________________________________________________________________________\n"
     ]
    }
   ],
   "source": [
    "# Model Summary\n",
    "input_dim = X_train.shape[1:]\n",
    "net = Resnet9(input_dim, num_classes)\n",
    "net.summary()"
   ]
  },
  {
   "cell_type": "markdown",
   "metadata": {
    "colab_type": "text",
    "id": "uyNSq26FKFHX"
   },
   "source": [
    "## Finding Max Learning rate for OneCycle LR"
   ]
  },
  {
   "cell_type": "code",
   "execution_count": null,
   "metadata": {
    "colab": {},
    "colab_type": "code",
    "id": "E2kX5MInKMPB"
   },
   "outputs": [],
   "source": [
    "lr_callback = LRFinder(num_train, batch_size=512, lr_scale='exp', save_dir='.')\n",
    "net.fit(X_train, y_train, epochs=1, batch_size=512, callbacks=[lr_callback])"
   ]
  },
  {
   "cell_type": "code",
   "execution_count": null,
   "metadata": {
    "colab": {
     "base_uri": "https://localhost:8080/",
     "height": 291
    },
    "colab_type": "code",
    "executionInfo": {
     "elapsed": 2723,
     "status": "ok",
     "timestamp": 1567173714347,
     "user": {
      "displayName": "Zoheb Abai",
      "photoUrl": "https://lh3.googleusercontent.com/a-/AAuE7mCNJvhYXwg_iS9t23ZfVRItSbwrwzZaQF-KRTR8x9E=s64",
      "userId": "05378514542588697659"
     },
     "user_tz": -330
    },
    "id": "cVlT4f12MwZb",
    "outputId": "983ea3f0-58b1-4fa0-9ace-e4ea6666871a"
   },
   "outputs": [
    {
     "data": {
      "image/png": "[encoded data removed]",
      "text/plain": [
       "<Figure size 432x288 with 1 Axes>"
      ]
     },
     "metadata": {
      "tags": []
     },
     "output_type": "display_data"
    }
   ],
   "source": [
    "LRFinder.plot_schedule_from_file('.')"
   ]
  },
  {
   "cell_type": "markdown",
   "metadata": {
    "colab_type": "text",
    "id": "RI1gOQ_z2Mqr"
   },
   "source": [
    "Its not clear from the graph, although we see a bump near 0.5. We will go with prescribed max lr of 0.4."
   ]
  },
  {
   "cell_type": "markdown",
   "metadata": {
    "colab_type": "text",
    "id": "zyJk9VCdKA0b"
   },
   "source": [
    "## Model Training "
   ]
  },
  {
   "cell_type": "markdown",
   "metadata": {
    "colab_type": "text",
    "id": "KL5UVErtM87F"
   },
   "source": [
    "### With original Batch_Norm"
   ]
  },
  {
   "cell_type": "code",
   "execution_count": 11,
   "metadata": {
    "colab": {
     "base_uri": "https://localhost:8080/",
     "height": 850
    },
    "colab_type": "code",
    "executionInfo": {
     "elapsed": 541001,
     "status": "ok",
     "timestamp": 1568420676780,
     "user": {
      "displayName": "Zoheb Abai",
      "photoUrl": "https://lh3.googleusercontent.com/a-/AAuE7mCNJvhYXwg_iS9t23ZfVRItSbwrwzZaQF-KRTR8x9E=s64",
      "userId": "05378514542588697659"
     },
     "user_tz": -330
    },
    "id": "GX5dFbbxKBQ4",
    "outputId": "c2afa81d-0320-4a3e-f3a4-1245fa81d445"
   },
   "outputs": [
    {
     "name": "stdout",
     "output_type": "stream",
     "text": [
      "Epoch 1/24\n",
      "98/98 [==============================] - 14s 141ms/step - loss: 1.4888 - acc: 0.4833 - val_loss: 1.3137 - val_acc: 0.5635\n",
      "Epoch 2/24\n",
      "98/98 [==============================] - 8s 81ms/step - loss: 0.8852 - acc: 0.7086 - val_loss: 0.8581 - val_acc: 0.7282\n",
      "Epoch 3/24\n",
      "98/98 [==============================] - 8s 83ms/step - loss: 0.6899 - acc: 0.7836 - val_loss: 0.7153 - val_acc: 0.7777\n",
      "Epoch 4/24\n",
      "98/98 [==============================] - 8s 81ms/step - loss: 0.5957 - acc: 0.8185 - val_loss: 0.7888 - val_acc: 0.7583\n",
      "Epoch 5/24\n",
      "98/98 [==============================] - 8s 82ms/step - loss: 0.5506 - acc: 0.8394 - val_loss: 0.6070 - val_acc: 0.8259\n",
      "Epoch 6/24\n",
      "98/98 [==============================] - 8s 80ms/step - loss: 0.5126 - acc: 0.8556 - val_loss: 0.7792 - val_acc: 0.7840\n",
      "Epoch 7/24\n",
      "98/98 [==============================] - 8s 81ms/step - loss: 0.4942 - acc: 0.8677 - val_loss: 0.6953 - val_acc: 0.8079\n",
      "Epoch 8/24\n",
      "98/98 [==============================] - 8s 83ms/step - loss: 0.4805 - acc: 0.8734 - val_loss: 0.5613 - val_acc: 0.8515\n",
      "Epoch 9/24\n",
      "98/98 [==============================] - 8s 81ms/step - loss: 0.4630 - acc: 0.8852 - val_loss: 0.6116 - val_acc: 0.8429\n",
      "Epoch 10/24\n",
      "98/98 [==============================] - 8s 82ms/step - loss: 0.4589 - acc: 0.8891 - val_loss: 0.6245 - val_acc: 0.8441\n",
      "Epoch 11/24\n",
      "98/98 [==============================] - 8s 83ms/step - loss: 0.4532 - acc: 0.8962 - val_loss: 0.6103 - val_acc: 0.8528\n",
      "Epoch 12/24\n",
      "98/98 [==============================] - 8s 82ms/step - loss: 0.4283 - acc: 0.9075 - val_loss: 0.5756 - val_acc: 0.8628\n",
      "Epoch 13/24\n",
      "98/98 [==============================] - 8s 83ms/step - loss: 0.3992 - acc: 0.9206 - val_loss: 0.4823 - val_acc: 0.8936\n",
      "Epoch 14/24\n",
      "98/98 [==============================] - 8s 81ms/step - loss: 0.3794 - acc: 0.9279 - val_loss: 0.5242 - val_acc: 0.8866\n",
      "Epoch 15/24\n",
      "98/98 [==============================] - 8s 82ms/step - loss: 0.3561 - acc: 0.9380 - val_loss: 0.5451 - val_acc: 0.8808\n",
      "Epoch 16/24\n",
      "98/98 [==============================] - 8s 83ms/step - loss: 0.3371 - acc: 0.9439 - val_loss: 0.4747 - val_acc: 0.8980\n",
      "Epoch 17/24\n",
      "98/98 [==============================] - 8s 83ms/step - loss: 0.3134 - acc: 0.9518 - val_loss: 0.4743 - val_acc: 0.8998\n",
      "Epoch 18/24\n",
      "98/98 [==============================] - 8s 82ms/step - loss: 0.2932 - acc: 0.9590 - val_loss: 0.4691 - val_acc: 0.9043\n",
      "Epoch 19/24\n",
      "98/98 [==============================] - 8s 82ms/step - loss: 0.2729 - acc: 0.9656 - val_loss: 0.4300 - val_acc: 0.9146\n",
      "Epoch 20/24\n",
      "98/98 [==============================] - 8s 82ms/step - loss: 0.2509 - acc: 0.9710 - val_loss: 0.4148 - val_acc: 0.9199\n",
      "Epoch 21/24\n",
      "98/98 [==============================] - 8s 82ms/step - loss: 0.2292 - acc: 0.9793 - val_loss: 0.3943 - val_acc: 0.9255\n",
      "Epoch 22/24\n",
      "98/98 [==============================] - 8s 83ms/step - loss: 0.2118 - acc: 0.9847 - val_loss: 0.3830 - val_acc: 0.9308\n",
      "Epoch 23/24\n",
      "98/98 [==============================] - 8s 81ms/step - loss: 0.2023 - acc: 0.9880 - val_loss: 0.3717 - val_acc: 0.9313\n",
      "Epoch 24/24\n",
      "98/98 [==============================] - 8s 82ms/step - loss: 0.1949 - acc: 0.9902 - val_loss: 0.3690 - val_acc: 0.9335\n",
      "Model took 199.65 seconds to train\n"
     ]
    }
   ],
   "source": [
    "# train the model\n",
    "start = time.time()\n",
    "\n",
    "#checkpointer\n",
    "checkpointer = ModelCheckpoint(filepath=\"bestmodel.h5\", verbose=0, \n",
    "                               save_best_only=True, monitor=\"val_acc\")\n",
    "# one cycle lr\n",
    "lr_manager = OneCycleLR(max_lr= hparams.learning_rate, \n",
    "                        maximum_momentum=hparams.momentum, verbose=False)\n",
    "\n",
    "# Fit the model\n",
    "history = net.fit_generator(datagen.flow(X_train, y_train, \n",
    "                                         batch_size= hparams.batch_size, \n",
    "                                         shuffle=True), \n",
    "                            epochs = hparams.n_epochs, \n",
    "                            steps_per_epoch= np.ceil(X_train.shape[0]/hparams.batch_size),\n",
    "                            validation_data=(X_test, y_test),\n",
    "                            callbacks = [lr_manager, checkpointer])\n",
    "end = time.time()\n",
    "print (\"Model took %0.2f seconds to train\"%(end - start))"
   ]
  },
  {
   "cell_type": "markdown",
   "metadata": {
    "colab_type": "text",
    "id": "EFj0YWGXNBz0"
   },
   "source": [
    "### With Modified Batch_Norm"
   ]
  },
  {
   "cell_type": "code",
   "execution_count": 11,
   "metadata": {},
   "outputs": [
    {
     "name": "stdout",
     "output_type": "stream",
     "text": [
      "Epoch 1/24\n",
      "98/98 [==============================] - 15s 158ms/step - loss: 1.4604 - acc: 0.4906 - val_loss: 1.2655 - val_acc: 0.5758\n",
      "Epoch 2/24\n",
      "98/98 [==============================] - 9s 93ms/step - loss: 0.8939 - acc: 0.7059 - val_loss: 0.8498 - val_acc: 0.7259\n",
      "Epoch 3/24\n",
      "98/98 [==============================] - 9s 93ms/step - loss: 0.7061 - acc: 0.7763 - val_loss: 0.7705 - val_acc: 0.7619\n",
      "Epoch 4/24\n",
      "98/98 [==============================] - 9s 93ms/step - loss: 0.6198 - acc: 0.8118 - val_loss: 0.7211 - val_acc: 0.7742\n",
      "Epoch 5/24\n",
      "98/98 [==============================] - 9s 93ms/step - loss: 0.5585 - acc: 0.8368 - val_loss: 0.7106 - val_acc: 0.7910\n",
      "Epoch 6/24\n",
      "98/98 [==============================] - 9s 94ms/step - loss: 0.5227 - acc: 0.8535 - val_loss: 0.8385 - val_acc: 0.7612\n",
      "Epoch 7/24\n",
      "98/98 [==============================] - 9s 94ms/step - loss: 0.5103 - acc: 0.8616 - val_loss: 0.5510 - val_acc: 0.8509\n",
      "Epoch 8/24\n",
      "98/98 [==============================] - 9s 93ms/step - loss: 0.4797 - acc: 0.8739 - val_loss: 0.5733 - val_acc: 0.8465\n",
      "Epoch 9/24\n",
      "98/98 [==============================] - 9s 93ms/step - loss: 0.4806 - acc: 0.8797 - val_loss: 0.6303 - val_acc: 0.8328\n",
      "Epoch 10/24\n",
      "98/98 [==============================] - 9s 94ms/step - loss: 0.4747 - acc: 0.8847 - val_loss: 0.5234 - val_acc: 0.8708\n",
      "Epoch 11/24\n",
      "98/98 [==============================] - 9s 94ms/step - loss: 0.4696 - acc: 0.8907 - val_loss: 0.6034 - val_acc: 0.8554\n",
      "Epoch 12/24\n",
      "98/98 [==============================] - 9s 94ms/step - loss: 0.4485 - acc: 0.9002 - val_loss: 0.6650 - val_acc: 0.8438\n",
      "Epoch 13/24\n",
      "98/98 [==============================] - 9s 93ms/step - loss: 0.4215 - acc: 0.9129 - val_loss: 0.5923 - val_acc: 0.8634\n",
      "Epoch 14/24\n",
      "98/98 [==============================] - 9s 93ms/step - loss: 0.4016 - acc: 0.9213 - val_loss: 0.5476 - val_acc: 0.8759\n",
      "Epoch 15/24\n",
      "98/98 [==============================] - 9s 93ms/step - loss: 0.3759 - acc: 0.9316 - val_loss: 0.4904 - val_acc: 0.8956\n",
      "Epoch 16/24\n",
      "98/98 [==============================] - 9s 93ms/step - loss: 0.3577 - acc: 0.9382 - val_loss: 0.4602 - val_acc: 0.9061\n",
      "Epoch 17/24\n",
      "98/98 [==============================] - 9s 94ms/step - loss: 0.3360 - acc: 0.9462 - val_loss: 0.4399 - val_acc: 0.9150\n",
      "Epoch 18/24\n",
      "98/98 [==============================] - 9s 93ms/step - loss: 0.3158 - acc: 0.9522 - val_loss: 0.4304 - val_acc: 0.9137\n",
      "Epoch 19/24\n",
      "98/98 [==============================] - 9s 94ms/step - loss: 0.2948 - acc: 0.9597 - val_loss: 0.4368 - val_acc: 0.9139\n",
      "Epoch 20/24\n",
      "98/98 [==============================] - 9s 93ms/step - loss: 0.2735 - acc: 0.9669 - val_loss: 0.4161 - val_acc: 0.9207\n",
      "Epoch 21/24\n",
      "98/98 [==============================] - 9s 94ms/step - loss: 0.2499 - acc: 0.9746 - val_loss: 0.3937 - val_acc: 0.9257\n",
      "Epoch 22/24\n",
      "98/98 [==============================] - 9s 94ms/step - loss: 0.2311 - acc: 0.9803 - val_loss: 0.3741 - val_acc: 0.9327\n",
      "Epoch 23/24\n",
      "98/98 [==============================] - 9s 93ms/step - loss: 0.2174 - acc: 0.9848 - val_loss: 0.3697 - val_acc: 0.9350\n",
      "Epoch 24/24\n",
      "98/98 [==============================] - 9s 94ms/step - loss: 0.2092 - acc: 0.9877 - val_loss: 0.3660 - val_acc: 0.9361\n",
      "Model took 227.29 seconds to train\n"
     ]
    }
   ],
   "source": [
    "#checkpointer\n",
    "checkpointer = ModelCheckpoint(filepath=\"bestmodel.h5\", verbose=0, \n",
    "                               save_best_only=True, monitor=\"val_acc\")\n",
    "# one cycle lr\n",
    "lr_manager = OneCycleLR(max_lr= hparams.learning_rate, \n",
    "                        maximum_momentum=hparams.momentum, verbose=False)\n",
    "# train the model\n",
    "start = time.time()\n",
    "\n",
    "# Fit the model\n",
    "history = net.fit_generator(datagen.flow(X_train, y_train, \n",
    "                                         batch_size= hparams.batch_size, \n",
    "                                         shuffle=True), \n",
    "                            epochs = hparams.n_epochs, \n",
    "                            steps_per_epoch= np.ceil(X_train.shape[0]/hparams.batch_size),\n",
    "                            validation_data=(X_test, y_test),\n",
    "                            callbacks = [lr_manager])\n",
    "end = time.time()\n",
    "print (\"Model took %0.2f seconds to train\"%(end - start))"
   ]
  },
  {
   "cell_type": "markdown",
   "metadata": {
    "colab_type": "text",
    "id": "Dd0cA4rjNMVO"
   },
   "source": [
    "### Without Batch_Norm"
   ]
  },
  {
   "cell_type": "code",
   "execution_count": 11,
   "metadata": {
    "colab": {
     "base_uri": "https://localhost:8080/",
     "height": 850
    },
    "colab_type": "code",
    "executionInfo": {
     "elapsed": 377126,
     "status": "ok",
     "timestamp": 1567801424157,
     "user": {
      "displayName": "Zoheb Abai",
      "photoUrl": "https://lh3.googleusercontent.com/a-/AAuE7mCNJvhYXwg_iS9t23ZfVRItSbwrwzZaQF-KRTR8x9E=s64",
      "userId": "05378514542588697659"
     },
     "user_tz": -330
    },
    "id": "-COs5pOQNPw3",
    "outputId": "df4368a5-4090-45f7-9aa7-e5a86574d1b3"
   },
   "outputs": [
    {
     "name": "stdout",
     "output_type": "stream",
     "text": [
      "Epoch 1/24\n",
      "98/98 [==============================] - 11s 117ms/step - loss: 2.2625 - acc: 0.1681 - val_loss: 2.2667 - val_acc: 0.2275\n",
      "Epoch 2/24\n",
      "98/98 [==============================] - 7s 74ms/step - loss: 1.9551 - acc: 0.3232 - val_loss: 1.7183 - val_acc: 0.4119\n",
      "Epoch 3/24\n",
      "98/98 [==============================] - 8s 78ms/step - loss: 1.6905 - acc: 0.4215 - val_loss: 1.6343 - val_acc: 0.4116\n",
      "Epoch 4/24\n",
      "98/98 [==============================] - 8s 78ms/step - loss: 1.6362 - acc: 0.4503 - val_loss: 1.4026 - val_acc: 0.5250\n",
      "Epoch 5/24\n",
      "98/98 [==============================] - 8s 77ms/step - loss: 1.3151 - acc: 0.5670 - val_loss: 1.3984 - val_acc: 0.5676\n",
      "Epoch 6/24\n",
      "98/98 [==============================] - 8s 78ms/step - loss: 1.1720 - acc: 0.6281 - val_loss: 0.9267 - val_acc: 0.7167\n",
      "Epoch 7/24\n",
      "98/98 [==============================] - 8s 77ms/step - loss: 1.0577 - acc: 0.6719 - val_loss: 1.0654 - val_acc: 0.6776\n",
      "Epoch 8/24\n",
      "98/98 [==============================] - 7s 76ms/step - loss: 0.9432 - acc: 0.7187 - val_loss: 1.0838 - val_acc: 0.6763\n",
      "Epoch 9/24\n",
      "98/98 [==============================] - 8s 78ms/step - loss: nan - acc: 0.1483 - val_loss: nan - val_acc: 0.1000\n",
      "Epoch 10/24\n",
      "98/98 [==============================] - 8s 78ms/step - loss: nan - acc: 0.1000 - val_loss: nan - val_acc: 0.1000\n",
      "Epoch 11/24\n",
      "98/98 [==============================] - 8s 78ms/step - loss: nan - acc: 0.1000 - val_loss: nan - val_acc: 0.1000\n",
      "Epoch 12/24\n",
      "98/98 [==============================] - 7s 76ms/step - loss: nan - acc: 0.1000 - val_loss: nan - val_acc: 0.1000\n",
      "Epoch 13/24\n",
      "98/98 [==============================] - 8s 78ms/step - loss: nan - acc: 0.1000 - val_loss: nan - val_acc: 0.1000\n",
      "Epoch 14/24\n",
      "98/98 [==============================] - 8s 78ms/step - loss: nan - acc: 0.1000 - val_loss: nan - val_acc: 0.1000\n",
      "Epoch 15/24\n",
      "98/98 [==============================] - 8s 78ms/step - loss: nan - acc: 0.1000 - val_loss: nan - val_acc: 0.1000\n",
      "Epoch 16/24\n",
      "98/98 [==============================] - 8s 77ms/step - loss: nan - acc: 0.1000 - val_loss: nan - val_acc: 0.1000\n",
      "Epoch 17/24\n",
      "98/98 [==============================] - 8s 78ms/step - loss: nan - acc: 0.1000 - val_loss: nan - val_acc: 0.1000\n",
      "Epoch 18/24\n",
      "98/98 [==============================] - 8s 77ms/step - loss: nan - acc: 0.1000 - val_loss: nan - val_acc: 0.1000\n",
      "Epoch 19/24\n",
      "98/98 [==============================] - 8s 78ms/step - loss: nan - acc: 0.1000 - val_loss: nan - val_acc: 0.1000\n",
      "Epoch 20/24\n",
      "98/98 [==============================] - 8s 78ms/step - loss: nan - acc: 0.1000 - val_loss: nan - val_acc: 0.1000\n",
      "Epoch 21/24\n",
      "98/98 [==============================] - 8s 77ms/step - loss: nan - acc: 0.1000 - val_loss: nan - val_acc: 0.1000\n",
      "Epoch 22/24\n",
      "98/98 [==============================] - 8s 77ms/step - loss: nan - acc: 0.1000 - val_loss: nan - val_acc: 0.1000\n",
      "Epoch 23/24\n",
      "98/98 [==============================] - 8s 77ms/step - loss: nan - acc: 0.1000 - val_loss: nan - val_acc: 0.1000\n",
      "Epoch 24/24\n",
      "98/98 [==============================] - 8s 77ms/step - loss: nan - acc: 0.1000 - val_loss: nan - val_acc: 0.1000\n",
      "Model took 186.58 seconds to train\n"
     ]
    }
   ],
   "source": [
    "# train the model\n",
    "start = time.time()\n",
    "\n",
    "#checkpointer\n",
    "checkpointer = ModelCheckpoint(filepath=\"bestmodel.h5\", verbose=0, \n",
    "                               save_best_only=True, monitor=\"val_acc\")\n",
    "# one cycle lr\n",
    "lr_manager = OneCycleLR(max_lr= hparams.learning_rate, \n",
    "                        maximum_momentum=hparams.momentum, verbose=False)\n",
    "\n",
    "# Fit the model\n",
    "history = net.fit_generator(datagen.flow(X_train, y_train, \n",
    "                                         batch_size= hparams.batch_size, \n",
    "                                         shuffle=True), \n",
    "                            epochs = hparams.n_epochs, \n",
    "                            steps_per_epoch= np.ceil(X_train.shape[0]/hparams.batch_size),\n",
    "                            validation_data=(X_test, y_test),\n",
    "                            callbacks = [lr_manager, checkpointer])\n",
    "end = time.time()\n",
    "print (\"Model took %0.2f seconds to train\"%(end - start))"
   ]
  },
  {
   "cell_type": "markdown",
   "metadata": {
    "colab_type": "text",
    "id": "6W8ptVZmP9_O"
   },
   "source": [
    "## Model Evaluation"
   ]
  },
  {
   "cell_type": "code",
   "execution_count": 12,
   "metadata": {
    "colab": {
     "base_uri": "https://localhost:8080/",
     "height": 207
    },
    "colab_type": "code",
    "executionInfo": {
     "elapsed": 1056777,
     "status": "ok",
     "timestamp": 1567259195792,
     "user": {
      "displayName": "Zoheb Abai",
      "photoUrl": "https://lh3.googleusercontent.com/a-/AAuE7mCNJvhYXwg_iS9t23ZfVRItSbwrwzZaQF-KRTR8x9E=s64",
      "userId": "05378514542588697659"
     },
     "user_tz": -330
    },
    "id": "n4cfzGB1O9p_",
    "outputId": "377201dd-779f-4663-99cd-b05b15c316a3"
   },
   "outputs": [
    {
     "name": "stderr",
     "output_type": "stream",
     "text": [
      "WARNING: Logging before flag parsing goes to stderr.\n",
      "W0917 16:49:01.065085 140624690571072 deprecation.py:506] From /home/ec2-user/anaconda3/envs/tensorflow_p36/lib/python3.6/site-packages/tensorflow/python/ops/init_ops.py:97: calling Zeros.__init__ (from tensorflow.python.ops.init_ops) with dtype is deprecated and will be removed in a future version.\n",
      "Instructions for updating:\n",
      "Call initializer instance with the dtype argument instead of passing it to the constructor\n",
      "W0917 16:49:01.067139 140624690571072 deprecation.py:506] From /home/ec2-user/anaconda3/envs/tensorflow_p36/lib/python3.6/site-packages/tensorflow/python/ops/init_ops.py:97: calling Ones.__init__ (from tensorflow.python.ops.init_ops) with dtype is deprecated and will be removed in a future version.\n",
      "Instructions for updating:\n",
      "Call initializer instance with the dtype argument instead of passing it to the constructor\n"
     ]
    },
    {
     "name": "stdout",
     "output_type": "stream",
     "text": [
      "10000/10000 [==============================] - 0s 49us/sample - loss: 0.3698 - acc: 0.9335\n",
      "Minimal Validation Loss :  0.3698475227355957\n",
      "Max Validation Accuracy: 93.34999918937683 %\n"
     ]
    }
   ],
   "source": [
    "# load the model\n",
    "from tensorflow.keras.models import load_model\n",
    "bestmodel = load_model(\"bestmodel.h5\", custom_objects={'init_pytorch': init_pytorch})\n",
    "\n",
    "# Evaluation\n",
    "score= net.evaluate(X_test, y_test, batch_size=hparams.batch_size, verbose=1)\n",
    "print(\"Minimal Validation Loss : \", score[0])\n",
    "print(\"Max Validation Accuracy:\", score[1]*100, \"%\")"
   ]
  },
  {
   "cell_type": "markdown",
   "metadata": {
    "colab_type": "text",
    "id": "4AyTsT6NQMgl"
   },
   "source": [
    "## Plot Loss and Accuracy History"
   ]
  },
  {
   "cell_type": "code",
   "execution_count": 13,
   "metadata": {
    "colab": {},
    "colab_type": "code",
    "id": "36Kuueb1P9nQ"
   },
   "outputs": [],
   "source": [
    "def plot_model_history(history):\n",
    "    fig, axs = plt.subplots(1,2,figsize=(15,5))\n",
    "    \n",
    "    # summarize history for accuracy\n",
    "    axs[0].plot(range(1,len(history.history['acc'])+1),history.history['acc'])\n",
    "    axs[0].plot(range(1,len(history.history['val_acc'])+1),history.history['val_acc'])\n",
    "    axs[0].set_title('Model Accuracy')\n",
    "    axs[0].set_ylabel('Accuracy')\n",
    "    axs[0].set_xlabel('Epoch')\n",
    "    axs[0].set_xticks(np.arange(1,len(history.history['acc'])+1),len(history.history['acc'])/10)\n",
    "    axs[0].legend(['train', 'val'], loc='best')\n",
    "    \n",
    "    # summarize history for loss\n",
    "    axs[1].plot(range(1,len(history.history['loss'])+1), history.history['loss'])\n",
    "    axs[1].plot(range(1,len(history.history['val_loss'])+1), history.history['val_loss'])\n",
    "    axs[1].set_title('Model Loss')\n",
    "    axs[1].set_ylabel('Loss')\n",
    "    axs[1].set_xlabel('Epoch')\n",
    "    axs[1].set_xticks(np.arange(1,len(history.history['loss'])+1),len(history.history['loss'])/10)\n",
    "    axs[1].legend(['train', 'val'], loc='best')\n",
    "    plt.show()"
   ]
  },
  {
   "cell_type": "code",
   "execution_count": 14,
   "metadata": {
    "colab": {
     "base_uri": "https://localhost:8080/",
     "height": 350
    },
    "colab_type": "code",
    "executionInfo": {
     "elapsed": 1056066,
     "status": "ok",
     "timestamp": 1567259196900,
     "user": {
      "displayName": "Zoheb Abai",
      "photoUrl": "https://lh3.googleusercontent.com/a-/AAuE7mCNJvhYXwg_iS9t23ZfVRItSbwrwzZaQF-KRTR8x9E=s64",
      "userId": "05378514542588697659"
     },
     "user_tz": -330
    },
    "id": "PYjyegvOQdCw",
    "outputId": "066cd3ac-d815-47d8-97f2-854dac01de5d"
   },
   "outputs": [
    {
     "data": {
      "image/png": "[encoded data removed]",
      "text/plain": [
       "<Figure size 1080x360 with 2 Axes>"
      ]
     },
     "metadata": {},
     "output_type": "display_data"
    }
   ],
   "source": [
    "# plot model history\n",
    "plot_model_history(history)"
   ]
  },
  {
   "cell_type": "markdown",
   "metadata": {
    "colab_type": "text",
    "id": "gtJjeMYhSEfS"
   },
   "source": [
    "## Misclassified Images"
   ]
  },
  {
   "cell_type": "code",
   "execution_count": 15,
   "metadata": {
    "colab": {
     "base_uri": "https://localhost:8080/",
     "height": 34
    },
    "colab_type": "code",
    "executionInfo": {
     "elapsed": 1057701,
     "status": "ok",
     "timestamp": 1567259199614,
     "user": {
      "displayName": "Zoheb Abai",
      "photoUrl": "https://lh3.googleusercontent.com/a-/AAuE7mCNJvhYXwg_iS9t23ZfVRItSbwrwzZaQF-KRTR8x9E=s64",
      "userId": "05378514542588697659"
     },
     "user_tz": -330
    },
    "id": "LGIRh4W5SA4L",
    "outputId": "3fd60d5c-d3c8-4b0b-d0b0-90cd06b8c0eb"
   },
   "outputs": [
    {
     "data": {
      "text/plain": [
       "array([3, 8, 8, 0, 6, 6, 1, 6, 3, 1])"
      ]
     },
     "execution_count": 15,
     "metadata": {},
     "output_type": "execute_result"
    }
   ],
   "source": [
    "#Prediction on validation dataset\n",
    "valid_generator = ImageDataGenerator().flow(X_test, y_test, batch_size=hparams.batch_size,\n",
    "                                            shuffle=False, seed=101)\n",
    "pred_valid = net.predict_generator(valid_generator, steps= np.ceil(X_test.shape[0]/512), \n",
    "                                         verbose=0)\n",
    "pred_labels = np.argmax(pred_valid, axis=1)\n",
    "pred_labels[:10]"
   ]
  },
  {
   "cell_type": "code",
   "execution_count": 16,
   "metadata": {
    "colab": {
     "base_uri": "https://localhost:8080/",
     "height": 34
    },
    "colab_type": "code",
    "executionInfo": {
     "elapsed": 1057222,
     "status": "ok",
     "timestamp": 1567259199619,
     "user": {
      "displayName": "Zoheb Abai",
      "photoUrl": "https://lh3.googleusercontent.com/a-/AAuE7mCNJvhYXwg_iS9t23ZfVRItSbwrwzZaQF-KRTR8x9E=s64",
      "userId": "05378514542588697659"
     },
     "user_tz": -330
    },
    "id": "NoDL8DQDSHL0",
    "outputId": "cb3b2e46-a7f7-44c9-8b89-575b299ab4e9"
   },
   "outputs": [
    {
     "data": {
      "text/plain": [
       "array([3, 8, 8, 0, 6, 6, 1, 6, 3, 1])"
      ]
     },
     "execution_count": 16,
     "metadata": {},
     "output_type": "execute_result"
    }
   ],
   "source": [
    "# True labels of validation dataset\n",
    "true_labels = np.argmax(y_test,axis=1)\n",
    "true_labels[:10]"
   ]
  },
  {
   "cell_type": "code",
   "execution_count": 17,
   "metadata": {
    "colab": {
     "base_uri": "https://localhost:8080/",
     "height": 187
    },
    "colab_type": "code",
    "executionInfo": {
     "elapsed": 2027,
     "status": "ok",
     "timestamp": 1567259404040,
     "user": {
      "displayName": "Zoheb Abai",
      "photoUrl": "https://lh3.googleusercontent.com/a-/AAuE7mCNJvhYXwg_iS9t23ZfVRItSbwrwzZaQF-KRTR8x9E=s64",
      "userId": "05378514542588697659"
     },
     "user_tz": -330
    },
    "id": "U9T5xZAgTy7X",
    "outputId": "da1962b8-7bf5-40c0-861b-cac679e7e55d"
   },
   "outputs": [
    {
     "name": "stdout",
     "output_type": "stream",
     "text": [
      "[[942   5  17   4   3   0   1   1  22   5]\n",
      " [  3 973   0   0   0   0   0   0   3  21]\n",
      " [ 16   0 913  20   9  17  17   6   2   0]\n",
      " [  6   3  15 863  21  64  13   5   5   5]\n",
      " [  2   0  12  14 946  12   3  10   0   1]\n",
      " [  3   1  11  59  17 895   5   8   0   1]\n",
      " [  4   1  15  20   2   6 949   2   0   1]\n",
      " [  5   0   5   6  13  17   3 948   1   2]\n",
      " [ 18   6   3   3   0   0   0   0 960  10]\n",
      " [  8  29   2   2   0   1   1   0  11 946]]\n"
     ]
    }
   ],
   "source": [
    "# Generate the confusion matrix\n",
    "from sklearn.metrics import confusion_matrix\n",
    "print(confusion_matrix(true_labels, pred_labels))"
   ]
  },
  {
   "cell_type": "code",
   "execution_count": 18,
   "metadata": {
    "colab": {
     "base_uri": "https://localhost:8080/",
     "height": 34
    },
    "colab_type": "code",
    "executionInfo": {
     "elapsed": 1055896,
     "status": "ok",
     "timestamp": 1567259199621,
     "user": {
      "displayName": "Zoheb Abai",
      "photoUrl": "https://lh3.googleusercontent.com/a-/AAuE7mCNJvhYXwg_iS9t23ZfVRItSbwrwzZaQF-KRTR8x9E=s64",
      "userId": "05378514542588697659"
     },
     "user_tz": -330
    },
    "id": "8TCDigyTT5bT",
    "outputId": "6a89917c-ed27-4bb2-cbee-cc418acf1579"
   },
   "outputs": [
    {
     "name": "stdout",
     "output_type": "stream",
     "text": [
      "Number of False predictions:  665 out of 10000\n"
     ]
    }
   ],
   "source": [
    "# Total number of false predictions\n",
    "mislabelled_index = []\n",
    "\n",
    "for i in range(true_labels.shape[0]):\n",
    "    if pred_labels[i] != true_labels[i]:\n",
    "        mislabelled_index.append(i)\n",
    "\n",
    "print('Number of False predictions: ', len(mislabelled_index),'out of', len(test_labels))"
   ]
  }
 ],
 "metadata": {
  "accelerator": "GPU",
  "colab": {
   "collapsed_sections": [
    "qkmHyQSeLnf2",
    "g-wUPrtYL9e1",
    "KL5UVErtM87F",
    "Dd0cA4rjNMVO"
   ],
   "name": "BatchNorm_Research.ipynb",
   "provenance": [],
   "version": "0.3.2"
  },
  "kernelspec": {
   "display_name": "Python [conda env:tensorflow_p36]",
   "language": "python",
   "name": "conda-env-tensorflow_p36-py"
  },
  "language_info": {
   "codemirror_mode": {
    "name": "ipython",
    "version": 3
   },
   "file_extension": ".py",
   "mimetype": "text/x-python",
   "name": "python",
   "nbconvert_exporter": "python",
   "pygments_lexer": "ipython3",
   "version": "3.6.5"
  }
 },
 "nbformat": 4,
 "nbformat_minor": 4
}
