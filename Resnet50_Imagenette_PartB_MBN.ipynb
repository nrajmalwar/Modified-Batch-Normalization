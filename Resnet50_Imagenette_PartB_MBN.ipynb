{
  "nbformat": 4,
  "nbformat_minor": 0,
  "metadata": {
    "accelerator": "GPU",
    "colab": {
      "name": "Resnet5_Imagenette_PartB_MBN.ipynb",
      "provenance": [],
      "collapsed_sections": [
        "u-i2IQWtuTih",
        "bopW5tAsRyFa",
        "a4NceXtJiY0l",
        "Wzk3omL5OL54"
      ],
      "toc_visible": true
    },
    "kernelspec": {
      "name": "python3",
      "display_name": "Python 3"
    }
  },
  "cells": [
    {
      "cell_type": "markdown",
      "metadata": {
        "colab_type": "text",
        "id": "Dh0pHf2BI27z"
      },
      "source": [
        "# Check the GPU"
      ]
    },
    {
      "cell_type": "code",
      "metadata": {
        "colab_type": "code",
        "id": "d2Jxr12YIcY1",
        "outputId": "42f53074-a076-40e0-dd55-f8c94cf6410d",
        "colab": {
          "base_uri": "https://localhost:8080/",
          "height": 335
        }
      },
      "source": [
        "!nvidia-smi"
      ],
      "execution_count": 1,
      "outputs": [
        {
          "output_type": "stream",
          "text": [
            "Tue Jun  9 10:59:03 2020       \n",
            "+-----------------------------------------------------------------------------+\n",
            "| NVIDIA-SMI 440.82       Driver Version: 418.67       CUDA Version: 10.1     |\n",
            "|-------------------------------+----------------------+----------------------+\n",
            "| GPU  Name        Persistence-M| Bus-Id        Disp.A | Volatile Uncorr. ECC |\n",
            "| Fan  Temp  Perf  Pwr:Usage/Cap|         Memory-Usage | GPU-Util  Compute M. |\n",
            "|===============================+======================+======================|\n",
            "|   0  Tesla T4            Off  | 00000000:00:04.0 Off |                    0 |\n",
            "| N/A   47C    P8    11W /  70W |      0MiB / 15079MiB |      0%      Default |\n",
            "+-------------------------------+----------------------+----------------------+\n",
            "                                                                               \n",
            "+-----------------------------------------------------------------------------+\n",
            "| Processes:                                                       GPU Memory |\n",
            "|  GPU       PID   Type   Process name                             Usage      |\n",
            "|=============================================================================|\n",
            "|  No running processes found                                                 |\n",
            "+-----------------------------------------------------------------------------+\n"
          ],
          "name": "stdout"
        }
      ]
    },
    {
      "cell_type": "markdown",
      "metadata": {
        "id": "u-i2IQWtuTih",
        "colab_type": "text"
      },
      "source": [
        "# Import Libraries and Functions"
      ]
    },
    {
      "cell_type": "code",
      "metadata": {
        "id": "4QfmT0mieNn0",
        "colab_type": "code",
        "outputId": "5b41d4b8-d449-441c-de48-cd34296f235c",
        "colab": {
          "base_uri": "https://localhost:8080/",
          "height": 56
        }
      },
      "source": [
        "# Mount google drive\n",
        "from google.colab import drive\n",
        "drive.mount('/content/drive')"
      ],
      "execution_count": 2,
      "outputs": [
        {
          "output_type": "stream",
          "text": [
            "Drive already mounted at /content/drive; to attempt to forcibly remount, call drive.mount(\"/content/drive\", force_remount=True).\n"
          ],
          "name": "stdout"
        }
      ]
    },
    {
      "cell_type": "code",
      "metadata": {
        "colab_type": "code",
        "id": "1wQG9HbAIsoD",
        "colab": {
          "base_uri": "https://localhost:8080/",
          "height": 149
        },
        "outputId": "27e9ab5d-5f0c-4f8d-ec50-9b25c08b21a5"
      },
      "source": [
        "import numpy as np\n",
        "import os\n",
        "import time\n",
        "import datetime\n",
        "import math\n",
        "import matplotlib.pyplot as plt\n",
        "%matplotlib inline\n",
        "np.random.seed(101)\n",
        "\n",
        "# tensorflow imports\n",
        "import tensorflow as tf\n",
        "import tensorflow.keras.backend as K\n",
        "\n",
        "# tf.keras imports\n",
        "from tensorflow.keras import Model\n",
        "from tensorflow.keras.layers import Dense, Conv2D, Flatten, Add, Softmax, GlobalMaxPool2D, DepthwiseConv2D\n",
        "from tensorflow.keras.layers import BatchNormalization, MaxPooling2D, Input, ReLU, Lambda, AveragePooling2D\n",
        "from tensorflow.keras.preprocessing.image import ImageDataGenerator\n",
        "from tensorflow.keras.optimizers import SGD\n",
        "from tensorflow.keras.regularizers import l2\n",
        "from tensorflow.keras.utils import to_categorical\n",
        "from tensorflow.keras.callbacks import ModelCheckpoint\n",
        "# Load the TensorBoard notebook extension\n",
        "%load_ext tensorboard\n",
        "\n",
        "# Clear any logs from previous runs\n",
        "!rm -rf ./logs/ \n",
        "\n",
        "# Install Tensorboard profile plugin\n",
        "!pip install -U tensorboard-plugin-profile\n",
        "\n",
        "# Modified Batch Norm\n",
        "!cp \"/content/drive/My Drive/BatchNorm Research/Utils/MBatchNorm.py\" .\n",
        "from MBatchNorm import MBatchNorm\n",
        "\n",
        "# Image Augmenters\n",
        "from albumentations import (Compose, HorizontalFlip, Cutout, PadIfNeeded, RandomCrop)\n",
        "\n",
        "# One Cycle LR\n",
        "!cp \"/content/drive/My Drive/BatchNorm Research/Utils/clr.py\" .\n",
        "from clr import *"
      ],
      "execution_count": 3,
      "outputs": [
        {
          "output_type": "stream",
          "text": [
            "Requirement already up-to-date: tensorboard-plugin-profile in /usr/local/lib/python3.6/dist-packages (2.2.0)\n",
            "Requirement already satisfied, skipping upgrade: six>=1.10.0 in /usr/local/lib/python3.6/dist-packages (from tensorboard-plugin-profile) (1.12.0)\n",
            "Requirement already satisfied, skipping upgrade: protobuf>=3.6.0 in /usr/local/lib/python3.6/dist-packages (from tensorboard-plugin-profile) (3.10.0)\n",
            "Requirement already satisfied, skipping upgrade: werkzeug>=0.11.15 in /usr/local/lib/python3.6/dist-packages (from tensorboard-plugin-profile) (1.0.1)\n",
            "Requirement already satisfied, skipping upgrade: gviz-api>=1.9.0 in /usr/local/lib/python3.6/dist-packages (from tensorboard-plugin-profile) (1.9.0)\n",
            "Requirement already satisfied, skipping upgrade: setuptools>=41.0.0 in /usr/local/lib/python3.6/dist-packages (from tensorboard-plugin-profile) (47.1.1)\n"
          ],
          "name": "stdout"
        }
      ]
    },
    {
      "cell_type": "markdown",
      "metadata": {
        "colab_type": "text",
        "id": "CZhuBJDxJMAi"
      },
      "source": [
        "# Setting Hyperparams"
      ]
    },
    {
      "cell_type": "code",
      "metadata": {
        "colab_type": "code",
        "id": "9IHxGPKtJH9z",
        "colab": {}
      },
      "source": [
        "# Dictionary of hyperparameters\n",
        "hparams = {\n",
        "    'learning_rate' : 0.4,  # fixed learning rate\n",
        "    'batch_size': 32,  # training batch size\n",
        "    'momentum' : 0.9, # fixed momentum\n",
        "    'n_epochs': 2,  # number of epochs to train\n",
        "    'decay' : 1e-04, # learning rate*batch size\n",
        "}"
      ],
      "execution_count": 0,
      "outputs": []
    },
    {
      "cell_type": "markdown",
      "metadata": {
        "id": "cWj7XbVqJPYA",
        "colab_type": "text"
      },
      "source": [
        "# Data Preprocessing"
      ]
    },
    {
      "cell_type": "markdown",
      "metadata": {
        "colab_type": "text",
        "id": "jaE4OtKGIya2"
      },
      "source": [
        "## Downloading Dataset"
      ]
    },
    {
      "cell_type": "code",
      "metadata": {
        "colab_type": "code",
        "id": "ltmT4KkZIvjx",
        "colab": {}
      },
      "source": [
        "zip_file = tf.keras.utils.get_file(origin=\"https://s3.amazonaws.com/fast-ai-imageclas/imagenette-320.tgz\",\n",
        "                                   fname=\"imagenette-320.tgz\", extract=True)\n",
        "base_dir, _ = os.path.splitext(zip_file)"
      ],
      "execution_count": 0,
      "outputs": []
    },
    {
      "cell_type": "code",
      "metadata": {
        "id": "PDAY977Xj_ff",
        "colab_type": "code",
        "colab": {}
      },
      "source": [
        "train_dir = os.path.join(base_dir, 'train')\n",
        "validation_dir = os.path.join(base_dir, 'val')"
      ],
      "execution_count": 0,
      "outputs": []
    },
    {
      "cell_type": "code",
      "metadata": {
        "id": "GeLd0IwdyAP1",
        "colab_type": "code",
        "colab": {}
      },
      "source": [
        "n_samples = sum([len(files) for r,d,files in os.walk(train_dir)])"
      ],
      "execution_count": 0,
      "outputs": []
    },
    {
      "cell_type": "markdown",
      "metadata": {
        "colab_type": "text",
        "id": "Z1enpycyJe0S"
      },
      "source": [
        "## Image Augmentation techniques\n",
        "\n"
      ]
    },
    {
      "cell_type": "code",
      "metadata": {
        "colab_type": "code",
        "id": "3bXhs6zHJYS8",
        "colab": {
          "base_uri": "https://localhost:8080/",
          "height": 54
        },
        "outputId": "560bd90f-6091-45ee-93e3-928e48ecb43b"
      },
      "source": [
        "image_size = 224 # All images will be resized to 224x224\n",
        "\n",
        "def CustomImageDataGen(input_img):\n",
        "    seq = Compose([PadIfNeeded(232,232, p=1),\n",
        "                   RandomCrop(224,224, p=1),\n",
        "                   HorizontalFlip(p=0.5),\n",
        "                   Cutout(num_holes=1, max_h_size=56, max_w_size=56, p=0.5)\n",
        "                  ], p=1)\n",
        "    output_img = seq(image = input_img)['image']\n",
        "    return output_img\n",
        "\n",
        "# Rescale all images by 1./255 and apply image augmentation\n",
        "train_datagen = tf.keras.preprocessing.image.ImageDataGenerator(rescale=1./255,\n",
        "                                                                preprocessing_function=CustomImageDataGen)\n",
        "\n",
        "validation_datagen = tf.keras.preprocessing.image.ImageDataGenerator(rescale=1./255)\n",
        "\n",
        "# Flow training images in batches of 20 using train_datagen generator\n",
        "train_generator = train_datagen.flow_from_directory(\n",
        "                train_dir,  # Source directory for the training images\n",
        "                target_size=(image_size, image_size),\n",
        "                batch_size=hparams['batch_size'],\n",
        "                class_mode='categorical')\n",
        "\n",
        "# Flow validation images in batches of 20 using test_datagen generator\n",
        "validation_generator = validation_datagen.flow_from_directory(\n",
        "                validation_dir, # Source directory for the validation images\n",
        "                target_size=(image_size, image_size),\n",
        "                batch_size=hparams['batch_size'],\n",
        "                class_mode='categorical')"
      ],
      "execution_count": 51,
      "outputs": [
        {
          "output_type": "stream",
          "text": [
            "Found 12894 images belonging to 10 classes.\n",
            "Found 500 images belonging to 10 classes.\n"
          ],
          "name": "stdout"
        }
      ]
    },
    {
      "cell_type": "markdown",
      "metadata": {
        "id": "KOIQTCdFtdQi",
        "colab_type": "text"
      },
      "source": [
        "# Resnet 50"
      ]
    },
    {
      "cell_type": "code",
      "metadata": {
        "id": "xLRcqgdEtfLl",
        "colab_type": "code",
        "colab": {}
      },
      "source": [
        "# Copyright 2015 The TensorFlow Authors. All Rights Reserved.\n",
        "#\n",
        "# Licensed under the Apache License, Version 2.0 (the \"License\");\n",
        "# you may not use this file except in compliance with the License.\n",
        "# You may obtain a copy of the License at\n",
        "#\n",
        "#     http://www.apache.org/licenses/LICENSE-2.0\n",
        "#\n",
        "# Unless required by applicable law or agreed to in writing, software\n",
        "# distributed under the License is distributed on an \"AS IS\" BASIS,\n",
        "# WITHOUT WARRANTIES OR CONDITIONS OF ANY KIND, either express or implied.\n",
        "# See the License for the specific language governing permissions and\n",
        "# limitations under the License.\n",
        "# ==============================================================================\n",
        "# pylint: disable=invalid-name\n",
        "\"\"\"ResNet models for Keras.\"\"\"\n",
        "from __future__ import absolute_import\n",
        "from __future__ import division\n",
        "from __future__ import print_function\n",
        "\n",
        "import os\n",
        "\n",
        "from tensorflow.python.keras import backend\n",
        "from tensorflow.python.keras import layers\n",
        "from tensorflow.python.keras.applications import imagenet_utils\n",
        "from tensorflow.python.keras.engine import training\n",
        "from tensorflow.python.keras.utils import data_utils\n",
        "from tensorflow.python.keras.utils import layer_utils\n",
        "from tensorflow.python.util.tf_export import keras_export\n",
        "\n",
        "\n",
        "BASE_WEIGHTS_PATH = (\n",
        "    'https://storage.googleapis.com/tensorflow/keras-applications/resnet/')\n",
        "WEIGHTS_HASHES = {\n",
        "    'resnet50': ('2cb95161c43110f7111970584f804107',\n",
        "                 '4d473c1dd8becc155b73f8504c6f6626'),\n",
        "    'resnet101': ('f1aeb4b969a6efcfb50fad2f0c20cfc5',\n",
        "                  '88cf7a10940856eca736dc7b7e228a21'),\n",
        "    'resnet152': ('100835be76be38e30d865e96f2aaae62',\n",
        "                  'ee4c566cf9a93f14d82f913c2dc6dd0c'),\n",
        "    'resnet50v2': ('3ef43a0b657b3be2300d5770ece849e0',\n",
        "                   'fac2f116257151a9d068a22e544a4917'),\n",
        "    'resnet101v2': ('6343647c601c52e1368623803854d971',\n",
        "                    'c0ed64b8031c3730f411d2eb4eea35b5'),\n",
        "    'resnet152v2': ('a49b44d1979771252814e80f8ec446f9',\n",
        "                    'ed17cf2e0169df9d443503ef94b23b33'),\n",
        "    'resnext50': ('67a5b30d522ed92f75a1f16eef299d1a',\n",
        "                  '62527c363bdd9ec598bed41947b379fc'),\n",
        "    'resnext101':\n",
        "        ('34fb605428fcc7aa4d62f44404c11509', '0f678c91647380debd923963594981b3')\n",
        "}\n",
        "\n",
        "\n",
        "def ResNet(stack_fn,\n",
        "           preact,\n",
        "           use_bias,\n",
        "           model_name='resnet',\n",
        "           include_top=True,\n",
        "           weights='imagenet',\n",
        "           input_tensor=None,\n",
        "           input_shape=None,\n",
        "           pooling=None,\n",
        "           classes=1000,\n",
        "           classifier_activation='softmax',\n",
        "           **kwargs):\n",
        "  \"\"\"Instantiates the ResNet, ResNetV2, and ResNeXt architecture.\n",
        "  Optionally loads weights pre-trained on ImageNet.\n",
        "  Note that the data format convention used by the model is\n",
        "  the one specified in your Keras config at `~/.keras/keras.json`.\n",
        "  Caution: Be sure to properly pre-process your inputs to the application.\n",
        "  Please see `applications.resnet.preprocess_input` for an example.\n",
        "  Arguments:\n",
        "    stack_fn: a function that returns output tensor for the\n",
        "      stacked residual blocks.\n",
        "    preact: whether to use pre-activation or not\n",
        "      (True for ResNetV2, False for ResNet and ResNeXt).\n",
        "    use_bias: whether to use biases for convolutional layers or not\n",
        "      (True for ResNet and ResNetV2, False for ResNeXt).\n",
        "    model_name: string, model name.\n",
        "    include_top: whether to include the fully-connected\n",
        "      layer at the top of the network.\n",
        "    weights: one of `None` (random initialization),\n",
        "      'imagenet' (pre-training on ImageNet),\n",
        "      or the path to the weights file to be loaded.\n",
        "    input_tensor: optional Keras tensor\n",
        "      (i.e. output of `layers.Input()`)\n",
        "      to use as image input for the model.\n",
        "    input_shape: optional shape tuple, only to be specified\n",
        "      if `include_top` is False (otherwise the input shape\n",
        "      has to be `(224, 224, 3)` (with `channels_last` data format)\n",
        "      or `(3, 224, 224)` (with `channels_first` data format).\n",
        "      It should have exactly 3 inputs channels.\n",
        "    pooling: optional pooling mode for feature extraction\n",
        "      when `include_top` is `False`.\n",
        "      - `None` means that the output of the model will be\n",
        "          the 4D tensor output of the\n",
        "          last convolutional layer.\n",
        "      - `avg` means that global average pooling\n",
        "          will be applied to the output of the\n",
        "          last convolutional layer, and thus\n",
        "          the output of the model will be a 2D tensor.\n",
        "      - `max` means that global max pooling will\n",
        "          be applied.\n",
        "    classes: optional number of classes to classify images\n",
        "      into, only to be specified if `include_top` is True, and\n",
        "      if no `weights` argument is specified.\n",
        "    classifier_activation: A `str` or callable. The activation function to use\n",
        "      on the \"top\" layer. Ignored unless `include_top=True`. Set\n",
        "      `classifier_activation=None` to return the logits of the \"top\" layer.\n",
        "    **kwargs: For backwards compatibility only.\n",
        "  Returns:\n",
        "    A `keras.Model` instance.\n",
        "  Raises:\n",
        "    ValueError: in case of invalid argument for `weights`,\n",
        "      or invalid input shape.\n",
        "    ValueError: if `classifier_activation` is not `softmax` or `None` when\n",
        "      using a pretrained top layer.\n",
        "  \"\"\"\n",
        "  if 'layers' in kwargs:\n",
        "    global layers\n",
        "    layers = kwargs.pop('layers')\n",
        "  if kwargs:\n",
        "    raise ValueError('Unknown argument(s): %s' % (kwargs,))\n",
        "  if not (weights in {'imagenet', None} or os.path.exists(weights)):\n",
        "    raise ValueError('The `weights` argument should be either '\n",
        "                     '`None` (random initialization), `imagenet` '\n",
        "                     '(pre-training on ImageNet), '\n",
        "                     'or the path to the weights file to be loaded.')\n",
        "\n",
        "  if weights == 'imagenet' and include_top and classes != 1000:\n",
        "    raise ValueError('If using `weights` as `\"imagenet\"` with `include_top`'\n",
        "                     ' as true, `classes` should be 1000')\n",
        "\n",
        "  # Determine proper input shape\n",
        "  input_shape = imagenet_utils.obtain_input_shape(\n",
        "      input_shape,\n",
        "      default_size=224,\n",
        "      min_size=32,\n",
        "      data_format=backend.image_data_format(),\n",
        "      require_flatten=include_top,\n",
        "      weights=weights)\n",
        "\n",
        "  if input_tensor is None:\n",
        "    img_input = layers.Input(shape=input_shape)\n",
        "  else:\n",
        "    if not backend.is_keras_tensor(input_tensor):\n",
        "      img_input = layers.Input(tensor=input_tensor, shape=input_shape)\n",
        "    else:\n",
        "      img_input = input_tensor\n",
        "\n",
        "  bn_axis = 3 if backend.image_data_format() == 'channels_last' else 1\n",
        "\n",
        "  x = layers.ZeroPadding2D(\n",
        "      padding=((3, 3), (3, 3)), name='conv1_pad')(img_input)\n",
        "  x = layers.Conv2D(64, 7, strides=2, use_bias=use_bias, name='conv1_conv')(x)\n",
        "\n",
        "  if not preact:\n",
        "    x = MBatchNorm(\n",
        "        axis=bn_axis, epsilon=1.001e-5, name='conv1_bn')(x)\n",
        "    x = layers.Activation('relu', name='conv1_relu')(x)\n",
        "\n",
        "  x = layers.ZeroPadding2D(padding=((1, 1), (1, 1)), name='pool1_pad')(x)\n",
        "  x = layers.MaxPooling2D(3, strides=2, name='pool1_pool')(x)\n",
        "\n",
        "  x = stack_fn(x)\n",
        "\n",
        "  if preact:\n",
        "    x = MBatchNorm(\n",
        "        axis=bn_axis, epsilon=1.001e-5, name='post_bn')(x)\n",
        "    x = layers.Activation('relu', name='post_relu')(x)\n",
        "\n",
        "  if include_top:\n",
        "    x = layers.GlobalAveragePooling2D(name='avg_pool')(x)\n",
        "    imagenet_utils.validate_activation(classifier_activation, weights)\n",
        "    x = layers.Dense(classes, activation=classifier_activation,\n",
        "                     name='predictions')(x)\n",
        "  else:\n",
        "    if pooling == 'avg':\n",
        "      x = layers.GlobalAveragePooling2D(name='avg_pool')(x)\n",
        "    elif pooling == 'max':\n",
        "      x = layers.GlobalMaxPooling2D(name='max_pool')(x)\n",
        "\n",
        "  # Ensure that the model takes into account\n",
        "  # any potential predecessors of `input_tensor`.\n",
        "  if input_tensor is not None:\n",
        "    inputs = layer_utils.get_source_inputs(input_tensor)\n",
        "  else:\n",
        "    inputs = img_input\n",
        "\n",
        "  # Create model.\n",
        "  model = training.Model(inputs, x, name=model_name)\n",
        "\n",
        "  # Load weights.\n",
        "  if (weights == 'imagenet') and (model_name in WEIGHTS_HASHES):\n",
        "    if include_top:\n",
        "      file_name = model_name + '_weights_tf_dim_ordering_tf_kernels.h5'\n",
        "      file_hash = WEIGHTS_HASHES[model_name][0]\n",
        "    else:\n",
        "      file_name = model_name + '_weights_tf_dim_ordering_tf_kernels_notop.h5'\n",
        "      file_hash = WEIGHTS_HASHES[model_name][1]\n",
        "    weights_path = data_utils.get_file(\n",
        "        file_name,\n",
        "        BASE_WEIGHTS_PATH + file_name,\n",
        "        cache_subdir='models',\n",
        "        file_hash=file_hash)\n",
        "    model.load_weights(weights_path)\n",
        "  elif weights is not None:\n",
        "    model.load_weights(weights)\n",
        "\n",
        "  return model\n",
        "\n",
        "\n",
        "def block1(x, filters, kernel_size=3, stride=1, conv_shortcut=True, name=None):\n",
        "  \"\"\"A residual block.\n",
        "  Arguments:\n",
        "    x: input tensor.\n",
        "    filters: integer, filters of the bottleneck layer.\n",
        "    kernel_size: default 3, kernel size of the bottleneck layer.\n",
        "    stride: default 1, stride of the first layer.\n",
        "    conv_shortcut: default True, use convolution shortcut if True,\n",
        "        otherwise identity shortcut.\n",
        "    name: string, block label.\n",
        "  Returns:\n",
        "    Output tensor for the residual block.\n",
        "  \"\"\"\n",
        "  bn_axis = 3 if backend.image_data_format() == 'channels_last' else 1\n",
        "\n",
        "  if conv_shortcut:\n",
        "    shortcut = layers.Conv2D(\n",
        "        4 * filters, 1, strides=stride, name=name + '_0_conv')(x)\n",
        "    shortcut = MBatchNorm(\n",
        "        axis=bn_axis, epsilon=1.001e-5, name=name + '_0_bn')(shortcut)\n",
        "  else:\n",
        "    shortcut = x\n",
        "\n",
        "  x = layers.Conv2D(filters, 1, strides=stride, name=name + '_1_conv')(x)\n",
        "  x = MBatchNorm(\n",
        "      axis=bn_axis, epsilon=1.001e-5, name=name + '_1_bn')(x)\n",
        "  x = layers.Activation('relu', name=name + '_1_relu')(x)\n",
        "\n",
        "  x = layers.Conv2D(\n",
        "      filters, kernel_size, padding='SAME', name=name + '_2_conv')(x)\n",
        "  x = MBatchNorm(\n",
        "      axis=bn_axis, epsilon=1.001e-5, name=name + '_2_bn')(x)\n",
        "  x = layers.Activation('relu', name=name + '_2_relu')(x)\n",
        "\n",
        "  x = layers.Conv2D(4 * filters, 1, name=name + '_3_conv')(x)\n",
        "  x = MBatchNorm(\n",
        "      axis=bn_axis, epsilon=1.001e-5, name=name + '_3_bn')(x)\n",
        "\n",
        "  x = layers.Add(name=name + '_add')([shortcut, x])\n",
        "  x = layers.Activation('relu', name=name + '_out')(x)\n",
        "  return x\n",
        "\n",
        "\n",
        "def stack1(x, filters, blocks, stride1=2, name=None):\n",
        "  \"\"\"A set of stacked residual blocks.\n",
        "  Arguments:\n",
        "    x: input tensor.\n",
        "    filters: integer, filters of the bottleneck layer in a block.\n",
        "    blocks: integer, blocks in the stacked blocks.\n",
        "    stride1: default 2, stride of the first layer in the first block.\n",
        "    name: string, stack label.\n",
        "  Returns:\n",
        "    Output tensor for the stacked blocks.\n",
        "  \"\"\"\n",
        "  x = block1(x, filters, stride=stride1, name=name + '_block1')\n",
        "  for i in range(2, blocks + 1):\n",
        "    x = block1(x, filters, conv_shortcut=False, name=name + '_block' + str(i))\n",
        "  return x\n",
        "\n",
        "\n",
        "def block2(x, filters, kernel_size=3, stride=1, conv_shortcut=False, name=None):\n",
        "  \"\"\"A residual block.\n",
        "  Arguments:\n",
        "      x: input tensor.\n",
        "      filters: integer, filters of the bottleneck layer.\n",
        "      kernel_size: default 3, kernel size of the bottleneck layer.\n",
        "      stride: default 1, stride of the first layer.\n",
        "      conv_shortcut: default False, use convolution shortcut if True,\n",
        "        otherwise identity shortcut.\n",
        "      name: string, block label.\n",
        "  Returns:\n",
        "    Output tensor for the residual block.\n",
        "  \"\"\"\n",
        "  bn_axis = 3 if backend.image_data_format() == 'channels_last' else 1\n",
        "\n",
        "  preact = MBatchNorm(\n",
        "      axis=bn_axis, epsilon=1.001e-5, name=name + '_preact_bn')(x)\n",
        "  preact = layers.Activation('relu', name=name + '_preact_relu')(preact)\n",
        "\n",
        "  if conv_shortcut:\n",
        "    shortcut = layers.Conv2D(\n",
        "        4 * filters, 1, strides=stride, name=name + '_0_conv')(preact)\n",
        "  else:\n",
        "    shortcut = layers.MaxPooling2D(1, strides=stride)(x) if stride > 1 else x\n",
        "\n",
        "  x = layers.Conv2D(\n",
        "      filters, 1, strides=1, use_bias=False, name=name + '_1_conv')(preact)\n",
        "  x = MBatchNorm(\n",
        "      axis=bn_axis, epsilon=1.001e-5, name=name + '_1_bn')(x)\n",
        "  x = layers.Activation('relu', name=name + '_1_relu')(x)\n",
        "\n",
        "  x = layers.ZeroPadding2D(padding=((1, 1), (1, 1)), name=name + '_2_pad')(x)\n",
        "  x = layers.Conv2D(\n",
        "      filters,\n",
        "      kernel_size,\n",
        "      strides=stride,\n",
        "      use_bias=False,\n",
        "      name=name + '_2_conv')(x)\n",
        "  x = MBatchNorm(\n",
        "      axis=bn_axis, epsilon=1.001e-5, name=name + '_2_bn')(x)\n",
        "  x = layers.Activation('relu', name=name + '_2_relu')(x)\n",
        "\n",
        "  x = layers.Conv2D(4 * filters, 1, name=name + '_3_conv')(x)\n",
        "  x = layers.Add(name=name + '_out')([shortcut, x])\n",
        "  return x\n",
        "\n",
        "\n",
        "def stack2(x, filters, blocks, stride1=2, name=None):\n",
        "  \"\"\"A set of stacked residual blocks.\n",
        "  Arguments:\n",
        "      x: input tensor.\n",
        "      filters: integer, filters of the bottleneck layer in a block.\n",
        "      blocks: integer, blocks in the stacked blocks.\n",
        "      stride1: default 2, stride of the first layer in the first block.\n",
        "      name: string, stack label.\n",
        "  Returns:\n",
        "      Output tensor for the stacked blocks.\n",
        "  \"\"\"\n",
        "  x = block2(x, filters, conv_shortcut=True, name=name + '_block1')\n",
        "  for i in range(2, blocks):\n",
        "    x = block2(x, filters, name=name + '_block' + str(i))\n",
        "  x = block2(x, filters, stride=stride1, name=name + '_block' + str(blocks))\n",
        "  return x\n",
        "\n",
        "\n",
        "def block3(x,\n",
        "           filters,\n",
        "           kernel_size=3,\n",
        "           stride=1,\n",
        "           groups=32,\n",
        "           conv_shortcut=True,\n",
        "           name=None):\n",
        "  \"\"\"A residual block.\n",
        "  Arguments:\n",
        "    x: input tensor.\n",
        "    filters: integer, filters of the bottleneck layer.\n",
        "    kernel_size: default 3, kernel size of the bottleneck layer.\n",
        "    stride: default 1, stride of the first layer.\n",
        "    groups: default 32, group size for grouped convolution.\n",
        "    conv_shortcut: default True, use convolution shortcut if True,\n",
        "        otherwise identity shortcut.\n",
        "    name: string, block label.\n",
        "  Returns:\n",
        "    Output tensor for the residual block.\n",
        "  \"\"\"\n",
        "  bn_axis = 3 if backend.image_data_format() == 'channels_last' else 1\n",
        "\n",
        "  if conv_shortcut:\n",
        "    shortcut = layers.Conv2D(\n",
        "        (64 // groups) * filters,\n",
        "        1,\n",
        "        strides=stride,\n",
        "        use_bias=False,\n",
        "        name=name + '_0_conv')(x)\n",
        "    shortcut = MBatchNorm(\n",
        "        axis=bn_axis, epsilon=1.001e-5, name=name + '_0_bn')(shortcut)\n",
        "  else:\n",
        "    shortcut = x\n",
        "\n",
        "  x = layers.Conv2D(filters, 1, use_bias=False, name=name + '_1_conv')(x)\n",
        "  x = MBatchNorm(\n",
        "      axis=bn_axis, epsilon=1.001e-5, name=name + '_1_bn')(x)\n",
        "  x = layers.Activation('relu', name=name + '_1_relu')(x)\n",
        "\n",
        "  c = filters // groups\n",
        "  x = layers.ZeroPadding2D(padding=((1, 1), (1, 1)), name=name + '_2_pad')(x)\n",
        "  x = layers.DepthwiseConv2D(\n",
        "      kernel_size,\n",
        "      strides=stride,\n",
        "      depth_multiplier=c,\n",
        "      use_bias=False,\n",
        "      name=name + '_2_conv')(x)\n",
        "  x_shape = backend.int_shape(x)[1:-1]\n",
        "  x = layers.Reshape(x_shape + (groups, c, c))(x)\n",
        "  x = layers.Lambda(\n",
        "      lambda x: sum(x[:, :, :, :, i] for i in range(c)),\n",
        "      name=name + '_2_reduce')(x)\n",
        "  x = layers.Reshape(x_shape + (filters,))(x)\n",
        "  x = MBatchNorm(\n",
        "      axis=bn_axis, epsilon=1.001e-5, name=name + '_2_bn')(x)\n",
        "  x = layers.Activation('relu', name=name + '_2_relu')(x)\n",
        "\n",
        "  x = layers.Conv2D(\n",
        "      (64 // groups) * filters, 1, use_bias=False, name=name + '_3_conv')(x)\n",
        "  x = MBatchNorm(\n",
        "      axis=bn_axis, epsilon=1.001e-5, name=name + '_3_bn')(x)\n",
        "\n",
        "  x = layers.Add(name=name + '_add')([shortcut, x])\n",
        "  x = layers.Activation('relu', name=name + '_out')(x)\n",
        "  return x\n",
        "\n",
        "\n",
        "def stack3(x, filters, blocks, stride1=2, groups=32, name=None):\n",
        "  \"\"\"A set of stacked residual blocks.\n",
        "  Arguments:\n",
        "    x: input tensor.\n",
        "    filters: integer, filters of the bottleneck layer in a block.\n",
        "    blocks: integer, blocks in the stacked blocks.\n",
        "    stride1: default 2, stride of the first layer in the first block.\n",
        "    groups: default 32, group size for grouped convolution.\n",
        "    name: string, stack label.\n",
        "  Returns:\n",
        "    Output tensor for the stacked blocks.\n",
        "  \"\"\"\n",
        "  x = block3(x, filters, stride=stride1, groups=groups, name=name + '_block1')\n",
        "  for i in range(2, blocks + 1):\n",
        "    x = block3(\n",
        "        x,\n",
        "        filters,\n",
        "        groups=groups,\n",
        "        conv_shortcut=False,\n",
        "        name=name + '_block' + str(i))\n",
        "  return x\n",
        "\n",
        "\n",
        "@keras_export('keras.applications.resnet50.ResNet50',\n",
        "              'keras.applications.resnet.ResNet50',\n",
        "              'keras.applications.ResNet50')\n",
        "def ResNet50(include_top=True,\n",
        "             weights='imagenet',\n",
        "             input_tensor=None,\n",
        "             input_shape=None,\n",
        "             pooling=None,\n",
        "             classes=1000,\n",
        "             **kwargs):\n",
        "  \"\"\"Instantiates the ResNet50 architecture.\"\"\"\n",
        "\n",
        "  def stack_fn(x):\n",
        "    x = stack1(x, 64, 3, stride1=1, name='conv2')\n",
        "    x = stack1(x, 128, 4, name='conv3')\n",
        "    x = stack1(x, 256, 6, name='conv4')\n",
        "    return stack1(x, 512, 3, name='conv5')\n",
        "\n",
        "  return ResNet(stack_fn, False, True, 'resnet50', include_top, weights,\n",
        "                input_tensor, input_shape, pooling, classes, **kwargs)"
      ],
      "execution_count": 0,
      "outputs": []
    },
    {
      "cell_type": "markdown",
      "metadata": {
        "colab_type": "text",
        "id": "vfYSM_glL35D"
      },
      "source": [
        "# 1. Model with Modified Batch Normalization Stride 1 - 30 epochs"
      ]
    },
    {
      "cell_type": "markdown",
      "metadata": {
        "id": "jNaJNO5aQwIv",
        "colab_type": "text"
      },
      "source": [
        "## Model Summary"
      ]
    },
    {
      "cell_type": "code",
      "metadata": {
        "id": "ixDR4c8okS0O",
        "colab_type": "code",
        "colab": {
          "base_uri": "https://localhost:8080/",
          "height": 279
        },
        "outputId": "c8cfdd82-b88b-4e95-ab64-c77c8e26e252"
      },
      "source": [
        "IMG_SHAPE = (image_size, image_size, 3)\n",
        "# Create the base model of Resnet50 with modified BatchNorm\n",
        "model = ResNet50(include_top=False,\n",
        "                weights=None,\n",
        "                # input_tensor=None,\n",
        "                input_shape=IMG_SHAPE)\n",
        "\n",
        "model = tf.keras.Sequential([\n",
        "  model,\n",
        "  tf.keras.layers.GlobalAveragePooling2D(),\n",
        "  tf.keras.layers.Dense(10, activation='softmax')\n",
        "])\n",
        "\n",
        "model.compile(loss='categorical_crossentropy',\n",
        "              optimizer=SGD(lr= hparams['learning_rate'], momentum= hparams['momentum'], \n",
        "                              nesterov=True),\n",
        "              metrics=['accuracy'])\n",
        "\n",
        "model.summary()"
      ],
      "execution_count": 52,
      "outputs": [
        {
          "output_type": "stream",
          "text": [
            "Model: \"sequential_1\"\n",
            "_________________________________________________________________\n",
            "Layer (type)                 Output Shape              Param #   \n",
            "=================================================================\n",
            "resnet50 (Model)             (None, 7, 7, 2048)        23587712  \n",
            "_________________________________________________________________\n",
            "global_average_pooling2d_1 ( (None, 2048)              0         \n",
            "_________________________________________________________________\n",
            "dense_1 (Dense)              (None, 10)                20490     \n",
            "=================================================================\n",
            "Total params: 23,608,202\n",
            "Trainable params: 23,555,082\n",
            "Non-trainable params: 53,120\n",
            "_________________________________________________________________\n"
          ],
          "name": "stdout"
        }
      ]
    },
    {
      "cell_type": "markdown",
      "metadata": {
        "colab_type": "text",
        "id": "irDGMEj8c6P3"
      },
      "source": [
        "## Model Training"
      ]
    },
    {
      "cell_type": "code",
      "metadata": {
        "colab_type": "code",
        "id": "XpmI5fgDc6P5",
        "outputId": "a3c9c3d8-bf78-45fd-e1ff-f6e56a3b39d0",
        "colab": {
          "base_uri": "https://localhost:8080/",
          "height": 131
        }
      },
      "source": [
        "# train the model\n",
        "start = time.time()\n",
        "\n",
        "#checkpointer\n",
        "checkpointer = ModelCheckpoint(filepath=\"bestmodel_MBN_S1.h5\", verbose=0, \n",
        "                               save_best_only=True, monitor=\"val_accuracy\")\n",
        "# one cycle lr\n",
        "lr_manager = OneCycleLR(max_lr= hparams['learning_rate'],\n",
        "                        batch_size = hparams['batch_size'],\n",
        "                        samples = n_samples,\n",
        "                        epochs = hparams['n_epochs'],\n",
        "                        maximum_momentum = hparams['momentum'],\n",
        "                        verbose=False)\n",
        "\n",
        "log_dir = \"logs/fit/MBN_S1/\" + datetime.datetime.now().strftime(\"%Y%m%d-%H%M%S\")\n",
        "tensorboard_callback = tf.keras.callbacks.TensorBoard(log_dir=log_dir,\n",
        "                                                      histogram_freq=1,\n",
        "                                                      profile_batch = '49')\n",
        "\n",
        "# Fit the model\n",
        "history = model.fit(train_generator,\n",
        "                    epochs = hparams['n_epochs'],\n",
        "                    steps_per_epoch= np.ceil(n_samples/hparams['batch_size']),\n",
        "                    validation_data=validation_generator,\n",
        "                    callbacks=[lr_manager, checkpointer, tensorboard_callback])\n",
        "end = time.time()\n",
        "print (\"Model took %0.2f seconds to train\"%(end - start))"
      ],
      "execution_count": 53,
      "outputs": [
        {
          "output_type": "stream",
          "text": [
            "Epoch 1/2\n",
            "403/403 [==============================] - 149s 369ms/step - loss: 2.7318 - accuracy: 0.1976 - val_loss: 2.5063 - val_accuracy: 0.2300\n",
            "Epoch 2/2\n",
            "403/403 [==============================] - 153s 379ms/step - loss: 1.8568 - accuracy: 0.3541 - val_loss: 1.6092 - val_accuracy: 0.4460\n",
            "Model took 310.97 seconds to train\n"
          ],
          "name": "stdout"
        }
      ]
    },
    {
      "cell_type": "markdown",
      "metadata": {
        "colab_type": "text",
        "id": "BMUwaUF6c6QC"
      },
      "source": [
        "## Model Evaluation"
      ]
    },
    {
      "cell_type": "code",
      "metadata": {
        "colab_type": "code",
        "id": "xchYdP8ac6QE",
        "outputId": "8e9885f9-9931-4b49-bdf8-73f9515ab6ac",
        "colab": {
          "base_uri": "https://localhost:8080/",
          "height": 73
        }
      },
      "source": [
        "# load the model\n",
        "from tensorflow.keras.models import load_model\n",
        "bestmodel = load_model(\"bestmodel_MBN_S1.h5\", custom_objects={'init_pytorch': init_pytorch,                                                              \n",
        "                                                              'MBatchNorm': MBatchNorm})\n",
        "\n",
        "# Evaluation\n",
        "score= net.evaluate(X_test, y_test, batch_size=hparams['batch_size'], verbose=1)\n",
        "print(\"Minimal Validation Loss : \", score[0])\n",
        "print(\"Max Validation Accuracy:\", score[1]*100, \"%\")"
      ],
      "execution_count": 0,
      "outputs": [
        {
          "output_type": "stream",
          "text": [
            "20/20 [==============================] - 1s 54ms/step - loss: 0.9387 - accuracy: 0.7066\n",
            "Minimal Validation Loss :  0.9386858344078064\n",
            "Max Validation Accuracy: 70.660001039505 %\n"
          ],
          "name": "stdout"
        }
      ]
    },
    {
      "cell_type": "markdown",
      "metadata": {
        "id": "b3F0JxjC8F1A",
        "colab_type": "text"
      },
      "source": [
        "## Tensorboard"
      ]
    },
    {
      "cell_type": "code",
      "metadata": {
        "id": "24hdZGDa8Hyd",
        "colab_type": "code",
        "colab": {}
      },
      "source": [
        "%tensorboard --logdir 'logs/fit/MBN_S1/'"
      ],
      "execution_count": 0,
      "outputs": []
    },
    {
      "cell_type": "markdown",
      "metadata": {
        "colab_type": "text",
        "id": "Qh91R1zac6QJ"
      },
      "source": [
        "## Plot Loss and Accuracy History"
      ]
    },
    {
      "cell_type": "code",
      "metadata": {
        "colab_type": "code",
        "id": "WSMS6OWgc6QL",
        "outputId": "319d0eff-2c55-4030-f25a-7b33677975d3",
        "colab": {
          "base_uri": "https://localhost:8080/",
          "height": 411
        }
      },
      "source": [
        "def plot_model_history(history):\n",
        "    fig, axs = plt.subplots(1,2,figsize=(15,5))\n",
        "    \n",
        "    # summarize history for accuracy\n",
        "    axs[0].plot(range(1,len(history.history['accuracy'])+1),history.history['accuracy'])\n",
        "    axs[0].plot(range(1,len(history.history['val_accuracy'])+1),history.history['val_accuracy'])\n",
        "    axs[0].set_title('Model Accuracy')\n",
        "    axs[0].set_ylabel('Accuracy')\n",
        "    axs[0].set_xlabel('Epoch')\n",
        "    axs[0].set_xticks(np.arange(1,len(history.history['accuracy'])+1),len(history.history['accuracy'])/10)\n",
        "    axs[0].legend(['train', 'val'], loc='best')\n",
        "    \n",
        "    # summarize history for loss\n",
        "    axs[1].plot(range(1,len(history.history['loss'])+1), history.history['loss'])\n",
        "    axs[1].plot(range(1,len(history.history['val_loss'])+1), history.history['val_loss'])\n",
        "    axs[1].set_title('Model Loss')\n",
        "    axs[1].set_ylabel('Loss')\n",
        "    axs[1].set_xlabel('Epoch')\n",
        "    axs[1].set_xticks(np.arange(1,len(history.history['loss'])+1),len(history.history['loss'])/10)\n",
        "    axs[1].legend(['train', 'val'], loc='best')\n",
        "    plt.show()\n",
        "\n",
        "# plot model history\n",
        "plot_model_history(history)"
      ],
      "execution_count": 0,
      "outputs": [
        {
          "output_type": "stream",
          "text": [
            "/usr/local/lib/python3.6/dist-packages/ipykernel_launcher.py:10: MatplotlibDeprecationWarning: Passing the minor parameter of set_xticks() positionally is deprecated since Matplotlib 3.2; the parameter will become keyword-only two minor releases later.\n",
            "  # Remove the CWD from sys.path while we load stuff.\n",
            "/usr/local/lib/python3.6/dist-packages/ipykernel_launcher.py:19: MatplotlibDeprecationWarning: Passing the minor parameter of set_xticks() positionally is deprecated since Matplotlib 3.2; the parameter will become keyword-only two minor releases later.\n"
          ],
          "name": "stderr"
        },
        {
          "output_type": "display_data",
          "data": {
            "image/png": "[encoded data removed]",
            "text/plain": [
              "<Figure size 1080x360 with 2 Axes>"
            ]
          },
          "metadata": {
            "tags": [],
            "needs_background": "light"
          }
        }
      ]
    },
    {
      "cell_type": "markdown",
      "metadata": {
        "id": "Wzk3omL5OL54",
        "colab_type": "text"
      },
      "source": [
        "# Download files and folders"
      ]
    },
    {
      "cell_type": "code",
      "metadata": {
        "id": "ze28c-2rOLep",
        "colab_type": "code",
        "outputId": "69511634-fd34-465e-b82e-56b1b34bdcae",
        "colab": {
          "base_uri": "https://localhost:8080/",
          "height": 1000
        }
      },
      "source": [
        "!zip -r /content/logs_MBN.zip /content/logs\n",
        "\n",
        "from google.colab import files\n",
        "files.download(\"/content/logs_MBN.zip\")"
      ],
      "execution_count": 0,
      "outputs": [
        {
          "output_type": "stream",
          "text": [
            "  adding: content/logs/ (stored 0%)\n",
            "  adding: content/logs/fit/ (stored 0%)\n",
            "  adding: content/logs/fit/MBN_S8/ (stored 0%)\n",
            "  adding: content/logs/fit/MBN_S8/20200609-085831/ (stored 0%)\n",
            "  adding: content/logs/fit/MBN_S8/20200609-085831/train/ (stored 0%)\n",
            "  adding: content/logs/fit/MBN_S8/20200609-085831/train/plugins/ (stored 0%)\n",
            "  adding: content/logs/fit/MBN_S8/20200609-085831/train/plugins/profile/ (stored 0%)\n",
            "  adding: content/logs/fit/MBN_S8/20200609-085831/train/plugins/profile/2020_06_09_08_58_42/ (stored 0%)\n",
            "  adding: content/logs/fit/MBN_S8/20200609-085831/train/plugins/profile/2020_06_09_08_58_42/351538f14724.overview_page.pb (deflated 59%)\n",
            "  adding: content/logs/fit/MBN_S8/20200609-085831/train/plugins/profile/2020_06_09_08_58_42/351538f14724.input_pipeline.pb (deflated 57%)\n",
            "  adding: content/logs/fit/MBN_S8/20200609-085831/train/plugins/profile/2020_06_09_08_58_42/351538f14724.kernel_stats.pb (deflated 96%)\n",
            "  adding: content/logs/fit/MBN_S8/20200609-085831/train/plugins/profile/2020_06_09_08_58_42/351538f14724.trace.json.gz (deflated 3%)\n",
            "  adding: content/logs/fit/MBN_S8/20200609-085831/train/plugins/profile/2020_06_09_08_58_42/351538f14724.tensorflow_stats.pb (deflated 76%)\n",
            "  adding: content/logs/fit/MBN_S8/20200609-085831/train/events.out.tfevents.1591693122.351538f14724.profile-empty (deflated 5%)\n",
            "  adding: content/logs/fit/MBN_S8/20200609-085831/train/events.out.tfevents.1591693111.351538f14724.501.30118.v2 (deflated 91%)\n",
            "  adding: content/logs/fit/MBN_S8/20200609-085831/validation/ (stored 0%)\n",
            "  adding: content/logs/fit/MBN_S8/20200609-085831/validation/events.out.tfevents.1591693133.351538f14724.501.34258.v2 (deflated 31%)\n",
            "  adding: content/logs/fit/MBN_S1/ (stored 0%)\n",
            "  adding: content/logs/fit/MBN_S1/20200609-085311/ (stored 0%)\n",
            "  adding: content/logs/fit/MBN_S1/20200609-085311/train/ (stored 0%)\n",
            "  adding: content/logs/fit/MBN_S1/20200609-085311/train/events.out.tfevents.1591692791.351538f14724.501.944.v2 (deflated 86%)\n",
            "  adding: content/logs/fit/MBN_S1/20200609-085311/train/plugins/ (stored 0%)\n",
            "  adding: content/logs/fit/MBN_S1/20200609-085311/train/plugins/profile/ (stored 0%)\n",
            "  adding: content/logs/fit/MBN_S1/20200609-085311/train/plugins/profile/2020_06_09_08_53_28/ (stored 0%)\n",
            "  adding: content/logs/fit/MBN_S1/20200609-085311/train/plugins/profile/2020_06_09_08_53_28/351538f14724.overview_page.pb (deflated 59%)\n",
            "  adding: content/logs/fit/MBN_S1/20200609-085311/train/plugins/profile/2020_06_09_08_53_28/351538f14724.input_pipeline.pb (deflated 57%)\n",
            "  adding: content/logs/fit/MBN_S1/20200609-085311/train/plugins/profile/2020_06_09_08_53_28/351538f14724.kernel_stats.pb (deflated 96%)\n",
            "  adding: content/logs/fit/MBN_S1/20200609-085311/train/plugins/profile/2020_06_09_08_53_28/351538f14724.trace.json.gz (deflated 2%)\n",
            "  adding: content/logs/fit/MBN_S1/20200609-085311/train/plugins/profile/2020_06_09_08_53_28/351538f14724.tensorflow_stats.pb (deflated 76%)\n",
            "  adding: content/logs/fit/MBN_S1/20200609-085311/train/events.out.tfevents.1591692808.351538f14724.profile-empty (deflated 10%)\n",
            "  adding: content/logs/fit/MBN_S1/20200609-085311/validation/ (stored 0%)\n",
            "  adding: content/logs/fit/MBN_S1/20200609-085311/validation/events.out.tfevents.1591692819.351538f14724.501.5084.v2 (deflated 31%)\n",
            "  adding: content/logs/fit/MBN_S4/ (stored 0%)\n",
            "  adding: content/logs/fit/MBN_S4/20200609-085744/ (stored 0%)\n",
            "  adding: content/logs/fit/MBN_S4/20200609-085744/train/ (stored 0%)\n",
            "  adding: content/logs/fit/MBN_S4/20200609-085744/train/events.out.tfevents.1591693074.351538f14724.profile-empty (deflated 5%)\n",
            "  adding: content/logs/fit/MBN_S4/20200609-085744/train/plugins/ (stored 0%)\n",
            "  adding: content/logs/fit/MBN_S4/20200609-085744/train/plugins/profile/ (stored 0%)\n",
            "  adding: content/logs/fit/MBN_S4/20200609-085744/train/plugins/profile/2020_06_09_08_57_54/ (stored 0%)\n",
            "  adding: content/logs/fit/MBN_S4/20200609-085744/train/plugins/profile/2020_06_09_08_57_54/351538f14724.overview_page.pb (deflated 59%)\n",
            "  adding: content/logs/fit/MBN_S4/20200609-085744/train/plugins/profile/2020_06_09_08_57_54/351538f14724.input_pipeline.pb (deflated 57%)\n",
            "  adding: content/logs/fit/MBN_S4/20200609-085744/train/plugins/profile/2020_06_09_08_57_54/351538f14724.kernel_stats.pb (deflated 96%)\n",
            "  adding: content/logs/fit/MBN_S4/20200609-085744/train/plugins/profile/2020_06_09_08_57_54/351538f14724.trace.json.gz (deflated 3%)\n",
            "  adding: content/logs/fit/MBN_S4/20200609-085744/train/plugins/profile/2020_06_09_08_57_54/351538f14724.tensorflow_stats.pb (deflated 77%)\n",
            "  adding: content/logs/fit/MBN_S4/20200609-085744/train/events.out.tfevents.1591693064.351538f14724.501.20834.v2 (deflated 91%)\n",
            "  adding: content/logs/fit/MBN_S4/20200609-085744/validation/ (stored 0%)\n",
            "  adding: content/logs/fit/MBN_S4/20200609-085744/validation/events.out.tfevents.1591693086.351538f14724.501.24974.v2 (deflated 31%)\n",
            "  adding: content/logs/fit/MBN_S2/ (stored 0%)\n",
            "  adding: content/logs/fit/MBN_S2/20200609-085656/ (stored 0%)\n",
            "  adding: content/logs/fit/MBN_S2/20200609-085656/train/ (stored 0%)\n",
            "  adding: content/logs/fit/MBN_S2/20200609-085656/train/events.out.tfevents.1591693027.351538f14724.profile-empty (deflated 5%)\n",
            "  adding: content/logs/fit/MBN_S2/20200609-085656/train/plugins/ (stored 0%)\n",
            "  adding: content/logs/fit/MBN_S2/20200609-085656/train/plugins/profile/ (stored 0%)\n",
            "  adding: content/logs/fit/MBN_S2/20200609-085656/train/plugins/profile/2020_06_09_08_57_07/ (stored 0%)\n",
            "  adding: content/logs/fit/MBN_S2/20200609-085656/train/plugins/profile/2020_06_09_08_57_07/351538f14724.overview_page.pb (deflated 59%)\n",
            "  adding: content/logs/fit/MBN_S2/20200609-085656/train/plugins/profile/2020_06_09_08_57_07/351538f14724.input_pipeline.pb (deflated 57%)\n",
            "  adding: content/logs/fit/MBN_S2/20200609-085656/train/plugins/profile/2020_06_09_08_57_07/351538f14724.kernel_stats.pb (deflated 96%)\n",
            "  adding: content/logs/fit/MBN_S2/20200609-085656/train/plugins/profile/2020_06_09_08_57_07/351538f14724.trace.json.gz (deflated 2%)\n",
            "  adding: content/logs/fit/MBN_S2/20200609-085656/train/plugins/profile/2020_06_09_08_57_07/351538f14724.tensorflow_stats.pb (deflated 76%)\n",
            "  adding: content/logs/fit/MBN_S2/20200609-085656/train/events.out.tfevents.1591693016.351538f14724.501.11550.v2 (deflated 91%)\n",
            "  adding: content/logs/fit/MBN_S2/20200609-085656/validation/ (stored 0%)\n",
            "  adding: content/logs/fit/MBN_S2/20200609-085656/validation/events.out.tfevents.1591693038.351538f14724.501.15690.v2 (deflated 31%)\n"
          ],
          "name": "stdout"
        },
        {
          "output_type": "error",
          "ename": "MessageError",
          "evalue": "ignored",
          "traceback": [
            "\u001b[0;31m---------------------------------------------------------------------------\u001b[0m",
            "\u001b[0;31mMessageError\u001b[0m                              Traceback (most recent call last)",
            "\u001b[0;32m<ipython-input-34-7d43957d316c>\u001b[0m in \u001b[0;36m<module>\u001b[0;34m()\u001b[0m\n\u001b[1;32m      2\u001b[0m \u001b[0;34m\u001b[0m\u001b[0m\n\u001b[1;32m      3\u001b[0m \u001b[0;32mfrom\u001b[0m \u001b[0mgoogle\u001b[0m\u001b[0;34m.\u001b[0m\u001b[0mcolab\u001b[0m \u001b[0;32mimport\u001b[0m \u001b[0mfiles\u001b[0m\u001b[0;34m\u001b[0m\u001b[0;34m\u001b[0m\u001b[0m\n\u001b[0;32m----> 4\u001b[0;31m \u001b[0mfiles\u001b[0m\u001b[0;34m.\u001b[0m\u001b[0mdownload\u001b[0m\u001b[0;34m(\u001b[0m\u001b[0;34m\"/content/logs_MBN.zip\"\u001b[0m\u001b[0;34m)\u001b[0m\u001b[0;34m\u001b[0m\u001b[0;34m\u001b[0m\u001b[0m\n\u001b[0m",
            "\u001b[0;32m/usr/local/lib/python3.6/dist-packages/google/colab/files.py\u001b[0m in \u001b[0;36mdownload\u001b[0;34m(filename)\u001b[0m\n\u001b[1;32m    176\u001b[0m       \u001b[0;34m'port'\u001b[0m\u001b[0;34m:\u001b[0m \u001b[0mport\u001b[0m\u001b[0;34m,\u001b[0m\u001b[0;34m\u001b[0m\u001b[0;34m\u001b[0m\u001b[0m\n\u001b[1;32m    177\u001b[0m       \u001b[0;34m'path'\u001b[0m\u001b[0;34m:\u001b[0m \u001b[0m_os\u001b[0m\u001b[0;34m.\u001b[0m\u001b[0mpath\u001b[0m\u001b[0;34m.\u001b[0m\u001b[0mabspath\u001b[0m\u001b[0;34m(\u001b[0m\u001b[0mfilename\u001b[0m\u001b[0;34m)\u001b[0m\u001b[0;34m,\u001b[0m\u001b[0;34m\u001b[0m\u001b[0;34m\u001b[0m\u001b[0m\n\u001b[0;32m--> 178\u001b[0;31m       \u001b[0;34m'name'\u001b[0m\u001b[0;34m:\u001b[0m \u001b[0m_os\u001b[0m\u001b[0;34m.\u001b[0m\u001b[0mpath\u001b[0m\u001b[0;34m.\u001b[0m\u001b[0mbasename\u001b[0m\u001b[0;34m(\u001b[0m\u001b[0mfilename\u001b[0m\u001b[0;34m)\u001b[0m\u001b[0;34m,\u001b[0m\u001b[0;34m\u001b[0m\u001b[0;34m\u001b[0m\u001b[0m\n\u001b[0m\u001b[1;32m    179\u001b[0m   })\n",
            "\u001b[0;32m/usr/local/lib/python3.6/dist-packages/google/colab/output/_js.py\u001b[0m in \u001b[0;36meval_js\u001b[0;34m(script, ignore_result)\u001b[0m\n\u001b[1;32m     37\u001b[0m   \u001b[0;32mif\u001b[0m \u001b[0mignore_result\u001b[0m\u001b[0;34m:\u001b[0m\u001b[0;34m\u001b[0m\u001b[0;34m\u001b[0m\u001b[0m\n\u001b[1;32m     38\u001b[0m     \u001b[0;32mreturn\u001b[0m\u001b[0;34m\u001b[0m\u001b[0;34m\u001b[0m\u001b[0m\n\u001b[0;32m---> 39\u001b[0;31m   \u001b[0;32mreturn\u001b[0m \u001b[0m_message\u001b[0m\u001b[0;34m.\u001b[0m\u001b[0mread_reply_from_input\u001b[0m\u001b[0;34m(\u001b[0m\u001b[0mrequest_id\u001b[0m\u001b[0;34m)\u001b[0m\u001b[0;34m\u001b[0m\u001b[0;34m\u001b[0m\u001b[0m\n\u001b[0m\u001b[1;32m     40\u001b[0m \u001b[0;34m\u001b[0m\u001b[0m\n\u001b[1;32m     41\u001b[0m \u001b[0;34m\u001b[0m\u001b[0m\n",
            "\u001b[0;32m/usr/local/lib/python3.6/dist-packages/google/colab/_message.py\u001b[0m in \u001b[0;36mread_reply_from_input\u001b[0;34m(message_id, timeout_sec)\u001b[0m\n\u001b[1;32m    104\u001b[0m         reply.get('colab_msg_id') == message_id):\n\u001b[1;32m    105\u001b[0m       \u001b[0;32mif\u001b[0m \u001b[0;34m'error'\u001b[0m \u001b[0;32min\u001b[0m \u001b[0mreply\u001b[0m\u001b[0;34m:\u001b[0m\u001b[0;34m\u001b[0m\u001b[0;34m\u001b[0m\u001b[0m\n\u001b[0;32m--> 106\u001b[0;31m         \u001b[0;32mraise\u001b[0m \u001b[0mMessageError\u001b[0m\u001b[0;34m(\u001b[0m\u001b[0mreply\u001b[0m\u001b[0;34m[\u001b[0m\u001b[0;34m'error'\u001b[0m\u001b[0;34m]\u001b[0m\u001b[0;34m)\u001b[0m\u001b[0;34m\u001b[0m\u001b[0;34m\u001b[0m\u001b[0m\n\u001b[0m\u001b[1;32m    107\u001b[0m       \u001b[0;32mreturn\u001b[0m \u001b[0mreply\u001b[0m\u001b[0;34m.\u001b[0m\u001b[0mget\u001b[0m\u001b[0;34m(\u001b[0m\u001b[0;34m'data'\u001b[0m\u001b[0;34m,\u001b[0m \u001b[0;32mNone\u001b[0m\u001b[0;34m)\u001b[0m\u001b[0;34m\u001b[0m\u001b[0;34m\u001b[0m\u001b[0m\n\u001b[1;32m    108\u001b[0m \u001b[0;34m\u001b[0m\u001b[0m\n",
            "\u001b[0;31mMessageError\u001b[0m: TypeError: NetworkError when attempting to fetch resource."
          ]
        }
      ]
    }
  ]
}