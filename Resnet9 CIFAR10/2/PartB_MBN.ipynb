{
  "nbformat": 4,
  "nbformat_minor": 0,
  "metadata": {
    "accelerator": "GPU",
    "colab": {
      "name": "PartB_MBN.ipynb",
      "provenance": [],
      "collapsed_sections": [
        "Dh0pHf2BI27z",
        "u-i2IQWtuTih",
        "C9Uj8u64y99h",
        "jaE4OtKGIya2",
        "UaKxMqcwJCjM",
        "7mZnxDp-JUwY",
        "Z1enpycyJe0S",
        "UN_o_nyvcCQZ"
      ]
    },
    "kernelspec": {
      "name": "python3",
      "display_name": "Python 3"
    }
  },
  "cells": [
    {
      "cell_type": "markdown",
      "metadata": {
        "colab_type": "text",
        "id": "Dh0pHf2BI27z"
      },
      "source": [
        "## Check the GPU"
      ]
    },
    {
      "cell_type": "code",
      "metadata": {
        "colab_type": "code",
        "id": "d2Jxr12YIcY1",
        "outputId": "49269ea8-ced9-4a35-81af-f599948d62c5",
        "colab": {
          "base_uri": "https://localhost:8080/",
          "height": 335
        }
      },
      "source": [
        "!nvidia-smi"
      ],
      "execution_count": 1,
      "outputs": [
        {
          "output_type": "stream",
          "text": [
            "Mon Jun  8 12:31:49 2020       \n",
            "+-----------------------------------------------------------------------------+\n",
            "| NVIDIA-SMI 440.82       Driver Version: 418.67       CUDA Version: 10.1     |\n",
            "|-------------------------------+----------------------+----------------------+\n",
            "| GPU  Name        Persistence-M| Bus-Id        Disp.A | Volatile Uncorr. ECC |\n",
            "| Fan  Temp  Perf  Pwr:Usage/Cap|         Memory-Usage | GPU-Util  Compute M. |\n",
            "|===============================+======================+======================|\n",
            "|   0  Tesla P100-PCIE...  Off  | 00000000:00:04.0 Off |                    0 |\n",
            "| N/A   37C    P0    27W / 250W |      0MiB / 16280MiB |      0%      Default |\n",
            "+-------------------------------+----------------------+----------------------+\n",
            "                                                                               \n",
            "+-----------------------------------------------------------------------------+\n",
            "| Processes:                                                       GPU Memory |\n",
            "|  GPU       PID   Type   Process name                             Usage      |\n",
            "|=============================================================================|\n",
            "|  No running processes found                                                 |\n",
            "+-----------------------------------------------------------------------------+\n"
          ],
          "name": "stdout"
        }
      ]
    },
    {
      "cell_type": "markdown",
      "metadata": {
        "id": "u-i2IQWtuTih",
        "colab_type": "text"
      },
      "source": [
        "# Import Libraries"
      ]
    },
    {
      "cell_type": "code",
      "metadata": {
        "id": "4QfmT0mieNn0",
        "colab_type": "code",
        "colab": {
          "base_uri": "https://localhost:8080/",
          "height": 131
        },
        "outputId": "a8a42af1-c7cd-4516-c277-543884d6947b"
      },
      "source": [
        "# Mount google drive\n",
        "from google.colab import drive\n",
        "drive.mount('/content/drive')"
      ],
      "execution_count": 3,
      "outputs": [
        {
          "output_type": "stream",
          "text": [
            "Go to this URL in a browser: https://accounts.google.com/o/oauth2/auth?client_id=947318989803-6bn6qk8qdgf4n4g3pfee6491hc0brc4i.apps.googleusercontent.com&redirect_uri=urn%3aietf%3awg%3aoauth%3a2.0%3aoob&response_type=code&scope=email%20https%3a%2f%2fwww.googleapis.com%2fauth%2fdocs.test%20https%3a%2f%2fwww.googleapis.com%2fauth%2fdrive%20https%3a%2f%2fwww.googleapis.com%2fauth%2fdrive.photos.readonly%20https%3a%2f%2fwww.googleapis.com%2fauth%2fpeopleapi.readonly\n",
            "\n",
            "Enter your authorization code:\n",
            "··········\n",
            "Mounted at /content/drive\n"
          ],
          "name": "stdout"
        }
      ]
    },
    {
      "cell_type": "code",
      "metadata": {
        "colab_type": "code",
        "id": "1wQG9HbAIsoD",
        "colab": {}
      },
      "source": [
        "import numpy as np\n",
        "import os\n",
        "import time\n",
        "import datetime\n",
        "import math\n",
        "import matplotlib.pyplot as plt\n",
        "%matplotlib inline\n",
        "np.random.seed(101)\n",
        "\n",
        "# tensorflow imports\n",
        "import tensorflow as tf\n",
        "import tensorflow.keras.backend as K\n",
        "\n",
        "# tensorflow.contrib.training is deprecated\n",
        "# from tensorflow.contrib.training import HParams\n",
        "\n",
        "# tf.keras imports\n",
        "from tensorflow.keras import Model\n",
        "from tensorflow.keras.layers import Dense, Conv2D, Flatten, Add, Softmax, GlobalMaxPool2D, DepthwiseConv2D\n",
        "from tensorflow.keras.layers import BatchNormalization, MaxPooling2D, Input, ReLU, Lambda, AveragePooling2D\n",
        "from tensorflow.keras.preprocessing.image import ImageDataGenerator\n",
        "from tensorflow.keras.optimizers import SGD\n",
        "from tensorflow.keras.regularizers import l2\n",
        "from tensorflow.keras.utils import to_categorical\n",
        "from tensorflow.keras.callbacks import ModelCheckpoint\n",
        "\n",
        "# Load the TensorBoard notebook extension\n",
        "%load_ext tensorboard\n",
        "\n",
        "# Clear any logs from previous runs\n",
        "!rm -rf ./logs/ \n",
        "\n",
        "# Renewed Batch Norm\n",
        "# Adding all the code in the python file directly in the notebook\n",
        "# from batchnorm import *\n",
        "\n",
        "# Image Augmenters\n",
        "from albumentations import (Compose, HorizontalFlip, Cutout, PadIfNeeded, RandomCrop)\n",
        "\n",
        "# One Cycle LR'\n",
        "# Adding all the code in the python file directly in the notebook\n",
        "# from clr import OneCycleLR, LRFinder"
      ],
      "execution_count": 0,
      "outputs": []
    },
    {
      "cell_type": "markdown",
      "metadata": {
        "colab_type": "text",
        "id": "C9Uj8u64y99h"
      },
      "source": [
        "# clr.py"
      ]
    },
    {
      "cell_type": "code",
      "metadata": {
        "id": "Z4BuchHsvSHS",
        "colab_type": "code",
        "colab": {}
      },
      "source": [
        "!cp \"/content/drive/My Drive/BatchNorm Research/Utils/clr.py\" .\n",
        "from clr import *"
      ],
      "execution_count": 0,
      "outputs": []
    },
    {
      "cell_type": "markdown",
      "metadata": {
        "colab_type": "text",
        "id": "jaE4OtKGIya2"
      },
      "source": [
        "# Downloading Dataset"
      ]
    },
    {
      "cell_type": "code",
      "metadata": {
        "colab_type": "code",
        "id": "ltmT4KkZIvjx",
        "colab": {
          "base_uri": "https://localhost:8080/",
          "height": 0
        },
        "outputId": "3662bcfe-aba2-4704-fe81-42f78a0778ee"
      },
      "source": [
        "from tensorflow.keras.datasets import cifar10\n",
        "(train_features, train_labels), (test_features, test_labels) = cifar10.load_data()\n",
        "num_train, img_channels, img_rows, img_cols =  train_features.shape\n",
        "num_test, _, _, _ =  test_features.shape\n",
        "num_classes = len(np.unique(train_labels))"
      ],
      "execution_count": 6,
      "outputs": [
        {
          "output_type": "stream",
          "text": [
            "Downloading data from https://www.cs.toronto.edu/~kriz/cifar-10-python.tar.gz\n",
            "170500096/170498071 [==============================] - 6s 0us/step\n"
          ],
          "name": "stdout"
        }
      ]
    },
    {
      "cell_type": "markdown",
      "metadata": {
        "colab_type": "text",
        "id": "UaKxMqcwJCjM"
      },
      "source": [
        "# View Data"
      ]
    },
    {
      "cell_type": "code",
      "metadata": {
        "colab_type": "code",
        "id": "DEJdu5TmJCQ8",
        "colab": {
          "base_uri": "https://localhost:8080/",
          "height": 0
        },
        "outputId": "cbcbdf36-8456-433e-9b04-258cf118c15e"
      },
      "source": [
        "class_names = ['airplane','automobile','bird','cat','deer',\n",
        "               'dog','frog','horse','ship','truck']\n",
        "fig = plt.figure(figsize=(8,3))\n",
        "for i in range(num_classes):\n",
        "    ax = fig.add_subplot(2, 5, 1 + i, xticks=[], yticks=[])\n",
        "    idx = np.where(train_labels[:]==i)[0]\n",
        "    features_idx = train_features[idx,::]\n",
        "    img_num = np.random.randint(features_idx.shape[0])\n",
        "    im = features_idx[img_num]\n",
        "    ax.set_title(class_names[i])\n",
        "    plt.imshow(im)\n",
        "plt.show()"
      ],
      "execution_count": 7,
      "outputs": [
        {
          "output_type": "display_data",
          "data": {
            "image/png": "[encoded data removed]",
            "text/plain": [
              "<Figure size 576x216 with 10 Axes>"
            ]
          },
          "metadata": {
            "tags": []
          }
        }
      ]
    },
    {
      "cell_type": "markdown",
      "metadata": {
        "colab_type": "text",
        "id": "CZhuBJDxJMAi"
      },
      "source": [
        "# Setting Hyperparams"
      ]
    },
    {
      "cell_type": "code",
      "metadata": {
        "colab_type": "code",
        "id": "9IHxGPKtJH9z",
        "colab": {}
      },
      "source": [
        "# Dictionary of hyperparameters\n",
        "hparams = {\n",
        "    'learning_rate' : 0.4,  # fixed learning rate\n",
        "    'batch_size': 512,  # training batch size\n",
        "    'momentum' : 0.9, # fixed momentum\n",
        "    'n_epochs': 24,  # number of epochs to train\n",
        "    'decay' : 1e-04, # learning rate*batch size\n",
        "}"
      ],
      "execution_count": 0,
      "outputs": []
    },
    {
      "cell_type": "markdown",
      "metadata": {
        "colab_type": "text",
        "id": "7mZnxDp-JUwY"
      },
      "source": [
        "# Image Normalization and One hot encoding"
      ]
    },
    {
      "cell_type": "code",
      "metadata": {
        "colab_type": "code",
        "id": "Mr9ZbW9JJV5s",
        "colab": {}
      },
      "source": [
        "#Image Normalization\n",
        "train_features = train_features.astype('float32')\n",
        "test_features = test_features.astype('float32')\n",
        "\n",
        "mean = np.mean(train_features, axis=(0,1,2))\n",
        "std = np.std(train_features, axis=(0,1,2))\n",
        "X_train = (train_features - mean) / (std)\n",
        "X_test = (test_features - mean) / (std)\n",
        "\n",
        "# convert class labels to binary class labels\n",
        "y_train = to_categorical(train_labels, num_classes)\n",
        "y_test = to_categorical(test_labels, num_classes)"
      ],
      "execution_count": 0,
      "outputs": []
    },
    {
      "cell_type": "markdown",
      "metadata": {
        "colab_type": "text",
        "id": "Z1enpycyJe0S"
      },
      "source": [
        "# Image Augmentation techniques\n",
        "\n",
        "* Random Crop of 32x32 with padding of 4px\n",
        "* Horizontal Flip\n",
        "* CutOut of 8x8\n"
      ]
    },
    {
      "cell_type": "code",
      "metadata": {
        "colab_type": "code",
        "id": "3bXhs6zHJYS8",
        "colab": {}
      },
      "source": [
        "# Custom Image augmentation \n",
        "\n",
        "def CustomImageDataGen(input_img):\n",
        "    seq = Compose([PadIfNeeded(40,40, p=1),\n",
        "                   RandomCrop(32,32, p=1),\n",
        "                   HorizontalFlip(p=0.5),\n",
        "                   Cutout(num_holes=1, p=0.5)\n",
        "                  ], p=1)\n",
        "    output_img = seq(image = input_img)['image']\n",
        "    return output_img\n",
        "\n",
        "datagen = ImageDataGenerator(preprocessing_function=CustomImageDataGen)\n",
        "datagen.fit(X_train)"
      ],
      "execution_count": 0,
      "outputs": []
    },
    {
      "cell_type": "markdown",
      "metadata": {
        "colab_type": "text",
        "id": "UN_o_nyvcCQZ"
      },
      "source": [
        "# Modified BatchNorm function"
      ]
    },
    {
      "cell_type": "code",
      "metadata": {
        "colab_type": "code",
        "id": "ubc2bSjxyZoV",
        "colab": {}
      },
      "source": [
        "!cp \"/content/drive/My Drive/BatchNorm Research/Utils/MBatchNorm.py\" .\n",
        "from MBatchNorm import *"
      ],
      "execution_count": 0,
      "outputs": []
    },
    {
      "cell_type": "markdown",
      "metadata": {
        "colab_type": "text",
        "id": "vfYSM_glL35D"
      },
      "source": [
        "# 1. Model with Modified Batch Normalization Stride 1 - 30 epochs"
      ]
    },
    {
      "cell_type": "markdown",
      "metadata": {
        "colab_type": "text",
        "id": "Wup3Gq4Rc6PM"
      },
      "source": [
        "## Network Architecture (ResNet 9)"
      ]
    },
    {
      "cell_type": "code",
      "metadata": {
        "colab_type": "code",
        "id": "5x_MdQQkc6PS",
        "colab": {}
      },
      "source": [
        "# PyTorch’s default way to set the initial, random weights of layers does not have \n",
        "# a counterpart in Tensorflow, so we borrow that\n",
        "\n",
        "def init_pytorch(shape, dtype=tf.float32, partition_info=None):\n",
        "    fan = np.prod(shape[:-1])\n",
        "    bound = 1 / math.sqrt(fan)\n",
        "    return tf.random.uniform(shape, minval=-bound, maxval=bound, dtype=dtype)"
      ],
      "execution_count": 0,
      "outputs": []
    },
    {
      "cell_type": "code",
      "metadata": {
        "colab_type": "code",
        "id": "44rAjGh8c6Pl",
        "colab": {}
      },
      "source": [
        "def Resnet9(input_dim, n_classes): \n",
        "    inputs = Input(shape= input_dim, name='input')\n",
        "\n",
        "    # Define the repeated conv_bn_relu function\n",
        "    def conv_bn_relu(x, layer_name, pool=False):\n",
        "        channels = {'prep': 64, 'layer1': 128, 'layer2': 256, 'layer3': 256}\n",
        "        x = Conv2D(filters = channels[layer_name], \n",
        "                   kernel_size = 3, \n",
        "                   strides = 1, \n",
        "                   padding = 'same',\n",
        "                   kernel_initializer=init_pytorch,\n",
        "                   kernel_regularizer=l2(hparams['decay']),\n",
        "                   use_bias=False)(x)\n",
        "        # x = BatchNormalization(momentum=0.9, epsilon=1e-5)(x)\n",
        "        # Applying MODIFIED Batch Normalization with stride 1\n",
        "        x = BatchNorm()(x)\n",
        "        x = ReLU()(x)\n",
        "        if pool==True:\n",
        "            x = MaxPooling2D(2)(x)\n",
        "        return x        \n",
        "\n",
        "    # Stack the layers\n",
        "    # Layer Prep\n",
        "    layer_prep = conv_bn_relu(inputs, 'prep')\n",
        "\n",
        "    # Layer 1\n",
        "    layer1_part1 = conv_bn_relu(layer_prep, 'layer1', pool=True)  \n",
        "    layer1_part2_res1 = conv_bn_relu(layer1_part1, 'layer1')\n",
        "    layer1_part2_res2 = conv_bn_relu(layer1_part2_res1, 'layer1')\n",
        "    layer1 = Add()([layer1_part1, layer1_part2_res2])\n",
        "    \n",
        "    # Layer 2\n",
        "    layer2_part1 = conv_bn_relu(layer1, 'layer2', pool=True)  \n",
        "    layer2_part2_res1 = conv_bn_relu(layer2_part1, 'layer2')\n",
        "    layer2_part2_res2 = conv_bn_relu(layer2_part2_res1, 'layer2')\n",
        "    layer2 = Add()([layer2_part1, layer2_part2_res2])\n",
        "\n",
        "    # Layer 3\n",
        "    layer3 = conv_bn_relu(layer2, 'layer3', pool=True)\n",
        "\n",
        "    # Layer Classifier\n",
        "    layer_classifier = GlobalMaxPool2D()(layer3)\n",
        "    layer_classifier = Flatten()(layer_classifier)\n",
        "    layer_classifier = Dense(n_classes, kernel_initializer= init_pytorch,\n",
        "                           kernel_regularizer=l2(hparams['decay']),\n",
        "                           use_bias=False, name='classifier')(layer_classifier)\n",
        "    layer_classifier = Lambda(lambda x : x * 0.2)(layer_classifier)\n",
        "\n",
        "    outputs = Softmax()(layer_classifier)\n",
        "\n",
        "    model = Model(inputs, outputs)\n",
        "    model.compile(loss='categorical_crossentropy',\n",
        "                optimizer=SGD(lr= hparams['learning_rate'], momentum= hparams['momentum'], \n",
        "                              nesterov=True),\n",
        "                metrics=['accuracy'])\n",
        "    return model"
      ],
      "execution_count": 0,
      "outputs": []
    },
    {
      "cell_type": "code",
      "metadata": {
        "colab_type": "code",
        "id": "aTiXWkELc6Pu",
        "colab": {
          "base_uri": "https://localhost:8080/",
          "height": 1000
        },
        "outputId": "ba9c5cec-ad87-4753-c439-12501a1932e5"
      },
      "source": [
        "# Model Summary\n",
        "input_dim = X_train.shape[1:]\n",
        "net = Resnet9(input_dim, num_classes)\n",
        "net.summary()"
      ],
      "execution_count": 14,
      "outputs": [
        {
          "output_type": "stream",
          "text": [
            "Model: \"model\"\n",
            "__________________________________________________________________________________________________\n",
            "Layer (type)                    Output Shape         Param #     Connected to                     \n",
            "==================================================================================================\n",
            "input (InputLayer)              [(None, 32, 32, 3)]  0                                            \n",
            "__________________________________________________________________________________________________\n",
            "conv2d (Conv2D)                 (None, 32, 32, 64)   1728        input[0][0]                      \n",
            "__________________________________________________________________________________________________\n",
            "batch_norm (BatchNorm)          (None, 32, 32, 64)   256         conv2d[0][0]                     \n",
            "__________________________________________________________________________________________________\n",
            "re_lu (ReLU)                    (None, 32, 32, 64)   0           batch_norm[0][0]                 \n",
            "__________________________________________________________________________________________________\n",
            "conv2d_1 (Conv2D)               (None, 32, 32, 128)  73728       re_lu[0][0]                      \n",
            "__________________________________________________________________________________________________\n",
            "batch_norm_1 (BatchNorm)        (None, 32, 32, 128)  512         conv2d_1[0][0]                   \n",
            "__________________________________________________________________________________________________\n",
            "re_lu_1 (ReLU)                  (None, 32, 32, 128)  0           batch_norm_1[0][0]               \n",
            "__________________________________________________________________________________________________\n",
            "max_pooling2d (MaxPooling2D)    (None, 16, 16, 128)  0           re_lu_1[0][0]                    \n",
            "__________________________________________________________________________________________________\n",
            "conv2d_2 (Conv2D)               (None, 16, 16, 128)  147456      max_pooling2d[0][0]              \n",
            "__________________________________________________________________________________________________\n",
            "batch_norm_2 (BatchNorm)        (None, 16, 16, 128)  512         conv2d_2[0][0]                   \n",
            "__________________________________________________________________________________________________\n",
            "re_lu_2 (ReLU)                  (None, 16, 16, 128)  0           batch_norm_2[0][0]               \n",
            "__________________________________________________________________________________________________\n",
            "conv2d_3 (Conv2D)               (None, 16, 16, 128)  147456      re_lu_2[0][0]                    \n",
            "__________________________________________________________________________________________________\n",
            "batch_norm_3 (BatchNorm)        (None, 16, 16, 128)  512         conv2d_3[0][0]                   \n",
            "__________________________________________________________________________________________________\n",
            "re_lu_3 (ReLU)                  (None, 16, 16, 128)  0           batch_norm_3[0][0]               \n",
            "__________________________________________________________________________________________________\n",
            "add (Add)                       (None, 16, 16, 128)  0           max_pooling2d[0][0]              \n",
            "                                                                 re_lu_3[0][0]                    \n",
            "__________________________________________________________________________________________________\n",
            "conv2d_4 (Conv2D)               (None, 16, 16, 256)  294912      add[0][0]                        \n",
            "__________________________________________________________________________________________________\n",
            "batch_norm_4 (BatchNorm)        (None, 16, 16, 256)  1024        conv2d_4[0][0]                   \n",
            "__________________________________________________________________________________________________\n",
            "re_lu_4 (ReLU)                  (None, 16, 16, 256)  0           batch_norm_4[0][0]               \n",
            "__________________________________________________________________________________________________\n",
            "max_pooling2d_1 (MaxPooling2D)  (None, 8, 8, 256)    0           re_lu_4[0][0]                    \n",
            "__________________________________________________________________________________________________\n",
            "conv2d_5 (Conv2D)               (None, 8, 8, 256)    589824      max_pooling2d_1[0][0]            \n",
            "__________________________________________________________________________________________________\n",
            "batch_norm_5 (BatchNorm)        (None, 8, 8, 256)    1024        conv2d_5[0][0]                   \n",
            "__________________________________________________________________________________________________\n",
            "re_lu_5 (ReLU)                  (None, 8, 8, 256)    0           batch_norm_5[0][0]               \n",
            "__________________________________________________________________________________________________\n",
            "conv2d_6 (Conv2D)               (None, 8, 8, 256)    589824      re_lu_5[0][0]                    \n",
            "__________________________________________________________________________________________________\n",
            "batch_norm_6 (BatchNorm)        (None, 8, 8, 256)    1024        conv2d_6[0][0]                   \n",
            "__________________________________________________________________________________________________\n",
            "re_lu_6 (ReLU)                  (None, 8, 8, 256)    0           batch_norm_6[0][0]               \n",
            "__________________________________________________________________________________________________\n",
            "add_1 (Add)                     (None, 8, 8, 256)    0           max_pooling2d_1[0][0]            \n",
            "                                                                 re_lu_6[0][0]                    \n",
            "__________________________________________________________________________________________________\n",
            "conv2d_7 (Conv2D)               (None, 8, 8, 256)    589824      add_1[0][0]                      \n",
            "__________________________________________________________________________________________________\n",
            "batch_norm_7 (BatchNorm)        (None, 8, 8, 256)    1024        conv2d_7[0][0]                   \n",
            "__________________________________________________________________________________________________\n",
            "re_lu_7 (ReLU)                  (None, 8, 8, 256)    0           batch_norm_7[0][0]               \n",
            "__________________________________________________________________________________________________\n",
            "max_pooling2d_2 (MaxPooling2D)  (None, 4, 4, 256)    0           re_lu_7[0][0]                    \n",
            "__________________________________________________________________________________________________\n",
            "global_max_pooling2d (GlobalMax (None, 256)          0           max_pooling2d_2[0][0]            \n",
            "__________________________________________________________________________________________________\n",
            "flatten (Flatten)               (None, 256)          0           global_max_pooling2d[0][0]       \n",
            "__________________________________________________________________________________________________\n",
            "classifier (Dense)              (None, 10)           2560        flatten[0][0]                    \n",
            "__________________________________________________________________________________________________\n",
            "lambda (Lambda)                 (None, 10)           0           classifier[0][0]                 \n",
            "__________________________________________________________________________________________________\n",
            "softmax (Softmax)               (None, 10)           0           lambda[0][0]                     \n",
            "==================================================================================================\n",
            "Total params: 2,443,200\n",
            "Trainable params: 2,440,256\n",
            "Non-trainable params: 2,944\n",
            "__________________________________________________________________________________________________\n"
          ],
          "name": "stdout"
        }
      ]
    },
    {
      "cell_type": "markdown",
      "metadata": {
        "colab_type": "text",
        "id": "irDGMEj8c6P3"
      },
      "source": [
        "## Model Training"
      ]
    },
    {
      "cell_type": "code",
      "metadata": {
        "id": "cLu-V0vwwMnN",
        "colab_type": "code",
        "colab": {
          "base_uri": "https://localhost:8080/",
          "height": 243
        },
        "outputId": "d353407b-7305-4995-cc8c-5426b6d1447e"
      },
      "source": [
        "!pip install -U tensorboard-plugin-profile"
      ],
      "execution_count": 15,
      "outputs": [
        {
          "output_type": "stream",
          "text": [
            "Collecting tensorboard-plugin-profile\n",
            "\u001b[?25l  Downloading https://files.pythonhosted.org/packages/0d/22/a8607d5c8eeff7de359bec339f94197cd785769c5458d3a322f0ac87d89d/tensorboard_plugin_profile-2.2.0-py3-none-any.whl (1.1MB)\n",
            "\r\u001b[K     |▎                               | 10kB 26.4MB/s eta 0:00:01\r\u001b[K     |▋                               | 20kB 6.3MB/s eta 0:00:01\r\u001b[K     |▉                               | 30kB 7.0MB/s eta 0:00:01\r\u001b[K     |█▏                              | 40kB 7.1MB/s eta 0:00:01\r\u001b[K     |█▌                              | 51kB 7.4MB/s eta 0:00:01\r\u001b[K     |█▊                              | 61kB 8.3MB/s eta 0:00:01\r\u001b[K     |██                              | 71kB 8.4MB/s eta 0:00:01\r\u001b[K     |██▍                             | 81kB 9.3MB/s eta 0:00:01\r\u001b[K     |██▋                             | 92kB 8.9MB/s eta 0:00:01\r\u001b[K     |███                             | 102kB 9.0MB/s eta 0:00:01\r\u001b[K     |███▎                            | 112kB 9.0MB/s eta 0:00:01\r\u001b[K     |███▌                            | 122kB 9.0MB/s eta 0:00:01\r\u001b[K     |███▉                            | 133kB 9.0MB/s eta 0:00:01\r\u001b[K     |████▏                           | 143kB 9.0MB/s eta 0:00:01\r\u001b[K     |████▍                           | 153kB 9.0MB/s eta 0:00:01\r\u001b[K     |████▊                           | 163kB 9.0MB/s eta 0:00:01\r\u001b[K     |█████                           | 174kB 9.0MB/s eta 0:00:01\r\u001b[K     |█████▎                          | 184kB 9.0MB/s eta 0:00:01\r\u001b[K     |█████▋                          | 194kB 9.0MB/s eta 0:00:01\r\u001b[K     |█████▉                          | 204kB 9.0MB/s eta 0:00:01\r\u001b[K     |██████▏                         | 215kB 9.0MB/s eta 0:00:01\r\u001b[K     |██████▌                         | 225kB 9.0MB/s eta 0:00:01\r\u001b[K     |██████▊                         | 235kB 9.0MB/s eta 0:00:01\r\u001b[K     |███████                         | 245kB 9.0MB/s eta 0:00:01\r\u001b[K     |███████▍                        | 256kB 9.0MB/s eta 0:00:01\r\u001b[K     |███████▋                        | 266kB 9.0MB/s eta 0:00:01\r\u001b[K     |████████                        | 276kB 9.0MB/s eta 0:00:01\r\u001b[K     |████████▎                       | 286kB 9.0MB/s eta 0:00:01\r\u001b[K     |████████▌                       | 296kB 9.0MB/s eta 0:00:01\r\u001b[K     |████████▉                       | 307kB 9.0MB/s eta 0:00:01\r\u001b[K     |█████████▏                      | 317kB 9.0MB/s eta 0:00:01\r\u001b[K     |█████████▍                      | 327kB 9.0MB/s eta 0:00:01\r\u001b[K     |█████████▊                      | 337kB 9.0MB/s eta 0:00:01\r\u001b[K     |██████████                      | 348kB 9.0MB/s eta 0:00:01\r\u001b[K     |██████████▎                     | 358kB 9.0MB/s eta 0:00:01\r\u001b[K     |██████████▋                     | 368kB 9.0MB/s eta 0:00:01\r\u001b[K     |██████████▉                     | 378kB 9.0MB/s eta 0:00:01\r\u001b[K     |███████████▏                    | 389kB 9.0MB/s eta 0:00:01\r\u001b[K     |███████████▌                    | 399kB 9.0MB/s eta 0:00:01\r\u001b[K     |███████████▊                    | 409kB 9.0MB/s eta 0:00:01\r\u001b[K     |████████████                    | 419kB 9.0MB/s eta 0:00:01\r\u001b[K     |████████████▍                   | 430kB 9.0MB/s eta 0:00:01\r\u001b[K     |████████████▋                   | 440kB 9.0MB/s eta 0:00:01\r\u001b[K     |█████████████                   | 450kB 9.0MB/s eta 0:00:01\r\u001b[K     |█████████████▎                  | 460kB 9.0MB/s eta 0:00:01\r\u001b[K     |█████████████▌                  | 471kB 9.0MB/s eta 0:00:01\r\u001b[K     |█████████████▉                  | 481kB 9.0MB/s eta 0:00:01\r\u001b[K     |██████████████                  | 491kB 9.0MB/s eta 0:00:01\r\u001b[K     |██████████████▍                 | 501kB 9.0MB/s eta 0:00:01\r\u001b[K     |██████████████▊                 | 512kB 9.0MB/s eta 0:00:01\r\u001b[K     |███████████████                 | 522kB 9.0MB/s eta 0:00:01\r\u001b[K     |███████████████▎                | 532kB 9.0MB/s eta 0:00:01\r\u001b[K     |███████████████▋                | 542kB 9.0MB/s eta 0:00:01\r\u001b[K     |███████████████▉                | 552kB 9.0MB/s eta 0:00:01\r\u001b[K     |████████████████▏               | 563kB 9.0MB/s eta 0:00:01\r\u001b[K     |████████████████▌               | 573kB 9.0MB/s eta 0:00:01\r\u001b[K     |████████████████▊               | 583kB 9.0MB/s eta 0:00:01\r\u001b[K     |█████████████████               | 593kB 9.0MB/s eta 0:00:01\r\u001b[K     |█████████████████▍              | 604kB 9.0MB/s eta 0:00:01\r\u001b[K     |█████████████████▋              | 614kB 9.0MB/s eta 0:00:01\r\u001b[K     |██████████████████              | 624kB 9.0MB/s eta 0:00:01\r\u001b[K     |██████████████████▎             | 634kB 9.0MB/s eta 0:00:01\r\u001b[K     |██████████████████▌             | 645kB 9.0MB/s eta 0:00:01\r\u001b[K     |██████████████████▉             | 655kB 9.0MB/s eta 0:00:01\r\u001b[K     |███████████████████             | 665kB 9.0MB/s eta 0:00:01\r\u001b[K     |███████████████████▍            | 675kB 9.0MB/s eta 0:00:01\r\u001b[K     |███████████████████▊            | 686kB 9.0MB/s eta 0:00:01\r\u001b[K     |████████████████████            | 696kB 9.0MB/s eta 0:00:01\r\u001b[K     |████████████████████▎           | 706kB 9.0MB/s eta 0:00:01\r\u001b[K     |████████████████████▋           | 716kB 9.0MB/s eta 0:00:01\r\u001b[K     |████████████████████▉           | 727kB 9.0MB/s eta 0:00:01\r\u001b[K     |█████████████████████▏          | 737kB 9.0MB/s eta 0:00:01\r\u001b[K     |█████████████████████▌          | 747kB 9.0MB/s eta 0:00:01\r\u001b[K     |█████████████████████▊          | 757kB 9.0MB/s eta 0:00:01\r\u001b[K     |██████████████████████          | 768kB 9.0MB/s eta 0:00:01\r\u001b[K     |██████████████████████▍         | 778kB 9.0MB/s eta 0:00:01\r\u001b[K     |██████████████████████▋         | 788kB 9.0MB/s eta 0:00:01\r\u001b[K     |███████████████████████         | 798kB 9.0MB/s eta 0:00:01\r\u001b[K     |███████████████████████▏        | 808kB 9.0MB/s eta 0:00:01\r\u001b[K     |███████████████████████▌        | 819kB 9.0MB/s eta 0:00:01\r\u001b[K     |███████████████████████▉        | 829kB 9.0MB/s eta 0:00:01\r\u001b[K     |████████████████████████        | 839kB 9.0MB/s eta 0:00:01\r\u001b[K     |████████████████████████▍       | 849kB 9.0MB/s eta 0:00:01\r\u001b[K     |████████████████████████▊       | 860kB 9.0MB/s eta 0:00:01\r\u001b[K     |█████████████████████████       | 870kB 9.0MB/s eta 0:00:01\r\u001b[K     |█████████████████████████▎      | 880kB 9.0MB/s eta 0:00:01\r\u001b[K     |█████████████████████████▋      | 890kB 9.0MB/s eta 0:00:01\r\u001b[K     |█████████████████████████▉      | 901kB 9.0MB/s eta 0:00:01\r\u001b[K     |██████████████████████████▏     | 911kB 9.0MB/s eta 0:00:01\r\u001b[K     |██████████████████████████▌     | 921kB 9.0MB/s eta 0:00:01\r\u001b[K     |██████████████████████████▊     | 931kB 9.0MB/s eta 0:00:01\r\u001b[K     |███████████████████████████     | 942kB 9.0MB/s eta 0:00:01\r\u001b[K     |███████████████████████████▍    | 952kB 9.0MB/s eta 0:00:01\r\u001b[K     |███████████████████████████▋    | 962kB 9.0MB/s eta 0:00:01\r\u001b[K     |████████████████████████████    | 972kB 9.0MB/s eta 0:00:01\r\u001b[K     |████████████████████████████▏   | 983kB 9.0MB/s eta 0:00:01\r\u001b[K     |████████████████████████████▌   | 993kB 9.0MB/s eta 0:00:01\r\u001b[K     |████████████████████████████▉   | 1.0MB 9.0MB/s eta 0:00:01\r\u001b[K     |█████████████████████████████   | 1.0MB 9.0MB/s eta 0:00:01\r\u001b[K     |█████████████████████████████▍  | 1.0MB 9.0MB/s eta 0:00:01\r\u001b[K     |█████████████████████████████▊  | 1.0MB 9.0MB/s eta 0:00:01\r\u001b[K     |██████████████████████████████  | 1.0MB 9.0MB/s eta 0:00:01\r\u001b[K     |██████████████████████████████▎ | 1.1MB 9.0MB/s eta 0:00:01\r\u001b[K     |██████████████████████████████▋ | 1.1MB 9.0MB/s eta 0:00:01\r\u001b[K     |██████████████████████████████▉ | 1.1MB 9.0MB/s eta 0:00:01\r\u001b[K     |███████████████████████████████▏| 1.1MB 9.0MB/s eta 0:00:01\r\u001b[K     |███████████████████████████████▌| 1.1MB 9.0MB/s eta 0:00:01\r\u001b[K     |███████████████████████████████▊| 1.1MB 9.0MB/s eta 0:00:01\r\u001b[K     |████████████████████████████████| 1.1MB 9.0MB/s \n",
            "\u001b[?25hRequirement already satisfied, skipping upgrade: setuptools>=41.0.0 in /usr/local/lib/python3.6/dist-packages (from tensorboard-plugin-profile) (47.1.1)\n",
            "Requirement already satisfied, skipping upgrade: six>=1.10.0 in /usr/local/lib/python3.6/dist-packages (from tensorboard-plugin-profile) (1.12.0)\n",
            "Collecting gviz-api>=1.9.0\n",
            "  Downloading https://files.pythonhosted.org/packages/8c/8f/c6f16235a16b3dc4efdcf34dbc93b3b6f678b88176dbd6a36c75d678888f/gviz_api-1.9.0-py2.py3-none-any.whl\n",
            "Requirement already satisfied, skipping upgrade: protobuf>=3.6.0 in /usr/local/lib/python3.6/dist-packages (from tensorboard-plugin-profile) (3.10.0)\n",
            "Requirement already satisfied, skipping upgrade: werkzeug>=0.11.15 in /usr/local/lib/python3.6/dist-packages (from tensorboard-plugin-profile) (1.0.1)\n",
            "Installing collected packages: gviz-api, tensorboard-plugin-profile\n",
            "Successfully installed gviz-api-1.9.0 tensorboard-plugin-profile-2.2.0\n"
          ],
          "name": "stdout"
        }
      ]
    },
    {
      "cell_type": "code",
      "metadata": {
        "colab_type": "code",
        "id": "XpmI5fgDc6P5",
        "colab": {
          "base_uri": "https://localhost:8080/",
          "height": 933
        },
        "outputId": "ed73734d-7202-4346-f6ab-538e1ced7933"
      },
      "source": [
        "# train the model\n",
        "start = time.time()\n",
        "\n",
        "#checkpointer\n",
        "checkpointer = ModelCheckpoint(filepath=\"bestmodel_MBN_S1.h5\", verbose=0, \n",
        "                               save_best_only=True, monitor=\"val_accuracy\")\n",
        "# one cycle lr\n",
        "lr_manager = OneCycleLR(max_lr= hparams['learning_rate'],\n",
        "                        batch_size = hparams['batch_size'],\n",
        "                        samples = len(X_train),\n",
        "                        epochs = hparams['n_epochs'],\n",
        "                        maximum_momentum = hparams['momentum'],\n",
        "                        verbose=False)\n",
        "\n",
        "log_dir = \"logs/fit/MBN_S1/\" + datetime.datetime.now().strftime(\"%Y%m%d-%H%M%S\")\n",
        "tensorboard_callback = tf.keras.callbacks.TensorBoard(log_dir=log_dir,\n",
        "                                                      histogram_freq=1,\n",
        "                                                      profile_batch = '49')\n",
        "\n",
        "# Fit the model\n",
        "history = net.fit(datagen.flow(X_train, y_train, \n",
        "                  batch_size= hparams['batch_size'], \n",
        "                  shuffle=True),\n",
        "                  epochs = hparams['n_epochs'], \n",
        "                  steps_per_epoch= np.ceil(X_train.shape[0]/hparams['batch_size']),\n",
        "                  validation_data=(X_test, y_test),\n",
        "                  callbacks = [lr_manager, checkpointer, tensorboard_callback])\n",
        "end = time.time()\n",
        "print (\"Model took %0.2f seconds to train\"%(end - start))"
      ],
      "execution_count": 16,
      "outputs": [
        {
          "output_type": "stream",
          "text": [
            "Epoch 1/24\n",
            "98/98 [==============================] - 13s 128ms/step - loss: 1.4783 - accuracy: 0.4873 - val_loss: 2.0864 - val_accuracy: 0.2444\n",
            "Epoch 2/24\n",
            "98/98 [==============================] - 12s 118ms/step - loss: 0.8694 - accuracy: 0.7153 - val_loss: 1.2317 - val_accuracy: 0.6258\n",
            "Epoch 3/24\n",
            "98/98 [==============================] - 12s 118ms/step - loss: 0.6819 - accuracy: 0.7865 - val_loss: 1.4155 - val_accuracy: 0.5883\n",
            "Epoch 4/24\n",
            "98/98 [==============================] - 12s 118ms/step - loss: 0.5880 - accuracy: 0.8228 - val_loss: 0.8558 - val_accuracy: 0.7386\n",
            "Epoch 5/24\n",
            "98/98 [==============================] - 12s 118ms/step - loss: 0.5419 - accuracy: 0.8429 - val_loss: 0.7374 - val_accuracy: 0.7797\n",
            "Epoch 6/24\n",
            "98/98 [==============================] - 12s 117ms/step - loss: 0.5074 - accuracy: 0.8571 - val_loss: 1.0770 - val_accuracy: 0.7212\n",
            "Epoch 7/24\n",
            "98/98 [==============================] - 12s 118ms/step - loss: 0.4816 - accuracy: 0.8716 - val_loss: 0.6773 - val_accuracy: 0.8163\n",
            "Epoch 8/24\n",
            "98/98 [==============================] - 12s 118ms/step - loss: 0.4686 - accuracy: 0.8786 - val_loss: 0.6963 - val_accuracy: 0.8047\n",
            "Epoch 9/24\n",
            "98/98 [==============================] - 11s 117ms/step - loss: 0.4656 - accuracy: 0.8823 - val_loss: 0.9780 - val_accuracy: 0.7535\n",
            "Epoch 10/24\n",
            "98/98 [==============================] - 12s 117ms/step - loss: 0.4568 - accuracy: 0.8908 - val_loss: 0.8333 - val_accuracy: 0.7945\n",
            "Epoch 11/24\n",
            "98/98 [==============================] - 12s 118ms/step - loss: 0.4470 - accuracy: 0.8973 - val_loss: 0.8343 - val_accuracy: 0.7958\n",
            "Epoch 12/24\n",
            "98/98 [==============================] - 11s 117ms/step - loss: 0.4372 - accuracy: 0.9023 - val_loss: 0.7979 - val_accuracy: 0.7962\n",
            "Epoch 13/24\n",
            "98/98 [==============================] - 12s 118ms/step - loss: 0.4072 - accuracy: 0.9177 - val_loss: 0.6473 - val_accuracy: 0.8441\n",
            "Epoch 14/24\n",
            "98/98 [==============================] - 12s 117ms/step - loss: 0.3837 - accuracy: 0.9275 - val_loss: 0.5778 - val_accuracy: 0.8614\n",
            "Epoch 15/24\n",
            "98/98 [==============================] - 11s 117ms/step - loss: 0.3619 - accuracy: 0.9342 - val_loss: 0.7142 - val_accuracy: 0.8281\n",
            "Epoch 16/24\n",
            "98/98 [==============================] - 12s 118ms/step - loss: 0.3426 - accuracy: 0.9421 - val_loss: 0.5196 - val_accuracy: 0.8846\n",
            "Epoch 17/24\n",
            "98/98 [==============================] - 12s 118ms/step - loss: 0.3225 - accuracy: 0.9480 - val_loss: 0.4964 - val_accuracy: 0.8911\n",
            "Epoch 18/24\n",
            "98/98 [==============================] - 11s 117ms/step - loss: 0.3060 - accuracy: 0.9549 - val_loss: 0.5687 - val_accuracy: 0.8760\n",
            "Epoch 19/24\n",
            "98/98 [==============================] - 11s 116ms/step - loss: 0.2838 - accuracy: 0.9612 - val_loss: 0.5450 - val_accuracy: 0.8839\n",
            "Epoch 20/24\n",
            "98/98 [==============================] - 12s 118ms/step - loss: 0.2614 - accuracy: 0.9701 - val_loss: 0.4738 - val_accuracy: 0.9019\n",
            "Epoch 21/24\n",
            "98/98 [==============================] - 11s 117ms/step - loss: 0.2392 - accuracy: 0.9762 - val_loss: 0.4814 - val_accuracy: 0.8998\n",
            "Epoch 22/24\n",
            "98/98 [==============================] - 12s 119ms/step - loss: 0.2236 - accuracy: 0.9805 - val_loss: 0.3943 - val_accuracy: 0.9271\n",
            "Epoch 23/24\n",
            "98/98 [==============================] - 12s 118ms/step - loss: 0.2073 - accuracy: 0.9867 - val_loss: 0.3792 - val_accuracy: 0.9287\n",
            "Epoch 24/24\n",
            "98/98 [==============================] - 12s 118ms/step - loss: 0.1986 - accuracy: 0.9891 - val_loss: 0.3633 - val_accuracy: 0.9338\n",
            "Model took 289.89 seconds to train\n"
          ],
          "name": "stdout"
        }
      ]
    },
    {
      "cell_type": "markdown",
      "metadata": {
        "colab_type": "text",
        "id": "BMUwaUF6c6QC"
      },
      "source": [
        "## Model Evaluation"
      ]
    },
    {
      "cell_type": "code",
      "metadata": {
        "colab_type": "code",
        "id": "xchYdP8ac6QE",
        "colab": {
          "base_uri": "https://localhost:8080/",
          "height": 73
        },
        "outputId": "ac01ffc2-7310-44ec-cb31-030bc6749885"
      },
      "source": [
        "# load the model\n",
        "from tensorflow.keras.models import load_model\n",
        "bestmodel = load_model(\"bestmodel_MBN_S1.h5\", custom_objects={'init_pytorch': init_pytorch,\n",
        "                                                              'BatchNorm': BatchNorm})\n",
        "\n",
        "# Evaluation\n",
        "score= net.evaluate(X_test, y_test, batch_size=hparams['batch_size'], verbose=1)\n",
        "print(\"Minimal Validation Loss : \", score[0])\n",
        "print(\"Max Validation Accuracy:\", score[1]*100, \"%\")"
      ],
      "execution_count": 17,
      "outputs": [
        {
          "output_type": "stream",
          "text": [
            "20/20 [==============================] - 1s 37ms/step - loss: 0.3633 - accuracy: 0.9338\n",
            "Minimal Validation Loss :  0.3632766604423523\n",
            "Max Validation Accuracy: 93.37999820709229 %\n"
          ],
          "name": "stdout"
        }
      ]
    },
    {
      "cell_type": "markdown",
      "metadata": {
        "id": "b3F0JxjC8F1A",
        "colab_type": "text"
      },
      "source": [
        "## Tensorboard"
      ]
    },
    {
      "cell_type": "code",
      "metadata": {
        "id": "24hdZGDa8Hyd",
        "colab_type": "code",
        "colab": {}
      },
      "source": [
        "%tensorboard --logdir 'logs/fit/MBN_S1/'"
      ],
      "execution_count": 0,
      "outputs": []
    },
    {
      "cell_type": "markdown",
      "metadata": {
        "colab_type": "text",
        "id": "Qh91R1zac6QJ"
      },
      "source": [
        "## Plot Loss and Accuracy History"
      ]
    },
    {
      "cell_type": "code",
      "metadata": {
        "colab_type": "code",
        "id": "WSMS6OWgc6QL",
        "outputId": "1a719d94-345e-4932-9bb2-596d146fc2aa",
        "colab": {
          "base_uri": "https://localhost:8080/",
          "height": 426
        }
      },
      "source": [
        "def plot_model_history(history):\n",
        "    fig, axs = plt.subplots(1,2,figsize=(15,5))\n",
        "    \n",
        "    # summarize history for accuracy\n",
        "    axs[0].plot(range(1,len(history.history['accuracy'])+1),history.history['accuracy'])\n",
        "    axs[0].plot(range(1,len(history.history['val_accuracy'])+1),history.history['val_accuracy'])\n",
        "    axs[0].set_title('Model Accuracy')\n",
        "    axs[0].set_ylabel('Accuracy')\n",
        "    axs[0].set_xlabel('Epoch')\n",
        "    axs[0].set_xticks(np.arange(1,len(history.history['accuracy'])+1),len(history.history['accuracy'])/10)\n",
        "    axs[0].legend(['train', 'val'], loc='best')\n",
        "    \n",
        "    # summarize history for loss\n",
        "    axs[1].plot(range(1,len(history.history['loss'])+1), history.history['loss'])\n",
        "    axs[1].plot(range(1,len(history.history['val_loss'])+1), history.history['val_loss'])\n",
        "    axs[1].set_title('Model Loss')\n",
        "    axs[1].set_ylabel('Loss')\n",
        "    axs[1].set_xlabel('Epoch')\n",
        "    axs[1].set_xticks(np.arange(1,len(history.history['loss'])+1),len(history.history['loss'])/10)\n",
        "    axs[1].legend(['train', 'val'], loc='best')\n",
        "    plt.show()\n",
        "\n",
        "# plot model history\n",
        "plot_model_history(history)"
      ],
      "execution_count": 19,
      "outputs": [
        {
          "output_type": "stream",
          "text": [
            "/usr/local/lib/python3.6/dist-packages/ipykernel_launcher.py:10: MatplotlibDeprecationWarning: Passing the minor parameter of set_xticks() positionally is deprecated since Matplotlib 3.2; the parameter will become keyword-only two minor releases later.\n",
            "  # Remove the CWD from sys.path while we load stuff.\n",
            "/usr/local/lib/python3.6/dist-packages/ipykernel_launcher.py:19: MatplotlibDeprecationWarning: Passing the minor parameter of set_xticks() positionally is deprecated since Matplotlib 3.2; the parameter will become keyword-only two minor releases later.\n"
          ],
          "name": "stderr"
        },
        {
          "output_type": "display_data",
          "data": {
            "image/png": "[encoded data removed]",
            "text/plain": [
              "<Figure size 1080x360 with 2 Axes>"
            ]
          },
          "metadata": {
            "tags": [],
            "needs_background": "light"
          }
        }
      ]
    },
    {
      "cell_type": "markdown",
      "metadata": {
        "colab_type": "text",
        "id": "Z1qKNk1sh8Rb"
      },
      "source": [
        "# 2. Model with Modified Batch Normalization Stride 2 - 30 epochs"
      ]
    },
    {
      "cell_type": "markdown",
      "metadata": {
        "colab_type": "text",
        "id": "i5ch9I6uh8Ro"
      },
      "source": [
        "## Network Architecture (ResNet 9)"
      ]
    },
    {
      "cell_type": "code",
      "metadata": {
        "colab_type": "code",
        "id": "0GKtz8Y0h8Rw",
        "colab": {}
      },
      "source": [
        "# PyTorch’s default way to set the initial, random weights of layers does not have \n",
        "# a counterpart in Tensorflow, so we borrow that\n",
        "\n",
        "def init_pytorch(shape, dtype=tf.float32, partition_info=None):\n",
        "    fan = np.prod(shape[:-1])\n",
        "    bound = 1 / math.sqrt(fan)\n",
        "    return tf.random.uniform(shape, minval=-bound, maxval=bound, dtype=dtype)"
      ],
      "execution_count": 0,
      "outputs": []
    },
    {
      "cell_type": "code",
      "metadata": {
        "colab_type": "code",
        "id": "fwQOE0ath8SK",
        "colab": {}
      },
      "source": [
        "def Resnet9(input_dim, n_classes): \n",
        "    inputs = Input(shape= input_dim, name='input')\n",
        "\n",
        "    # Define the repeated conv_bn_relu function\n",
        "    def conv_bn_relu(x, layer_name, pool=False):\n",
        "        channels = {'prep': 64, 'layer1': 128, 'layer2': 256, 'layer3': 256}\n",
        "        x = Conv2D(filters = channels[layer_name], \n",
        "                   kernel_size = 3, \n",
        "                   strides = 1, \n",
        "                   padding = 'same',\n",
        "                   kernel_initializer=init_pytorch,\n",
        "                   kernel_regularizer=l2(hparams['decay']),\n",
        "                   use_bias=False)(x)\n",
        "        # x = BatchNormalization(momentum=0.9, epsilon=1e-5)(x)\n",
        "        # Applying MODIFIED Batch Normalization with stride 2\n",
        "        x = BatchNorm(stride=2)(x)\n",
        "        x = ReLU()(x)\n",
        "        if pool==True:\n",
        "            x = MaxPooling2D(2)(x)\n",
        "        return x        \n",
        "\n",
        "    # Stack the layers\n",
        "    # Layer Prep\n",
        "    layer_prep = conv_bn_relu(inputs, 'prep')\n",
        "\n",
        "    # Layer 1\n",
        "    layer1_part1 = conv_bn_relu(layer_prep, 'layer1', pool=True)  \n",
        "    layer1_part2_res1 = conv_bn_relu(layer1_part1, 'layer1')\n",
        "    layer1_part2_res2 = conv_bn_relu(layer1_part2_res1, 'layer1')\n",
        "    layer1 = Add()([layer1_part1, layer1_part2_res2])\n",
        "    \n",
        "    # Layer 2\n",
        "    layer2_part1 = conv_bn_relu(layer1, 'layer2', pool=True)  \n",
        "    layer2_part2_res1 = conv_bn_relu(layer2_part1, 'layer2')\n",
        "    layer2_part2_res2 = conv_bn_relu(layer2_part2_res1, 'layer2')\n",
        "    layer2 = Add()([layer2_part1, layer2_part2_res2])\n",
        "\n",
        "    # Layer 3\n",
        "    layer3 = conv_bn_relu(layer2, 'layer3', pool=True)\n",
        "\n",
        "    # Layer Classifier\n",
        "    layer_classifier = GlobalMaxPool2D()(layer3)\n",
        "    layer_classifier = Flatten()(layer_classifier)\n",
        "    layer_classifier = Dense(n_classes, kernel_initializer= init_pytorch,\n",
        "                           kernel_regularizer=l2(hparams['decay']),\n",
        "                           use_bias=False, name='classifier')(layer_classifier)\n",
        "    layer_classifier = Lambda(lambda x : x * 0.2)(layer_classifier)\n",
        "\n",
        "    outputs = Softmax()(layer_classifier)\n",
        "\n",
        "    model = Model(inputs, outputs)\n",
        "    model.compile(loss='categorical_crossentropy',\n",
        "                optimizer=SGD(lr= hparams['learning_rate'], momentum= hparams['momentum'], \n",
        "                              nesterov=True),\n",
        "                metrics=['accuracy'])\n",
        "    return model"
      ],
      "execution_count": 0,
      "outputs": []
    },
    {
      "cell_type": "code",
      "metadata": {
        "colab_type": "code",
        "outputId": "0abf2f00-f1f5-44d3-81fa-0b93225d8394",
        "id": "DzZ3d-t8h8SX",
        "colab": {
          "base_uri": "https://localhost:8080/",
          "height": 1000
        }
      },
      "source": [
        "# Model Summary\n",
        "input_dim = X_train.shape[1:]\n",
        "net = Resnet9(input_dim, num_classes)\n",
        "net.summary()"
      ],
      "execution_count": 26,
      "outputs": [
        {
          "output_type": "stream",
          "text": [
            "Model: \"model_2\"\n",
            "__________________________________________________________________________________________________\n",
            "Layer (type)                    Output Shape         Param #     Connected to                     \n",
            "==================================================================================================\n",
            "input (InputLayer)              [(None, 32, 32, 3)]  0                                            \n",
            "__________________________________________________________________________________________________\n",
            "conv2d_16 (Conv2D)              (None, 32, 32, 64)   1728        input[0][0]                      \n",
            "__________________________________________________________________________________________________\n",
            "batch_norm_16 (BatchNorm)       (None, 32, 32, 64)   256         conv2d_16[0][0]                  \n",
            "__________________________________________________________________________________________________\n",
            "re_lu_16 (ReLU)                 (None, 32, 32, 64)   0           batch_norm_16[0][0]              \n",
            "__________________________________________________________________________________________________\n",
            "conv2d_17 (Conv2D)              (None, 32, 32, 128)  73728       re_lu_16[0][0]                   \n",
            "__________________________________________________________________________________________________\n",
            "batch_norm_17 (BatchNorm)       (None, 32, 32, 128)  512         conv2d_17[0][0]                  \n",
            "__________________________________________________________________________________________________\n",
            "re_lu_17 (ReLU)                 (None, 32, 32, 128)  0           batch_norm_17[0][0]              \n",
            "__________________________________________________________________________________________________\n",
            "max_pooling2d_6 (MaxPooling2D)  (None, 16, 16, 128)  0           re_lu_17[0][0]                   \n",
            "__________________________________________________________________________________________________\n",
            "conv2d_18 (Conv2D)              (None, 16, 16, 128)  147456      max_pooling2d_6[0][0]            \n",
            "__________________________________________________________________________________________________\n",
            "batch_norm_18 (BatchNorm)       (None, 16, 16, 128)  512         conv2d_18[0][0]                  \n",
            "__________________________________________________________________________________________________\n",
            "re_lu_18 (ReLU)                 (None, 16, 16, 128)  0           batch_norm_18[0][0]              \n",
            "__________________________________________________________________________________________________\n",
            "conv2d_19 (Conv2D)              (None, 16, 16, 128)  147456      re_lu_18[0][0]                   \n",
            "__________________________________________________________________________________________________\n",
            "batch_norm_19 (BatchNorm)       (None, 16, 16, 128)  512         conv2d_19[0][0]                  \n",
            "__________________________________________________________________________________________________\n",
            "re_lu_19 (ReLU)                 (None, 16, 16, 128)  0           batch_norm_19[0][0]              \n",
            "__________________________________________________________________________________________________\n",
            "add_4 (Add)                     (None, 16, 16, 128)  0           max_pooling2d_6[0][0]            \n",
            "                                                                 re_lu_19[0][0]                   \n",
            "__________________________________________________________________________________________________\n",
            "conv2d_20 (Conv2D)              (None, 16, 16, 256)  294912      add_4[0][0]                      \n",
            "__________________________________________________________________________________________________\n",
            "batch_norm_20 (BatchNorm)       (None, 16, 16, 256)  1024        conv2d_20[0][0]                  \n",
            "__________________________________________________________________________________________________\n",
            "re_lu_20 (ReLU)                 (None, 16, 16, 256)  0           batch_norm_20[0][0]              \n",
            "__________________________________________________________________________________________________\n",
            "max_pooling2d_7 (MaxPooling2D)  (None, 8, 8, 256)    0           re_lu_20[0][0]                   \n",
            "__________________________________________________________________________________________________\n",
            "conv2d_21 (Conv2D)              (None, 8, 8, 256)    589824      max_pooling2d_7[0][0]            \n",
            "__________________________________________________________________________________________________\n",
            "batch_norm_21 (BatchNorm)       (None, 8, 8, 256)    1024        conv2d_21[0][0]                  \n",
            "__________________________________________________________________________________________________\n",
            "re_lu_21 (ReLU)                 (None, 8, 8, 256)    0           batch_norm_21[0][0]              \n",
            "__________________________________________________________________________________________________\n",
            "conv2d_22 (Conv2D)              (None, 8, 8, 256)    589824      re_lu_21[0][0]                   \n",
            "__________________________________________________________________________________________________\n",
            "batch_norm_22 (BatchNorm)       (None, 8, 8, 256)    1024        conv2d_22[0][0]                  \n",
            "__________________________________________________________________________________________________\n",
            "re_lu_22 (ReLU)                 (None, 8, 8, 256)    0           batch_norm_22[0][0]              \n",
            "__________________________________________________________________________________________________\n",
            "add_5 (Add)                     (None, 8, 8, 256)    0           max_pooling2d_7[0][0]            \n",
            "                                                                 re_lu_22[0][0]                   \n",
            "__________________________________________________________________________________________________\n",
            "conv2d_23 (Conv2D)              (None, 8, 8, 256)    589824      add_5[0][0]                      \n",
            "__________________________________________________________________________________________________\n",
            "batch_norm_23 (BatchNorm)       (None, 8, 8, 256)    1024        conv2d_23[0][0]                  \n",
            "__________________________________________________________________________________________________\n",
            "re_lu_23 (ReLU)                 (None, 8, 8, 256)    0           batch_norm_23[0][0]              \n",
            "__________________________________________________________________________________________________\n",
            "max_pooling2d_8 (MaxPooling2D)  (None, 4, 4, 256)    0           re_lu_23[0][0]                   \n",
            "__________________________________________________________________________________________________\n",
            "global_max_pooling2d_2 (GlobalM (None, 256)          0           max_pooling2d_8[0][0]            \n",
            "__________________________________________________________________________________________________\n",
            "flatten_2 (Flatten)             (None, 256)          0           global_max_pooling2d_2[0][0]     \n",
            "__________________________________________________________________________________________________\n",
            "classifier (Dense)              (None, 10)           2560        flatten_2[0][0]                  \n",
            "__________________________________________________________________________________________________\n",
            "lambda_2 (Lambda)               (None, 10)           0           classifier[0][0]                 \n",
            "__________________________________________________________________________________________________\n",
            "softmax_2 (Softmax)             (None, 10)           0           lambda_2[0][0]                   \n",
            "==================================================================================================\n",
            "Total params: 2,443,200\n",
            "Trainable params: 2,440,256\n",
            "Non-trainable params: 2,944\n",
            "__________________________________________________________________________________________________\n"
          ],
          "name": "stdout"
        }
      ]
    },
    {
      "cell_type": "markdown",
      "metadata": {
        "colab_type": "text",
        "id": "zMpkiSEvh8Sf"
      },
      "source": [
        "## Model Training"
      ]
    },
    {
      "cell_type": "code",
      "metadata": {
        "colab_type": "code",
        "outputId": "d0956b16-c3c8-49cc-e651-42c81e59813c",
        "id": "l6qVSd6lh8Sg",
        "colab": {
          "base_uri": "https://localhost:8080/",
          "height": 933
        }
      },
      "source": [
        "# train the model\n",
        "start = time.time()\n",
        "\n",
        "#checkpointer\n",
        "checkpointer = ModelCheckpoint(filepath=\"bestmodel_MBN_S2.h5\", verbose=0, \n",
        "                               save_best_only=True, monitor=\"val_accuracy\")\n",
        "# one cycle lr\n",
        "lr_manager = OneCycleLR(max_lr= hparams['learning_rate'],\n",
        "                        batch_size = hparams['batch_size'],\n",
        "                        samples = len(X_train),\n",
        "                        epochs = hparams['n_epochs'],\n",
        "                        maximum_momentum = hparams['momentum'],\n",
        "                        verbose=False)\n",
        "\n",
        "log_dir = \"logs/fit/MBN_S2/\" + datetime.datetime.now().strftime(\"%Y%m%d-%H%M%S\")\n",
        "tensorboard_callback = tf.keras.callbacks.TensorBoard(log_dir=log_dir,\n",
        "                                                      histogram_freq=1,\n",
        "                                                      profile_batch = '49')\n",
        "\n",
        "# Fit the model\n",
        "history = net.fit(datagen.flow(X_train, y_train, \n",
        "                  batch_size= hparams['batch_size'], \n",
        "                  shuffle=True),\n",
        "                  epochs = hparams['n_epochs'], \n",
        "                  steps_per_epoch= np.ceil(X_train.shape[0]/hparams['batch_size']),\n",
        "                  validation_data=(X_test, y_test),\n",
        "                  callbacks = [lr_manager, checkpointer, tensorboard_callback])\n",
        "end = time.time()\n",
        "print (\"Model took %0.2f seconds to train\"%(end - start))"
      ],
      "execution_count": 27,
      "outputs": [
        {
          "output_type": "stream",
          "text": [
            "Epoch 1/24\n",
            "98/98 [==============================] - 12s 122ms/step - loss: 1.4811 - accuracy: 0.4901 - val_loss: 2.0147 - val_accuracy: 0.2660\n",
            "Epoch 2/24\n",
            "98/98 [==============================] - 12s 119ms/step - loss: 0.8710 - accuracy: 0.7148 - val_loss: 1.2388 - val_accuracy: 0.5926\n",
            "Epoch 3/24\n",
            "98/98 [==============================] - 12s 118ms/step - loss: 0.6866 - accuracy: 0.7846 - val_loss: 1.4006 - val_accuracy: 0.5916\n",
            "Epoch 4/24\n",
            "98/98 [==============================] - 12s 118ms/step - loss: 0.5897 - accuracy: 0.8229 - val_loss: 0.7741 - val_accuracy: 0.7806\n",
            "Epoch 5/24\n",
            "98/98 [==============================] - 11s 117ms/step - loss: 0.5424 - accuracy: 0.8419 - val_loss: 0.8350 - val_accuracy: 0.7583\n",
            "Epoch 6/24\n",
            "98/98 [==============================] - 12s 118ms/step - loss: 0.5076 - accuracy: 0.8567 - val_loss: 0.7876 - val_accuracy: 0.7818\n",
            "Epoch 7/24\n",
            "98/98 [==============================] - 11s 117ms/step - loss: 0.4865 - accuracy: 0.8687 - val_loss: 0.8679 - val_accuracy: 0.7619\n",
            "Epoch 8/24\n",
            "98/98 [==============================] - 12s 118ms/step - loss: 0.4689 - accuracy: 0.8772 - val_loss: 0.7854 - val_accuracy: 0.7985\n",
            "Epoch 9/24\n",
            "98/98 [==============================] - 11s 117ms/step - loss: 0.4540 - accuracy: 0.8858 - val_loss: 0.8382 - val_accuracy: 0.7846\n",
            "Epoch 10/24\n",
            "98/98 [==============================] - 12s 118ms/step - loss: 0.4599 - accuracy: 0.8876 - val_loss: 0.7829 - val_accuracy: 0.8056\n",
            "Epoch 11/24\n",
            "98/98 [==============================] - 12s 117ms/step - loss: 0.4460 - accuracy: 0.8972 - val_loss: 0.9842 - val_accuracy: 0.7654\n",
            "Epoch 12/24\n",
            "98/98 [==============================] - 12s 118ms/step - loss: 0.4334 - accuracy: 0.9048 - val_loss: 0.7666 - val_accuracy: 0.8217\n",
            "Epoch 13/24\n",
            "98/98 [==============================] - 12s 118ms/step - loss: 0.4158 - accuracy: 0.9140 - val_loss: 0.6021 - val_accuracy: 0.8601\n",
            "Epoch 14/24\n",
            "98/98 [==============================] - 12s 118ms/step - loss: 0.3859 - accuracy: 0.9249 - val_loss: 0.8714 - val_accuracy: 0.7950\n",
            "Epoch 15/24\n",
            "98/98 [==============================] - 11s 117ms/step - loss: 0.3676 - accuracy: 0.9333 - val_loss: 0.6410 - val_accuracy: 0.8434\n",
            "Epoch 16/24\n",
            "98/98 [==============================] - 12s 119ms/step - loss: 0.3455 - accuracy: 0.9417 - val_loss: 0.5901 - val_accuracy: 0.8659\n",
            "Epoch 17/24\n",
            "98/98 [==============================] - 12s 118ms/step - loss: 0.3272 - accuracy: 0.9491 - val_loss: 0.5434 - val_accuracy: 0.8781\n",
            "Epoch 18/24\n",
            "98/98 [==============================] - 12s 119ms/step - loss: 0.3007 - accuracy: 0.9584 - val_loss: 0.5254 - val_accuracy: 0.8880\n",
            "Epoch 19/24\n",
            "98/98 [==============================] - 12s 118ms/step - loss: 0.2829 - accuracy: 0.9631 - val_loss: 0.4701 - val_accuracy: 0.9051\n",
            "Epoch 20/24\n",
            "98/98 [==============================] - 12s 118ms/step - loss: 0.2659 - accuracy: 0.9676 - val_loss: 0.4393 - val_accuracy: 0.9153\n",
            "Epoch 21/24\n",
            "98/98 [==============================] - 11s 117ms/step - loss: 0.2429 - accuracy: 0.9756 - val_loss: 0.4278 - val_accuracy: 0.9150\n",
            "Epoch 22/24\n",
            "98/98 [==============================] - 12s 118ms/step - loss: 0.2248 - accuracy: 0.9812 - val_loss: 0.4034 - val_accuracy: 0.9224\n",
            "Epoch 23/24\n",
            "98/98 [==============================] - 12s 118ms/step - loss: 0.2089 - accuracy: 0.9859 - val_loss: 0.3740 - val_accuracy: 0.9333\n",
            "Epoch 24/24\n",
            "98/98 [==============================] - 12s 118ms/step - loss: 0.1987 - accuracy: 0.9886 - val_loss: 0.3681 - val_accuracy: 0.9344\n",
            "Model took 283.29 seconds to train\n"
          ],
          "name": "stdout"
        }
      ]
    },
    {
      "cell_type": "markdown",
      "metadata": {
        "colab_type": "text",
        "id": "lEX99g7xh8Sn"
      },
      "source": [
        "## Model Evaluation"
      ]
    },
    {
      "cell_type": "code",
      "metadata": {
        "colab_type": "code",
        "outputId": "5ccac6c0-b042-439f-b56b-89904caac7e7",
        "id": "o-b0GNVPh8Sn",
        "colab": {
          "base_uri": "https://localhost:8080/",
          "height": 73
        }
      },
      "source": [
        "# load the model\n",
        "from tensorflow.keras.models import load_model\n",
        "bestmodel = load_model(\"bestmodel_MBN_S2.h5\", custom_objects={'init_pytorch': init_pytorch,\n",
        "                                                              'BatchNorm': BatchNorm})\n",
        "\n",
        "# Evaluation\n",
        "score= net.evaluate(X_test, y_test, batch_size=hparams['batch_size'], verbose=1)\n",
        "print(\"Minimal Validation Loss : \", score[0])\n",
        "print(\"Max Validation Accuracy:\", score[1]*100, \"%\")"
      ],
      "execution_count": 28,
      "outputs": [
        {
          "output_type": "stream",
          "text": [
            "20/20 [==============================] - 1s 29ms/step - loss: 0.3681 - accuracy: 0.9344\n",
            "Minimal Validation Loss :  0.36810579895973206\n",
            "Max Validation Accuracy: 93.44000220298767 %\n"
          ],
          "name": "stdout"
        }
      ]
    },
    {
      "cell_type": "markdown",
      "metadata": {
        "colab_type": "text",
        "id": "FXXdfnl1GVOL"
      },
      "source": [
        "## Tensorboard"
      ]
    },
    {
      "cell_type": "code",
      "metadata": {
        "colab_type": "code",
        "id": "Y7SF5t8eGVOO",
        "colab": {}
      },
      "source": [
        "%tensorboard --logdir logs/fit/MBN_S2/"
      ],
      "execution_count": 0,
      "outputs": []
    },
    {
      "cell_type": "markdown",
      "metadata": {
        "colab_type": "text",
        "id": "ngbzYYQoh8Sv"
      },
      "source": [
        "## Plot Loss and Accuracy History"
      ]
    },
    {
      "cell_type": "code",
      "metadata": {
        "colab_type": "code",
        "id": "jDugZv0eh8Sw",
        "outputId": "550434f0-cded-476b-e47b-c435cd72948f",
        "colab": {
          "base_uri": "https://localhost:8080/",
          "height": 426
        }
      },
      "source": [
        "def plot_model_history(history):\n",
        "    fig, axs = plt.subplots(1,2,figsize=(15,5))\n",
        "    \n",
        "    # summarize history for accuracy\n",
        "    axs[0].plot(range(1,len(history.history['accuracy'])+1),history.history['accuracy'])\n",
        "    axs[0].plot(range(1,len(history.history['val_accuracy'])+1),history.history['val_accuracy'])\n",
        "    axs[0].set_title('Model Accuracy')\n",
        "    axs[0].set_ylabel('Accuracy')\n",
        "    axs[0].set_xlabel('Epoch')\n",
        "    axs[0].set_xticks(np.arange(1,len(history.history['accuracy'])+1),len(history.history['accuracy'])/10)\n",
        "    axs[0].legend(['train', 'val'], loc='best')\n",
        "    \n",
        "    # summarize history for loss\n",
        "    axs[1].plot(range(1,len(history.history['loss'])+1), history.history['loss'])\n",
        "    axs[1].plot(range(1,len(history.history['val_loss'])+1), history.history['val_loss'])\n",
        "    axs[1].set_title('Model Loss')\n",
        "    axs[1].set_ylabel('Loss')\n",
        "    axs[1].set_xlabel('Epoch')\n",
        "    axs[1].set_xticks(np.arange(1,len(history.history['loss'])+1),len(history.history['loss'])/10)\n",
        "    axs[1].legend(['train', 'val'], loc='best')\n",
        "    plt.show()\n",
        "\n",
        "# plot model history\n",
        "plot_model_history(history)"
      ],
      "execution_count": 30,
      "outputs": [
        {
          "output_type": "stream",
          "text": [
            "/usr/local/lib/python3.6/dist-packages/ipykernel_launcher.py:10: MatplotlibDeprecationWarning: Passing the minor parameter of set_xticks() positionally is deprecated since Matplotlib 3.2; the parameter will become keyword-only two minor releases later.\n",
            "  # Remove the CWD from sys.path while we load stuff.\n",
            "/usr/local/lib/python3.6/dist-packages/ipykernel_launcher.py:19: MatplotlibDeprecationWarning: Passing the minor parameter of set_xticks() positionally is deprecated since Matplotlib 3.2; the parameter will become keyword-only two minor releases later.\n"
          ],
          "name": "stderr"
        },
        {
          "output_type": "display_data",
          "data": {
            "image/png": "[encoded data removed]",
            "text/plain": [
              "<Figure size 1080x360 with 2 Axes>"
            ]
          },
          "metadata": {
            "tags": [],
            "needs_background": "light"
          }
        }
      ]
    },
    {
      "cell_type": "markdown",
      "metadata": {
        "colab_type": "text",
        "id": "4tTToI9ciDwC"
      },
      "source": [
        "# 3. Model with Modified Batch Normalization Stride 4 - 30 epochs"
      ]
    },
    {
      "cell_type": "markdown",
      "metadata": {
        "colab_type": "text",
        "id": "AY9gn7_ZiDwS"
      },
      "source": [
        "## Network Architecture (ResNet 9)"
      ]
    },
    {
      "cell_type": "code",
      "metadata": {
        "colab_type": "code",
        "id": "bonUjU9-iDwb",
        "colab": {}
      },
      "source": [
        "# PyTorch’s default way to set the initial, random weights of layers does not have \n",
        "# a counterpart in Tensorflow, so we borrow that\n",
        "\n",
        "def init_pytorch(shape, dtype=tf.float32, partition_info=None):\n",
        "    fan = np.prod(shape[:-1])\n",
        "    bound = 1 / math.sqrt(fan)\n",
        "    return tf.random.uniform(shape, minval=-bound, maxval=bound, dtype=dtype)"
      ],
      "execution_count": 0,
      "outputs": []
    },
    {
      "cell_type": "code",
      "metadata": {
        "colab_type": "code",
        "id": "WnIK6x5uiDws",
        "colab": {}
      },
      "source": [
        "def Resnet9(input_dim, n_classes): \n",
        "    inputs = Input(shape= input_dim, name='input')\n",
        "\n",
        "    # Define the repeated conv_bn_relu function\n",
        "    def conv_bn_relu(x, layer_name, pool=False):\n",
        "        channels = {'prep': 64, 'layer1': 128, 'layer2': 256, 'layer3': 256}\n",
        "        x = Conv2D(filters = channels[layer_name], \n",
        "                   kernel_size = 3, \n",
        "                   strides = 1, \n",
        "                   padding = 'same',\n",
        "                   kernel_initializer=init_pytorch,\n",
        "                   kernel_regularizer=l2(hparams['decay']),\n",
        "                   use_bias=False)(x)\n",
        "        # x = BatchNormalization(momentum=0.9, epsilon=1e-5)(x)\n",
        "        # Applying MODIFIED Batch Normalization with stride 4\n",
        "        x = BatchNorm(stride=4)(x)\n",
        "        x = ReLU()(x)\n",
        "        if pool==True:\n",
        "            x = MaxPooling2D(2)(x)\n",
        "        return x        \n",
        "\n",
        "    # Stack the layers\n",
        "    # Layer Prep\n",
        "    layer_prep = conv_bn_relu(inputs, 'prep')\n",
        "\n",
        "    # Layer 1\n",
        "    layer1_part1 = conv_bn_relu(layer_prep, 'layer1', pool=True)  \n",
        "    layer1_part2_res1 = conv_bn_relu(layer1_part1, 'layer1')\n",
        "    layer1_part2_res2 = conv_bn_relu(layer1_part2_res1, 'layer1')\n",
        "    layer1 = Add()([layer1_part1, layer1_part2_res2])\n",
        "    \n",
        "    # Layer 2\n",
        "    layer2_part1 = conv_bn_relu(layer1, 'layer2', pool=True)  \n",
        "    layer2_part2_res1 = conv_bn_relu(layer2_part1, 'layer2')\n",
        "    layer2_part2_res2 = conv_bn_relu(layer2_part2_res1, 'layer2')\n",
        "    layer2 = Add()([layer2_part1, layer2_part2_res2])\n",
        "\n",
        "    # Layer 3\n",
        "    layer3 = conv_bn_relu(layer2, 'layer3', pool=True)\n",
        "\n",
        "    # Layer Classifier\n",
        "    layer_classifier = GlobalMaxPool2D()(layer3)\n",
        "    layer_classifier = Flatten()(layer_classifier)\n",
        "    layer_classifier = Dense(n_classes, kernel_initializer= init_pytorch,\n",
        "                           kernel_regularizer=l2(hparams['decay']),\n",
        "                           use_bias=False, name='classifier')(layer_classifier)\n",
        "    layer_classifier = Lambda(lambda x : x * 0.2)(layer_classifier)\n",
        "\n",
        "    outputs = Softmax()(layer_classifier)\n",
        "\n",
        "    model = Model(inputs, outputs)\n",
        "    model.compile(loss='categorical_crossentropy',\n",
        "                optimizer=SGD(lr= hparams['learning_rate'], momentum= hparams['momentum'], \n",
        "                              nesterov=True),\n",
        "                metrics=['accuracy'])\n",
        "    return model"
      ],
      "execution_count": 0,
      "outputs": []
    },
    {
      "cell_type": "code",
      "metadata": {
        "colab_type": "code",
        "outputId": "78401387-9b26-4abe-ae23-9223ddeebec0",
        "id": "z1UFr66tiDw4",
        "colab": {
          "base_uri": "https://localhost:8080/",
          "height": 1000
        }
      },
      "source": [
        "# Model Summary\n",
        "input_dim = X_train.shape[1:]\n",
        "net = Resnet9(input_dim, num_classes)\n",
        "net.summary()"
      ],
      "execution_count": 33,
      "outputs": [
        {
          "output_type": "stream",
          "text": [
            "Model: \"model_3\"\n",
            "__________________________________________________________________________________________________\n",
            "Layer (type)                    Output Shape         Param #     Connected to                     \n",
            "==================================================================================================\n",
            "input (InputLayer)              [(None, 32, 32, 3)]  0                                            \n",
            "__________________________________________________________________________________________________\n",
            "conv2d_24 (Conv2D)              (None, 32, 32, 64)   1728        input[0][0]                      \n",
            "__________________________________________________________________________________________________\n",
            "batch_norm_24 (BatchNorm)       (None, 32, 32, 64)   256         conv2d_24[0][0]                  \n",
            "__________________________________________________________________________________________________\n",
            "re_lu_24 (ReLU)                 (None, 32, 32, 64)   0           batch_norm_24[0][0]              \n",
            "__________________________________________________________________________________________________\n",
            "conv2d_25 (Conv2D)              (None, 32, 32, 128)  73728       re_lu_24[0][0]                   \n",
            "__________________________________________________________________________________________________\n",
            "batch_norm_25 (BatchNorm)       (None, 32, 32, 128)  512         conv2d_25[0][0]                  \n",
            "__________________________________________________________________________________________________\n",
            "re_lu_25 (ReLU)                 (None, 32, 32, 128)  0           batch_norm_25[0][0]              \n",
            "__________________________________________________________________________________________________\n",
            "max_pooling2d_9 (MaxPooling2D)  (None, 16, 16, 128)  0           re_lu_25[0][0]                   \n",
            "__________________________________________________________________________________________________\n",
            "conv2d_26 (Conv2D)              (None, 16, 16, 128)  147456      max_pooling2d_9[0][0]            \n",
            "__________________________________________________________________________________________________\n",
            "batch_norm_26 (BatchNorm)       (None, 16, 16, 128)  512         conv2d_26[0][0]                  \n",
            "__________________________________________________________________________________________________\n",
            "re_lu_26 (ReLU)                 (None, 16, 16, 128)  0           batch_norm_26[0][0]              \n",
            "__________________________________________________________________________________________________\n",
            "conv2d_27 (Conv2D)              (None, 16, 16, 128)  147456      re_lu_26[0][0]                   \n",
            "__________________________________________________________________________________________________\n",
            "batch_norm_27 (BatchNorm)       (None, 16, 16, 128)  512         conv2d_27[0][0]                  \n",
            "__________________________________________________________________________________________________\n",
            "re_lu_27 (ReLU)                 (None, 16, 16, 128)  0           batch_norm_27[0][0]              \n",
            "__________________________________________________________________________________________________\n",
            "add_6 (Add)                     (None, 16, 16, 128)  0           max_pooling2d_9[0][0]            \n",
            "                                                                 re_lu_27[0][0]                   \n",
            "__________________________________________________________________________________________________\n",
            "conv2d_28 (Conv2D)              (None, 16, 16, 256)  294912      add_6[0][0]                      \n",
            "__________________________________________________________________________________________________\n",
            "batch_norm_28 (BatchNorm)       (None, 16, 16, 256)  1024        conv2d_28[0][0]                  \n",
            "__________________________________________________________________________________________________\n",
            "re_lu_28 (ReLU)                 (None, 16, 16, 256)  0           batch_norm_28[0][0]              \n",
            "__________________________________________________________________________________________________\n",
            "max_pooling2d_10 (MaxPooling2D) (None, 8, 8, 256)    0           re_lu_28[0][0]                   \n",
            "__________________________________________________________________________________________________\n",
            "conv2d_29 (Conv2D)              (None, 8, 8, 256)    589824      max_pooling2d_10[0][0]           \n",
            "__________________________________________________________________________________________________\n",
            "batch_norm_29 (BatchNorm)       (None, 8, 8, 256)    1024        conv2d_29[0][0]                  \n",
            "__________________________________________________________________________________________________\n",
            "re_lu_29 (ReLU)                 (None, 8, 8, 256)    0           batch_norm_29[0][0]              \n",
            "__________________________________________________________________________________________________\n",
            "conv2d_30 (Conv2D)              (None, 8, 8, 256)    589824      re_lu_29[0][0]                   \n",
            "__________________________________________________________________________________________________\n",
            "batch_norm_30 (BatchNorm)       (None, 8, 8, 256)    1024        conv2d_30[0][0]                  \n",
            "__________________________________________________________________________________________________\n",
            "re_lu_30 (ReLU)                 (None, 8, 8, 256)    0           batch_norm_30[0][0]              \n",
            "__________________________________________________________________________________________________\n",
            "add_7 (Add)                     (None, 8, 8, 256)    0           max_pooling2d_10[0][0]           \n",
            "                                                                 re_lu_30[0][0]                   \n",
            "__________________________________________________________________________________________________\n",
            "conv2d_31 (Conv2D)              (None, 8, 8, 256)    589824      add_7[0][0]                      \n",
            "__________________________________________________________________________________________________\n",
            "batch_norm_31 (BatchNorm)       (None, 8, 8, 256)    1024        conv2d_31[0][0]                  \n",
            "__________________________________________________________________________________________________\n",
            "re_lu_31 (ReLU)                 (None, 8, 8, 256)    0           batch_norm_31[0][0]              \n",
            "__________________________________________________________________________________________________\n",
            "max_pooling2d_11 (MaxPooling2D) (None, 4, 4, 256)    0           re_lu_31[0][0]                   \n",
            "__________________________________________________________________________________________________\n",
            "global_max_pooling2d_3 (GlobalM (None, 256)          0           max_pooling2d_11[0][0]           \n",
            "__________________________________________________________________________________________________\n",
            "flatten_3 (Flatten)             (None, 256)          0           global_max_pooling2d_3[0][0]     \n",
            "__________________________________________________________________________________________________\n",
            "classifier (Dense)              (None, 10)           2560        flatten_3[0][0]                  \n",
            "__________________________________________________________________________________________________\n",
            "lambda_3 (Lambda)               (None, 10)           0           classifier[0][0]                 \n",
            "__________________________________________________________________________________________________\n",
            "softmax_3 (Softmax)             (None, 10)           0           lambda_3[0][0]                   \n",
            "==================================================================================================\n",
            "Total params: 2,443,200\n",
            "Trainable params: 2,440,256\n",
            "Non-trainable params: 2,944\n",
            "__________________________________________________________________________________________________\n"
          ],
          "name": "stdout"
        }
      ]
    },
    {
      "cell_type": "markdown",
      "metadata": {
        "colab_type": "text",
        "id": "id_sR_DKiDxA"
      },
      "source": [
        "## Model Training"
      ]
    },
    {
      "cell_type": "code",
      "metadata": {
        "colab_type": "code",
        "outputId": "6a42bc4c-3b6b-4d40-d949-e283b8dc5574",
        "id": "Dm9wYgVbiDxC",
        "colab": {
          "base_uri": "https://localhost:8080/",
          "height": 933
        }
      },
      "source": [
        "# train the model\n",
        "start = time.time()\n",
        "\n",
        "#checkpointer\n",
        "checkpointer = ModelCheckpoint(filepath=\"bestmodel_MBN_S4.h5\", verbose=0, \n",
        "                               save_best_only=True, monitor=\"val_accuracy\")\n",
        "# one cycle lr\n",
        "lr_manager = OneCycleLR(max_lr= hparams['learning_rate'],\n",
        "                        batch_size = hparams['batch_size'],\n",
        "                        samples = len(X_train),\n",
        "                        epochs = hparams['n_epochs'],\n",
        "                        maximum_momentum = hparams['momentum'],\n",
        "                        verbose=False)\n",
        "\n",
        "log_dir = \"logs/fit/MBN_S4/\" + datetime.datetime.now().strftime(\"%Y%m%d-%H%M%S\")\n",
        "tensorboard_callback = tf.keras.callbacks.TensorBoard(log_dir=log_dir,\n",
        "                                                      histogram_freq=1,\n",
        "                                                      profile_batch = '49')\n",
        "\n",
        "# Fit the model\n",
        "history = net.fit(datagen.flow(X_train, y_train, \n",
        "                  batch_size= hparams['batch_size'], \n",
        "                  shuffle=True),\n",
        "                  epochs = hparams['n_epochs'], \n",
        "                  steps_per_epoch= np.ceil(X_train.shape[0]/hparams['batch_size']),\n",
        "                  validation_data=(X_test, y_test),\n",
        "                  callbacks = [lr_manager, checkpointer, tensorboard_callback])\n",
        "end = time.time()\n",
        "print (\"Model took %0.2f seconds to train\"%(end - start))"
      ],
      "execution_count": 34,
      "outputs": [
        {
          "output_type": "stream",
          "text": [
            "Epoch 1/24\n",
            "98/98 [==============================] - 12s 122ms/step - loss: 1.4957 - accuracy: 0.4788 - val_loss: 2.0679 - val_accuracy: 0.2773\n",
            "Epoch 2/24\n",
            "98/98 [==============================] - 12s 118ms/step - loss: 0.8780 - accuracy: 0.7140 - val_loss: 1.1740 - val_accuracy: 0.5848\n",
            "Epoch 3/24\n",
            "98/98 [==============================] - 12s 118ms/step - loss: 0.6783 - accuracy: 0.7898 - val_loss: 1.6170 - val_accuracy: 0.5738\n",
            "Epoch 4/24\n",
            "98/98 [==============================] - 12s 119ms/step - loss: 0.5928 - accuracy: 0.8214 - val_loss: 1.0321 - val_accuracy: 0.7118\n",
            "Epoch 5/24\n",
            "98/98 [==============================] - 12s 118ms/step - loss: 0.5398 - accuracy: 0.8419 - val_loss: 0.7996 - val_accuracy: 0.7717\n",
            "Epoch 6/24\n",
            "98/98 [==============================] - 12s 118ms/step - loss: 0.5079 - accuracy: 0.8589 - val_loss: 0.9125 - val_accuracy: 0.7502\n",
            "Epoch 7/24\n",
            "98/98 [==============================] - 12s 118ms/step - loss: 0.4838 - accuracy: 0.8693 - val_loss: 0.8037 - val_accuracy: 0.7805\n",
            "Epoch 8/24\n",
            "98/98 [==============================] - 12s 117ms/step - loss: 0.4712 - accuracy: 0.8769 - val_loss: 1.0060 - val_accuracy: 0.7481\n",
            "Epoch 9/24\n",
            "98/98 [==============================] - 12s 118ms/step - loss: 0.4612 - accuracy: 0.8854 - val_loss: 0.6987 - val_accuracy: 0.8247\n",
            "Epoch 10/24\n",
            "98/98 [==============================] - 12s 118ms/step - loss: 0.4536 - accuracy: 0.8904 - val_loss: 0.6890 - val_accuracy: 0.8257\n",
            "Epoch 11/24\n",
            "98/98 [==============================] - 11s 117ms/step - loss: 0.4497 - accuracy: 0.8960 - val_loss: 0.7939 - val_accuracy: 0.8025\n",
            "Epoch 12/24\n",
            "98/98 [==============================] - 12s 118ms/step - loss: 0.4415 - accuracy: 0.9022 - val_loss: 0.5246 - val_accuracy: 0.8783\n",
            "Epoch 13/24\n",
            "98/98 [==============================] - 12s 118ms/step - loss: 0.4087 - accuracy: 0.9161 - val_loss: 0.6147 - val_accuracy: 0.8557\n",
            "Epoch 14/24\n",
            "98/98 [==============================] - 11s 117ms/step - loss: 0.3834 - accuracy: 0.9277 - val_loss: 0.6051 - val_accuracy: 0.8590\n",
            "Epoch 15/24\n",
            "98/98 [==============================] - 11s 117ms/step - loss: 0.3606 - accuracy: 0.9359 - val_loss: 0.5295 - val_accuracy: 0.8767\n",
            "Epoch 16/24\n",
            "98/98 [==============================] - 12s 118ms/step - loss: 0.3434 - accuracy: 0.9416 - val_loss: 0.6285 - val_accuracy: 0.8590\n",
            "Epoch 17/24\n",
            "98/98 [==============================] - 11s 117ms/step - loss: 0.3215 - accuracy: 0.9492 - val_loss: 0.5669 - val_accuracy: 0.8717\n",
            "Epoch 18/24\n",
            "98/98 [==============================] - 12s 118ms/step - loss: 0.3027 - accuracy: 0.9549 - val_loss: 0.5494 - val_accuracy: 0.8790\n",
            "Epoch 19/24\n",
            "98/98 [==============================] - 12s 120ms/step - loss: 0.2824 - accuracy: 0.9618 - val_loss: 0.4605 - val_accuracy: 0.9018\n",
            "Epoch 20/24\n",
            "98/98 [==============================] - 12s 118ms/step - loss: 0.2608 - accuracy: 0.9698 - val_loss: 0.4377 - val_accuracy: 0.9114\n",
            "Epoch 21/24\n",
            "98/98 [==============================] - 11s 117ms/step - loss: 0.2409 - accuracy: 0.9759 - val_loss: 0.4413 - val_accuracy: 0.9106\n",
            "Epoch 22/24\n",
            "98/98 [==============================] - 12s 118ms/step - loss: 0.2212 - accuracy: 0.9821 - val_loss: 0.3919 - val_accuracy: 0.9267\n",
            "Epoch 23/24\n",
            "98/98 [==============================] - 12s 117ms/step - loss: 0.2065 - accuracy: 0.9869 - val_loss: 0.4014 - val_accuracy: 0.9241\n",
            "Epoch 24/24\n",
            "98/98 [==============================] - 12s 118ms/step - loss: 0.1978 - accuracy: 0.9891 - val_loss: 0.3768 - val_accuracy: 0.9322\n",
            "Model took 283.33 seconds to train\n"
          ],
          "name": "stdout"
        }
      ]
    },
    {
      "cell_type": "markdown",
      "metadata": {
        "colab_type": "text",
        "id": "TV_OjSDViDxL"
      },
      "source": [
        "## Model Evaluation"
      ]
    },
    {
      "cell_type": "code",
      "metadata": {
        "colab_type": "code",
        "id": "kdjlF9PFiDxN",
        "outputId": "b01e1852-31d8-4607-e63d-f21d70ff0ba7",
        "colab": {
          "base_uri": "https://localhost:8080/",
          "height": 73
        }
      },
      "source": [
        "# load the model\n",
        "from tensorflow.keras.models import load_model\n",
        "bestmodel = load_model(\"bestmodel_MBN_S4.h5\", custom_objects={'init_pytorch': init_pytorch,\n",
        "                                                              'BatchNorm': BatchNorm})\n",
        "\n",
        "# Evaluation\n",
        "score= net.evaluate(X_test, y_test, batch_size=hparams['batch_size'], verbose=1)\n",
        "print(\"Minimal Validation Loss : \", score[0])\n",
        "print(\"Max Validation Accuracy:\", score[1]*100, \"%\")"
      ],
      "execution_count": 35,
      "outputs": [
        {
          "output_type": "stream",
          "text": [
            "20/20 [==============================] - 1s 29ms/step - loss: 0.3768 - accuracy: 0.9322\n",
            "Minimal Validation Loss :  0.37678152322769165\n",
            "Max Validation Accuracy: 93.2200014591217 %\n"
          ],
          "name": "stdout"
        }
      ]
    },
    {
      "cell_type": "markdown",
      "metadata": {
        "colab_type": "text",
        "id": "my74eG4GGYT2"
      },
      "source": [
        "## Tensorboard"
      ]
    },
    {
      "cell_type": "code",
      "metadata": {
        "colab_type": "code",
        "id": "G4UhZ3SkGYT6",
        "colab": {}
      },
      "source": [
        "%tensorboard --logdir logs/fit/MBN_S4/"
      ],
      "execution_count": 0,
      "outputs": []
    },
    {
      "cell_type": "markdown",
      "metadata": {
        "colab_type": "text",
        "id": "c959yQa9iDxW"
      },
      "source": [
        "## Plot Loss and Accuracy History"
      ]
    },
    {
      "cell_type": "code",
      "metadata": {
        "colab_type": "code",
        "id": "VC7FY1eLiDxX",
        "outputId": "0b051198-1a2a-470d-fdb4-25b143a291b2",
        "colab": {
          "base_uri": "https://localhost:8080/",
          "height": 426
        }
      },
      "source": [
        "def plot_model_history(history):\n",
        "    fig, axs = plt.subplots(1,2,figsize=(15,5))\n",
        "    \n",
        "    # summarize history for accuracy\n",
        "    axs[0].plot(range(1,len(history.history['accuracy'])+1),history.history['accuracy'])\n",
        "    axs[0].plot(range(1,len(history.history['val_accuracy'])+1),history.history['val_accuracy'])\n",
        "    axs[0].set_title('Model Accuracy')\n",
        "    axs[0].set_ylabel('Accuracy')\n",
        "    axs[0].set_xlabel('Epoch')\n",
        "    axs[0].set_xticks(np.arange(1,len(history.history['accuracy'])+1),len(history.history['accuracy'])/10)\n",
        "    axs[0].legend(['train', 'val'], loc='best')\n",
        "    \n",
        "    # summarize history for loss\n",
        "    axs[1].plot(range(1,len(history.history['loss'])+1), history.history['loss'])\n",
        "    axs[1].plot(range(1,len(history.history['val_loss'])+1), history.history['val_loss'])\n",
        "    axs[1].set_title('Model Loss')\n",
        "    axs[1].set_ylabel('Loss')\n",
        "    axs[1].set_xlabel('Epoch')\n",
        "    axs[1].set_xticks(np.arange(1,len(history.history['loss'])+1),len(history.history['loss'])/10)\n",
        "    axs[1].legend(['train', 'val'], loc='best')\n",
        "    plt.show()\n",
        "\n",
        "# plot model history\n",
        "plot_model_history(history)"
      ],
      "execution_count": 37,
      "outputs": [
        {
          "output_type": "stream",
          "text": [
            "/usr/local/lib/python3.6/dist-packages/ipykernel_launcher.py:10: MatplotlibDeprecationWarning: Passing the minor parameter of set_xticks() positionally is deprecated since Matplotlib 3.2; the parameter will become keyword-only two minor releases later.\n",
            "  # Remove the CWD from sys.path while we load stuff.\n",
            "/usr/local/lib/python3.6/dist-packages/ipykernel_launcher.py:19: MatplotlibDeprecationWarning: Passing the minor parameter of set_xticks() positionally is deprecated since Matplotlib 3.2; the parameter will become keyword-only two minor releases later.\n"
          ],
          "name": "stderr"
        },
        {
          "output_type": "display_data",
          "data": {
            "image/png": "[encoded data removed]",
            "text/plain": [
              "<Figure size 1080x360 with 2 Axes>"
            ]
          },
          "metadata": {
            "tags": [],
            "needs_background": "light"
          }
        }
      ]
    },
    {
      "cell_type": "markdown",
      "metadata": {
        "colab_type": "text",
        "id": "a4NceXtJiY0l"
      },
      "source": [
        "# 4. Model with Original Batch Normalization Stride 8 - 30 epochs"
      ]
    },
    {
      "cell_type": "markdown",
      "metadata": {
        "colab_type": "text",
        "id": "vezRTPIBiY0x"
      },
      "source": [
        "## Network Architecture (ResNet 9)"
      ]
    },
    {
      "cell_type": "code",
      "metadata": {
        "colab_type": "code",
        "id": "BscncxGQiY04",
        "colab": {}
      },
      "source": [
        "# PyTorch’s default way to set the initial, random weights of layers does not have \n",
        "# a counterpart in Tensorflow, so we borrow that\n",
        "\n",
        "def init_pytorch(shape, dtype=tf.float32, partition_info=None):\n",
        "    fan = np.prod(shape[:-1])\n",
        "    bound = 1 / math.sqrt(fan)\n",
        "    return tf.random.uniform(shape, minval=-bound, maxval=bound, dtype=dtype)"
      ],
      "execution_count": 0,
      "outputs": []
    },
    {
      "cell_type": "code",
      "metadata": {
        "colab_type": "code",
        "id": "cFmq8tMwiY1G",
        "colab": {}
      },
      "source": [
        "def Resnet9(input_dim, n_classes): \n",
        "    inputs = Input(shape= input_dim, name='input')\n",
        "\n",
        "    # Define the repeated conv_bn_relu function\n",
        "    def conv_bn_relu(x, layer_name, pool=False):\n",
        "        channels = {'prep': 64, 'layer1': 128, 'layer2': 256, 'layer3': 256}\n",
        "        x = Conv2D(filters = channels[layer_name], \n",
        "                   kernel_size = 3, \n",
        "                   strides = 1, \n",
        "                   padding = 'same',\n",
        "                   kernel_initializer=init_pytorch,\n",
        "                   kernel_regularizer=l2(hparams['decay']),\n",
        "                   use_bias=False)(x)\n",
        "        # x = BatchNormalization(momentum=0.9, epsilon=1e-5)(x)\n",
        "        # Applying MODIFIED Batch Normalization with stride 8\n",
        "        x = BatchNorm(stride=8)(x)\n",
        "        x = ReLU()(x)\n",
        "        if pool==True:\n",
        "            x = MaxPooling2D(2)(x)\n",
        "        return x        \n",
        "\n",
        "    # Stack the layers\n",
        "    # Layer Prep\n",
        "    layer_prep = conv_bn_relu(inputs, 'prep')\n",
        "\n",
        "    # Layer 1\n",
        "    layer1_part1 = conv_bn_relu(layer_prep, 'layer1', pool=True)  \n",
        "    layer1_part2_res1 = conv_bn_relu(layer1_part1, 'layer1')\n",
        "    layer1_part2_res2 = conv_bn_relu(layer1_part2_res1, 'layer1')\n",
        "    layer1 = Add()([layer1_part1, layer1_part2_res2])\n",
        "    \n",
        "    # Layer 2\n",
        "    layer2_part1 = conv_bn_relu(layer1, 'layer2', pool=True)  \n",
        "    layer2_part2_res1 = conv_bn_relu(layer2_part1, 'layer2')\n",
        "    layer2_part2_res2 = conv_bn_relu(layer2_part2_res1, 'layer2')\n",
        "    layer2 = Add()([layer2_part1, layer2_part2_res2])\n",
        "\n",
        "    # Layer 3\n",
        "    layer3 = conv_bn_relu(layer2, 'layer3', pool=True)\n",
        "\n",
        "    # Layer Classifier\n",
        "    layer_classifier = GlobalMaxPool2D()(layer3)\n",
        "    layer_classifier = Flatten()(layer_classifier)\n",
        "    layer_classifier = Dense(n_classes, kernel_initializer= init_pytorch,\n",
        "                           kernel_regularizer=l2(hparams['decay']),\n",
        "                           use_bias=False, name='classifier')(layer_classifier)\n",
        "    layer_classifier = Lambda(lambda x : x * 0.2)(layer_classifier)\n",
        "\n",
        "    outputs = Softmax()(layer_classifier)\n",
        "\n",
        "    model = Model(inputs, outputs)\n",
        "    model.compile(loss='categorical_crossentropy',\n",
        "                optimizer=SGD(lr= hparams['learning_rate'], momentum= hparams['momentum'], \n",
        "                              nesterov=True),\n",
        "                metrics=['accuracy'])\n",
        "    return model"
      ],
      "execution_count": 0,
      "outputs": []
    },
    {
      "cell_type": "code",
      "metadata": {
        "colab_type": "code",
        "id": "oKPg85lKiY1S",
        "outputId": "1f0de902-9c14-4e13-d4bd-7a10af3d27cb",
        "colab": {
          "base_uri": "https://localhost:8080/",
          "height": 1000
        }
      },
      "source": [
        "# Model Summary\n",
        "input_dim = X_train.shape[1:]\n",
        "net = Resnet9(input_dim, num_classes)\n",
        "net.summary()"
      ],
      "execution_count": 40,
      "outputs": [
        {
          "output_type": "stream",
          "text": [
            "Model: \"model_4\"\n",
            "__________________________________________________________________________________________________\n",
            "Layer (type)                    Output Shape         Param #     Connected to                     \n",
            "==================================================================================================\n",
            "input (InputLayer)              [(None, 32, 32, 3)]  0                                            \n",
            "__________________________________________________________________________________________________\n",
            "conv2d_32 (Conv2D)              (None, 32, 32, 64)   1728        input[0][0]                      \n",
            "__________________________________________________________________________________________________\n",
            "batch_norm_32 (BatchNorm)       (None, 32, 32, 64)   256         conv2d_32[0][0]                  \n",
            "__________________________________________________________________________________________________\n",
            "re_lu_32 (ReLU)                 (None, 32, 32, 64)   0           batch_norm_32[0][0]              \n",
            "__________________________________________________________________________________________________\n",
            "conv2d_33 (Conv2D)              (None, 32, 32, 128)  73728       re_lu_32[0][0]                   \n",
            "__________________________________________________________________________________________________\n",
            "batch_norm_33 (BatchNorm)       (None, 32, 32, 128)  512         conv2d_33[0][0]                  \n",
            "__________________________________________________________________________________________________\n",
            "re_lu_33 (ReLU)                 (None, 32, 32, 128)  0           batch_norm_33[0][0]              \n",
            "__________________________________________________________________________________________________\n",
            "max_pooling2d_12 (MaxPooling2D) (None, 16, 16, 128)  0           re_lu_33[0][0]                   \n",
            "__________________________________________________________________________________________________\n",
            "conv2d_34 (Conv2D)              (None, 16, 16, 128)  147456      max_pooling2d_12[0][0]           \n",
            "__________________________________________________________________________________________________\n",
            "batch_norm_34 (BatchNorm)       (None, 16, 16, 128)  512         conv2d_34[0][0]                  \n",
            "__________________________________________________________________________________________________\n",
            "re_lu_34 (ReLU)                 (None, 16, 16, 128)  0           batch_norm_34[0][0]              \n",
            "__________________________________________________________________________________________________\n",
            "conv2d_35 (Conv2D)              (None, 16, 16, 128)  147456      re_lu_34[0][0]                   \n",
            "__________________________________________________________________________________________________\n",
            "batch_norm_35 (BatchNorm)       (None, 16, 16, 128)  512         conv2d_35[0][0]                  \n",
            "__________________________________________________________________________________________________\n",
            "re_lu_35 (ReLU)                 (None, 16, 16, 128)  0           batch_norm_35[0][0]              \n",
            "__________________________________________________________________________________________________\n",
            "add_8 (Add)                     (None, 16, 16, 128)  0           max_pooling2d_12[0][0]           \n",
            "                                                                 re_lu_35[0][0]                   \n",
            "__________________________________________________________________________________________________\n",
            "conv2d_36 (Conv2D)              (None, 16, 16, 256)  294912      add_8[0][0]                      \n",
            "__________________________________________________________________________________________________\n",
            "batch_norm_36 (BatchNorm)       (None, 16, 16, 256)  1024        conv2d_36[0][0]                  \n",
            "__________________________________________________________________________________________________\n",
            "re_lu_36 (ReLU)                 (None, 16, 16, 256)  0           batch_norm_36[0][0]              \n",
            "__________________________________________________________________________________________________\n",
            "max_pooling2d_13 (MaxPooling2D) (None, 8, 8, 256)    0           re_lu_36[0][0]                   \n",
            "__________________________________________________________________________________________________\n",
            "conv2d_37 (Conv2D)              (None, 8, 8, 256)    589824      max_pooling2d_13[0][0]           \n",
            "__________________________________________________________________________________________________\n",
            "batch_norm_37 (BatchNorm)       (None, 8, 8, 256)    1024        conv2d_37[0][0]                  \n",
            "__________________________________________________________________________________________________\n",
            "re_lu_37 (ReLU)                 (None, 8, 8, 256)    0           batch_norm_37[0][0]              \n",
            "__________________________________________________________________________________________________\n",
            "conv2d_38 (Conv2D)              (None, 8, 8, 256)    589824      re_lu_37[0][0]                   \n",
            "__________________________________________________________________________________________________\n",
            "batch_norm_38 (BatchNorm)       (None, 8, 8, 256)    1024        conv2d_38[0][0]                  \n",
            "__________________________________________________________________________________________________\n",
            "re_lu_38 (ReLU)                 (None, 8, 8, 256)    0           batch_norm_38[0][0]              \n",
            "__________________________________________________________________________________________________\n",
            "add_9 (Add)                     (None, 8, 8, 256)    0           max_pooling2d_13[0][0]           \n",
            "                                                                 re_lu_38[0][0]                   \n",
            "__________________________________________________________________________________________________\n",
            "conv2d_39 (Conv2D)              (None, 8, 8, 256)    589824      add_9[0][0]                      \n",
            "__________________________________________________________________________________________________\n",
            "batch_norm_39 (BatchNorm)       (None, 8, 8, 256)    1024        conv2d_39[0][0]                  \n",
            "__________________________________________________________________________________________________\n",
            "re_lu_39 (ReLU)                 (None, 8, 8, 256)    0           batch_norm_39[0][0]              \n",
            "__________________________________________________________________________________________________\n",
            "max_pooling2d_14 (MaxPooling2D) (None, 4, 4, 256)    0           re_lu_39[0][0]                   \n",
            "__________________________________________________________________________________________________\n",
            "global_max_pooling2d_4 (GlobalM (None, 256)          0           max_pooling2d_14[0][0]           \n",
            "__________________________________________________________________________________________________\n",
            "flatten_4 (Flatten)             (None, 256)          0           global_max_pooling2d_4[0][0]     \n",
            "__________________________________________________________________________________________________\n",
            "classifier (Dense)              (None, 10)           2560        flatten_4[0][0]                  \n",
            "__________________________________________________________________________________________________\n",
            "lambda_4 (Lambda)               (None, 10)           0           classifier[0][0]                 \n",
            "__________________________________________________________________________________________________\n",
            "softmax_4 (Softmax)             (None, 10)           0           lambda_4[0][0]                   \n",
            "==================================================================================================\n",
            "Total params: 2,443,200\n",
            "Trainable params: 2,440,256\n",
            "Non-trainable params: 2,944\n",
            "__________________________________________________________________________________________________\n"
          ],
          "name": "stdout"
        }
      ]
    },
    {
      "cell_type": "markdown",
      "metadata": {
        "colab_type": "text",
        "id": "zOLEpWI1iY1a"
      },
      "source": [
        "## Model Training"
      ]
    },
    {
      "cell_type": "code",
      "metadata": {
        "colab_type": "code",
        "id": "DIpwEfE-iY1c",
        "outputId": "dffcaf73-f287-4818-f00c-af8bb7a66f3c",
        "colab": {
          "base_uri": "https://localhost:8080/",
          "height": 933
        }
      },
      "source": [
        "# train the model\n",
        "start = time.time()\n",
        "\n",
        "#checkpointer\n",
        "checkpointer = ModelCheckpoint(filepath=\"bestmodel_MBN_S8.h5\", verbose=0, \n",
        "                               save_best_only=True, monitor=\"val_accuracy\")\n",
        "# one cycle lr\n",
        "lr_manager = OneCycleLR(max_lr= hparams['learning_rate'],\n",
        "                        batch_size = hparams['batch_size'],\n",
        "                        samples = len(X_train),\n",
        "                        epochs = hparams['n_epochs'],\n",
        "                        maximum_momentum = hparams['momentum'],\n",
        "                        verbose=False)\n",
        "\n",
        "log_dir = \"logs/fit/MBN_S8/\" + datetime.datetime.now().strftime(\"%Y%m%d-%H%M%S\")\n",
        "tensorboard_callback = tf.keras.callbacks.TensorBoard(log_dir=log_dir,\n",
        "                                                      histogram_freq=1,\n",
        "                                                      profile_batch = '49')\n",
        "\n",
        "# Fit the model\n",
        "history = net.fit(datagen.flow(X_train, y_train, \n",
        "                  batch_size= hparams['batch_size'], \n",
        "                  shuffle=True),\n",
        "                  epochs = hparams['n_epochs'], \n",
        "                  steps_per_epoch= np.ceil(X_train.shape[0]/hparams['batch_size']),\n",
        "                  validation_data=(X_test, y_test),\n",
        "                  callbacks = [lr_manager, checkpointer, tensorboard_callback])\n",
        "end = time.time()\n",
        "print (\"Model took %0.2f seconds to train\"%(end - start))"
      ],
      "execution_count": 41,
      "outputs": [
        {
          "output_type": "stream",
          "text": [
            "Epoch 1/24\n",
            "98/98 [==============================] - 12s 122ms/step - loss: 1.4809 - accuracy: 0.4893 - val_loss: 2.0894 - val_accuracy: 0.2927\n",
            "Epoch 2/24\n",
            "98/98 [==============================] - 12s 119ms/step - loss: 0.8803 - accuracy: 0.7125 - val_loss: 1.2490 - val_accuracy: 0.5739\n",
            "Epoch 3/24\n",
            "98/98 [==============================] - 12s 118ms/step - loss: 0.6897 - accuracy: 0.7845 - val_loss: 1.1067 - val_accuracy: 0.6449\n",
            "Epoch 4/24\n",
            "98/98 [==============================] - 12s 118ms/step - loss: 0.5974 - accuracy: 0.8180 - val_loss: 0.9463 - val_accuracy: 0.7136\n",
            "Epoch 5/24\n",
            "98/98 [==============================] - 12s 118ms/step - loss: 0.5479 - accuracy: 0.8399 - val_loss: 1.0821 - val_accuracy: 0.6980\n",
            "Epoch 6/24\n",
            "98/98 [==============================] - 12s 119ms/step - loss: 0.5100 - accuracy: 0.8556 - val_loss: 0.9225 - val_accuracy: 0.7500\n",
            "Epoch 7/24\n",
            "98/98 [==============================] - 12s 118ms/step - loss: 0.4947 - accuracy: 0.8639 - val_loss: 0.8193 - val_accuracy: 0.7828\n",
            "Epoch 8/24\n",
            "98/98 [==============================] - 12s 118ms/step - loss: 0.4714 - accuracy: 0.8772 - val_loss: 0.6994 - val_accuracy: 0.8096\n",
            "Epoch 9/24\n",
            "98/98 [==============================] - 12s 118ms/step - loss: 0.4601 - accuracy: 0.8850 - val_loss: 1.0097 - val_accuracy: 0.7229\n",
            "Epoch 10/24\n",
            "98/98 [==============================] - 11s 117ms/step - loss: 0.4633 - accuracy: 0.8870 - val_loss: 0.7884 - val_accuracy: 0.8043\n",
            "Epoch 11/24\n",
            "98/98 [==============================] - 12s 118ms/step - loss: 0.4548 - accuracy: 0.8934 - val_loss: 0.7461 - val_accuracy: 0.8210\n",
            "Epoch 12/24\n",
            "98/98 [==============================] - 11s 117ms/step - loss: 0.4351 - accuracy: 0.9043 - val_loss: 0.7199 - val_accuracy: 0.8196\n",
            "Epoch 13/24\n",
            "98/98 [==============================] - 12s 118ms/step - loss: 0.4182 - accuracy: 0.9125 - val_loss: 0.5600 - val_accuracy: 0.8691\n",
            "Epoch 14/24\n",
            "98/98 [==============================] - 11s 117ms/step - loss: 0.3872 - accuracy: 0.9264 - val_loss: 0.6771 - val_accuracy: 0.8362\n",
            "Epoch 15/24\n",
            "98/98 [==============================] - 12s 118ms/step - loss: 0.3701 - accuracy: 0.9325 - val_loss: 0.6023 - val_accuracy: 0.8525\n",
            "Epoch 16/24\n",
            "98/98 [==============================] - 12s 119ms/step - loss: 0.3461 - accuracy: 0.9415 - val_loss: 0.4717 - val_accuracy: 0.9001\n",
            "Epoch 17/24\n",
            "98/98 [==============================] - 11s 117ms/step - loss: 0.3230 - accuracy: 0.9491 - val_loss: 0.5044 - val_accuracy: 0.8898\n",
            "Epoch 18/24\n",
            "98/98 [==============================] - 12s 117ms/step - loss: 0.3024 - accuracy: 0.9559 - val_loss: 0.4694 - val_accuracy: 0.8997\n",
            "Epoch 19/24\n",
            "98/98 [==============================] - 11s 117ms/step - loss: 0.2815 - accuracy: 0.9625 - val_loss: 0.5038 - val_accuracy: 0.8960\n",
            "Epoch 20/24\n",
            "98/98 [==============================] - 12s 118ms/step - loss: 0.2625 - accuracy: 0.9690 - val_loss: 0.4628 - val_accuracy: 0.9037\n",
            "Epoch 21/24\n",
            "98/98 [==============================] - 12s 118ms/step - loss: 0.2433 - accuracy: 0.9751 - val_loss: 0.4449 - val_accuracy: 0.9121\n",
            "Epoch 22/24\n",
            "98/98 [==============================] - 12s 118ms/step - loss: 0.2234 - accuracy: 0.9810 - val_loss: 0.4007 - val_accuracy: 0.9215\n",
            "Epoch 23/24\n",
            "98/98 [==============================] - 12s 118ms/step - loss: 0.2084 - accuracy: 0.9865 - val_loss: 0.3968 - val_accuracy: 0.9275\n",
            "Epoch 24/24\n",
            "98/98 [==============================] - 12s 118ms/step - loss: 0.1990 - accuracy: 0.9891 - val_loss: 0.3686 - val_accuracy: 0.9324\n",
            "Model took 283.02 seconds to train\n"
          ],
          "name": "stdout"
        }
      ]
    },
    {
      "cell_type": "markdown",
      "metadata": {
        "colab_type": "text",
        "id": "TaapSIqsiY1j"
      },
      "source": [
        "## Model Evaluation"
      ]
    },
    {
      "cell_type": "code",
      "metadata": {
        "colab_type": "code",
        "id": "pUhRBoCFiY1k",
        "outputId": "159eb95c-1ac3-4559-a0e8-017b664bf8ae",
        "colab": {
          "base_uri": "https://localhost:8080/",
          "height": 73
        }
      },
      "source": [
        "# load the model\n",
        "from tensorflow.keras.models import load_model\n",
        "bestmodel = load_model(\"bestmodel_MBN_S8.h5\", custom_objects={'init_pytorch': init_pytorch,\n",
        "                                                              'BatchNorm': BatchNorm})\n",
        "\n",
        "# Evaluation\n",
        "score= net.evaluate(X_test, y_test, batch_size=hparams['batch_size'], verbose=1)\n",
        "print(\"Minimal Validation Loss : \", score[0])\n",
        "print(\"Max Validation Accuracy:\", score[1]*100, \"%\")"
      ],
      "execution_count": 42,
      "outputs": [
        {
          "output_type": "stream",
          "text": [
            "20/20 [==============================] - 1s 29ms/step - loss: 0.3686 - accuracy: 0.9324\n",
            "Minimal Validation Loss :  0.3685568869113922\n",
            "Max Validation Accuracy: 93.23999881744385 %\n"
          ],
          "name": "stdout"
        }
      ]
    },
    {
      "cell_type": "markdown",
      "metadata": {
        "colab_type": "text",
        "id": "cKlao6gOGa38"
      },
      "source": [
        "## Tensorboard"
      ]
    },
    {
      "cell_type": "code",
      "metadata": {
        "colab_type": "code",
        "id": "fE3Rro3xGa39",
        "colab": {}
      },
      "source": [
        "%tensorboard --logdir logs/fit/MBN_S8/"
      ],
      "execution_count": 0,
      "outputs": []
    },
    {
      "cell_type": "markdown",
      "metadata": {
        "colab_type": "text",
        "id": "7Gr8AMPfiY1t"
      },
      "source": [
        "## Plot Loss and Accuracy History"
      ]
    },
    {
      "cell_type": "code",
      "metadata": {
        "colab_type": "code",
        "id": "LDg-1thRiY1u",
        "outputId": "c5676006-64cb-4e27-926f-87a0663c69e7",
        "colab": {
          "base_uri": "https://localhost:8080/",
          "height": 426
        }
      },
      "source": [
        "def plot_model_history(history):\n",
        "    fig, axs = plt.subplots(1,2,figsize=(15,5))\n",
        "    \n",
        "    # summarize history for accuracy\n",
        "    axs[0].plot(range(1,len(history.history['accuracy'])+1),history.history['accuracy'])\n",
        "    axs[0].plot(range(1,len(history.history['val_accuracy'])+1),history.history['val_accuracy'])\n",
        "    axs[0].set_title('Model Accuracy')\n",
        "    axs[0].set_ylabel('Accuracy')\n",
        "    axs[0].set_xlabel('Epoch')\n",
        "    axs[0].set_xticks(np.arange(1,len(history.history['accuracy'])+1),len(history.history['accuracy'])/10)\n",
        "    axs[0].legend(['train', 'val'], loc='best')\n",
        "    \n",
        "    # summarize history for loss\n",
        "    axs[1].plot(range(1,len(history.history['loss'])+1), history.history['loss'])\n",
        "    axs[1].plot(range(1,len(history.history['val_loss'])+1), history.history['val_loss'])\n",
        "    axs[1].set_title('Model Loss')\n",
        "    axs[1].set_ylabel('Loss')\n",
        "    axs[1].set_xlabel('Epoch')\n",
        "    axs[1].set_xticks(np.arange(1,len(history.history['loss'])+1),len(history.history['loss'])/10)\n",
        "    axs[1].legend(['train', 'val'], loc='best')\n",
        "    plt.show()\n",
        "\n",
        "# plot model history\n",
        "plot_model_history(history)"
      ],
      "execution_count": 44,
      "outputs": [
        {
          "output_type": "stream",
          "text": [
            "/usr/local/lib/python3.6/dist-packages/ipykernel_launcher.py:10: MatplotlibDeprecationWarning: Passing the minor parameter of set_xticks() positionally is deprecated since Matplotlib 3.2; the parameter will become keyword-only two minor releases later.\n",
            "  # Remove the CWD from sys.path while we load stuff.\n",
            "/usr/local/lib/python3.6/dist-packages/ipykernel_launcher.py:19: MatplotlibDeprecationWarning: Passing the minor parameter of set_xticks() positionally is deprecated since Matplotlib 3.2; the parameter will become keyword-only two minor releases later.\n"
          ],
          "name": "stderr"
        },
        {
          "output_type": "display_data",
          "data": {
            "image/png": "[encoded data removed]",
            "text/plain": [
              "<Figure size 1080x360 with 2 Axes>"
            ]
          },
          "metadata": {
            "tags": [],
            "needs_background": "light"
          }
        }
      ]
    },
    {
      "cell_type": "markdown",
      "metadata": {
        "id": "Wzk3omL5OL54",
        "colab_type": "text"
      },
      "source": [
        "# Download files and folders"
      ]
    },
    {
      "cell_type": "code",
      "metadata": {
        "id": "ze28c-2rOLep",
        "colab_type": "code",
        "outputId": "6e914f72-eab1-40f3-af8d-34672f160476",
        "colab": {
          "base_uri": "https://localhost:8080/",
          "height": 1000
        }
      },
      "source": [
        "!zip -r /content/logs_MBN.zip /content/logs\n",
        "\n",
        "from google.colab import files\n",
        "files.download(\"/content/logs_MBN.zip\")"
      ],
      "execution_count": 45,
      "outputs": [
        {
          "output_type": "stream",
          "text": [
            "  adding: content/logs/ (stored 0%)\n",
            "  adding: content/logs/fit/ (stored 0%)\n",
            "  adding: content/logs/fit/MBN_S4/ (stored 0%)\n",
            "  adding: content/logs/fit/MBN_S4/20200608-130219/ (stored 0%)\n",
            "  adding: content/logs/fit/MBN_S4/20200608-130219/train/ (stored 0%)\n",
            "  adding: content/logs/fit/MBN_S4/20200608-130219/train/plugins/ (stored 0%)\n",
            "  adding: content/logs/fit/MBN_S4/20200608-130219/train/plugins/profile/ (stored 0%)\n",
            "  adding: content/logs/fit/MBN_S4/20200608-130219/train/plugins/profile/2020_06_08_13_02_26/ (stored 0%)\n",
            "  adding: content/logs/fit/MBN_S4/20200608-130219/train/plugins/profile/2020_06_08_13_02_26/1e5e32eb4707.input_pipeline.pb (deflated 58%)\n",
            "  adding: content/logs/fit/MBN_S4/20200608-130219/train/plugins/profile/2020_06_08_13_02_26/1e5e32eb4707.tensorflow_stats.pb (deflated 77%)\n",
            "  adding: content/logs/fit/MBN_S4/20200608-130219/train/plugins/profile/2020_06_08_13_02_26/1e5e32eb4707.kernel_stats.pb (deflated 96%)\n",
            "  adding: content/logs/fit/MBN_S4/20200608-130219/train/plugins/profile/2020_06_08_13_02_26/1e5e32eb4707.trace.json.gz (deflated 3%)\n",
            "  adding: content/logs/fit/MBN_S4/20200608-130219/train/plugins/profile/2020_06_08_13_02_26/1e5e32eb4707.overview_page.pb (deflated 59%)\n",
            "  adding: content/logs/fit/MBN_S4/20200608-130219/train/events.out.tfevents.1591621340.1e5e32eb4707.122.140925.v2 (deflated 87%)\n",
            "  adding: content/logs/fit/MBN_S4/20200608-130219/train/events.out.tfevents.1591621346.1e5e32eb4707.profile-empty (deflated 5%)\n",
            "  adding: content/logs/fit/MBN_S4/20200608-130219/validation/ (stored 0%)\n",
            "  adding: content/logs/fit/MBN_S4/20200608-130219/validation/events.out.tfevents.1591621353.1e5e32eb4707.122.145065.v2 (deflated 62%)\n",
            "  adding: content/logs/fit/MBN_S1/ (stored 0%)\n",
            "  adding: content/logs/fit/MBN_S1/20200608-123452/ (stored 0%)\n",
            "  adding: content/logs/fit/MBN_S1/20200608-123452/train/ (stored 0%)\n",
            "  adding: content/logs/fit/MBN_S1/20200608-123452/train/events.out.tfevents.1591619706.1e5e32eb4707.profile-empty (deflated 5%)\n",
            "  adding: content/logs/fit/MBN_S1/20200608-123452/train/plugins/ (stored 0%)\n",
            "  adding: content/logs/fit/MBN_S1/20200608-123452/train/plugins/profile/ (stored 0%)\n",
            "  adding: content/logs/fit/MBN_S1/20200608-123452/train/plugins/profile/2020_06_08_12_35_06/ (stored 0%)\n",
            "  adding: content/logs/fit/MBN_S1/20200608-123452/train/plugins/profile/2020_06_08_12_35_06/1e5e32eb4707.input_pipeline.pb (deflated 57%)\n",
            "  adding: content/logs/fit/MBN_S1/20200608-123452/train/plugins/profile/2020_06_08_12_35_06/1e5e32eb4707.tensorflow_stats.pb (deflated 76%)\n",
            "  adding: content/logs/fit/MBN_S1/20200608-123452/train/plugins/profile/2020_06_08_12_35_06/1e5e32eb4707.kernel_stats.pb (deflated 96%)\n",
            "  adding: content/logs/fit/MBN_S1/20200608-123452/train/plugins/profile/2020_06_08_12_35_06/1e5e32eb4707.trace.json.gz (deflated 2%)\n",
            "  adding: content/logs/fit/MBN_S1/20200608-123452/train/plugins/profile/2020_06_08_12_35_06/1e5e32eb4707.overview_page.pb (deflated 58%)\n",
            "  adding: content/logs/fit/MBN_S1/20200608-123452/train/events.out.tfevents.1591619692.1e5e32eb4707.122.944.v2 (deflated 84%)\n",
            "  adding: content/logs/fit/MBN_S1/20200608-123452/validation/ (stored 0%)\n",
            "  adding: content/logs/fit/MBN_S1/20200608-123452/validation/events.out.tfevents.1591619713.1e5e32eb4707.122.5084.v2 (deflated 62%)\n",
            "  adding: content/logs/fit/MBN_S2/ (stored 0%)\n",
            "  adding: content/logs/fit/MBN_S2/20200608-125544/ (stored 0%)\n",
            "  adding: content/logs/fit/MBN_S2/20200608-125544/train/ (stored 0%)\n",
            "  adding: content/logs/fit/MBN_S2/20200608-125544/train/plugins/ (stored 0%)\n",
            "  adding: content/logs/fit/MBN_S2/20200608-125544/train/plugins/profile/ (stored 0%)\n",
            "  adding: content/logs/fit/MBN_S2/20200608-125544/train/plugins/profile/2020_06_08_12_55_47/ (stored 0%)\n",
            "  adding: content/logs/fit/MBN_S2/20200608-125544/train/plugins/profile/2020_06_08_12_55_47/1e5e32eb4707.input_pipeline.pb (deflated 53%)\n",
            "  adding: content/logs/fit/MBN_S2/20200608-125544/train/plugins/profile/2020_06_08_12_55_47/1e5e32eb4707.tensorflow_stats.pb (deflated 72%)\n",
            "  adding: content/logs/fit/MBN_S2/20200608-125544/train/plugins/profile/2020_06_08_12_55_47/1e5e32eb4707.kernel_stats.pb (deflated 96%)\n",
            "  adding: content/logs/fit/MBN_S2/20200608-125544/train/plugins/profile/2020_06_08_12_55_47/1e5e32eb4707.trace.json.gz (deflated 5%)\n",
            "  adding: content/logs/fit/MBN_S2/20200608-125544/train/plugins/profile/2020_06_08_12_55_47/1e5e32eb4707.overview_page.pb (deflated 56%)\n",
            "  adding: content/logs/fit/MBN_S2/20200608-125544/train/events.out.tfevents.1591620947.1e5e32eb4707.profile-empty (deflated 5%)\n",
            "  adding: content/logs/fit/MBN_S2/20200608-125544/train/events.out.tfevents.1591620944.1e5e32eb4707.122.62632.v2 (deflated 89%)\n",
            "  adding: content/logs/fit/MBN_S2/20200608-125544/validation/ (stored 0%)\n",
            "  adding: content/logs/fit/MBN_S2/20200608-125544/validation/events.out.tfevents.1591620957.1e5e32eb4707.122.66772.v2 (deflated 49%)\n",
            "  adding: content/logs/fit/MBN_S2/20200608-125731/ (stored 0%)\n",
            "  adding: content/logs/fit/MBN_S2/20200608-125731/train/ (stored 0%)\n",
            "  adding: content/logs/fit/MBN_S2/20200608-125731/train/plugins/ (stored 0%)\n",
            "  adding: content/logs/fit/MBN_S2/20200608-125731/train/plugins/profile/ (stored 0%)\n",
            "  adding: content/logs/fit/MBN_S2/20200608-125731/train/plugins/profile/2020_06_08_12_57_37/ (stored 0%)\n",
            "  adding: content/logs/fit/MBN_S2/20200608-125731/train/plugins/profile/2020_06_08_12_57_37/1e5e32eb4707.input_pipeline.pb (deflated 57%)\n",
            "  adding: content/logs/fit/MBN_S2/20200608-125731/train/plugins/profile/2020_06_08_12_57_37/1e5e32eb4707.tensorflow_stats.pb (deflated 76%)\n",
            "  adding: content/logs/fit/MBN_S2/20200608-125731/train/plugins/profile/2020_06_08_12_57_37/1e5e32eb4707.kernel_stats.pb (deflated 96%)\n",
            "  adding: content/logs/fit/MBN_S2/20200608-125731/train/plugins/profile/2020_06_08_12_57_37/1e5e32eb4707.trace.json.gz (deflated 3%)\n",
            "  adding: content/logs/fit/MBN_S2/20200608-125731/train/plugins/profile/2020_06_08_12_57_37/1e5e32eb4707.overview_page.pb (deflated 59%)\n",
            "  adding: content/logs/fit/MBN_S2/20200608-125731/train/events.out.tfevents.1591621057.1e5e32eb4707.profile-empty (deflated 5%)\n",
            "  adding: content/logs/fit/MBN_S2/20200608-125731/train/events.out.tfevents.1591621051.1e5e32eb4707.122.78817.v2 (deflated 87%)\n",
            "  adding: content/logs/fit/MBN_S2/20200608-125731/validation/ (stored 0%)\n",
            "  adding: content/logs/fit/MBN_S2/20200608-125731/validation/events.out.tfevents.1591621064.1e5e32eb4707.122.82957.v2 (deflated 62%)\n",
            "  adding: content/logs/fit/MBN_S8/ (stored 0%)\n",
            "  adding: content/logs/fit/MBN_S8/20200608-130707/ (stored 0%)\n",
            "  adding: content/logs/fit/MBN_S8/20200608-130707/train/ (stored 0%)\n",
            "  adding: content/logs/fit/MBN_S8/20200608-130707/train/plugins/ (stored 0%)\n",
            "  adding: content/logs/fit/MBN_S8/20200608-130707/train/plugins/profile/ (stored 0%)\n",
            "  adding: content/logs/fit/MBN_S8/20200608-130707/train/plugins/profile/2020_06_08_13_07_14/ (stored 0%)\n",
            "  adding: content/logs/fit/MBN_S8/20200608-130707/train/plugins/profile/2020_06_08_13_07_14/1e5e32eb4707.input_pipeline.pb (deflated 57%)\n",
            "  adding: content/logs/fit/MBN_S8/20200608-130707/train/plugins/profile/2020_06_08_13_07_14/1e5e32eb4707.tensorflow_stats.pb (deflated 77%)\n",
            "  adding: content/logs/fit/MBN_S8/20200608-130707/train/plugins/profile/2020_06_08_13_07_14/1e5e32eb4707.kernel_stats.pb (deflated 96%)\n",
            "  adding: content/logs/fit/MBN_S8/20200608-130707/train/plugins/profile/2020_06_08_13_07_14/1e5e32eb4707.trace.json.gz (deflated 2%)\n",
            "  adding: content/logs/fit/MBN_S8/20200608-130707/train/plugins/profile/2020_06_08_13_07_14/1e5e32eb4707.overview_page.pb (deflated 59%)\n",
            "  adding: content/logs/fit/MBN_S8/20200608-130707/train/events.out.tfevents.1591621627.1e5e32eb4707.122.202613.v2 (deflated 88%)\n",
            "  adding: content/logs/fit/MBN_S8/20200608-130707/train/events.out.tfevents.1591621634.1e5e32eb4707.profile-empty (deflated 5%)\n",
            "  adding: content/logs/fit/MBN_S8/20200608-130707/validation/ (stored 0%)\n",
            "  adding: content/logs/fit/MBN_S8/20200608-130707/validation/events.out.tfevents.1591621640.1e5e32eb4707.122.206753.v2 (deflated 61%)\n"
          ],
          "name": "stdout"
        }
      ]
    }
  ]
}